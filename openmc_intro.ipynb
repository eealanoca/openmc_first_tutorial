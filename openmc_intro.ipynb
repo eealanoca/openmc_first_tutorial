{
 "cells": [
  {
   "cell_type": "markdown",
   "id": "7a5208ed-e2a0-46c6-9767-944348a8faa7",
   "metadata": {},
   "source": [
    "# Modeling a Pin-Cell\n",
    "In this module, we'll demonstrate the basic features of the Python API for constructing input files and running OpenMC. In it, we will show how to create a basic reflective pin-cell model that is equivalent to modeling an infinite array of fuel pins. We highly recommend having a copy of the [Python API reference documentation](https://docs.openmc.org/en/stable/pythonapi/index.html) open in another browser tab that you can refer to."
   ]
  },
  {
   "cell_type": "markdown",
   "id": "9e144077-cc50-47ca-9074-bf94aa201f90",
   "metadata": {},
   "source": [
    "For this example, we'll create a pin-cell of the CEFR fuel assembly with simplified material compositions. More accurate material compositions will be applied as part of the exercise at the end of the day.\n",
    "\n",
    "- UO<sub>2</sub>\n",
    "- Helium\n",
    "- Sodium\n",
    "- Stainless Steel\n",
    "\n",
    "all at a temperature of 523.15 K.\n",
    "\n",
    "The dimensions of our fuel pin will be as follows:\n",
    "- Fuel pin center hold radius = 0.08020 cm\n",
    "- Fuel outer radius = 0.0.25565 cm\n",
    "- Clad inner radius = 0.27112 cm\n",
    "- Clad outer radius = 0.30499 cm\n",
    "- Fuel pin pitch = 0.695 cm"
   ]
  },
  {
   "cell_type": "code",
   "execution_count": 1,
   "id": "1764c9a3-3c64-4534-bf6e-923f0a0121f3",
   "metadata": {},
   "outputs": [],
   "source": [
    "import openmc"
   ]
  },
  {
   "cell_type": "code",
   "execution_count": 2,
   "id": "1c1ace72-54f6-4d02-adf0-5780dcf3f8fb",
   "metadata": {},
   "outputs": [],
   "source": [
    "# remote any existing OpenMC input XMl files and output HDF5 files\n",
    "!rm *.xml *.h5"
   ]
  },
  {
   "cell_type": "markdown",
   "id": "0e182649-5603-43e3-aa9b-f3236016bc00",
   "metadata": {},
   "source": [
    "## Naming Conventions\n",
    "\n",
    "Before we start working with the Python API, it's helpful to understand the naming convention of objects so that you can conceptualize what is a function, what is a class, etc. OpenMC's Python interface follows the same naming convention that is adopted by many/most Python projects:\n",
    "\n",
    "- Module names are `lowercase`\n",
    "- Functions are `lowercase_with_underscores`\n",
    "- Classes are `CamelCase`\n",
    "- Class attributes/variables are `lowercase_with_underscores`\n",
    "- Top-level (global) variables are `UPPERCASE_WITH_UNDERSCORES`\n",
    "\n",
    "To give a few specific examples:\n",
    "\n",
    "- `openmc.deplete` is the depletion _module_\n",
    "- `openmc.run` is a _function_\n",
    "- `openmc.Material` is a _class_\n",
    "- `openmc.data.ATOMIC_NUMBER` is a _top-level variable_"
   ]
  },
  {
   "cell_type": "markdown",
   "id": "00efae75-0c00-47ec-90b7-ee63b6c28154",
   "metadata": {},
   "source": [
    "## Setting Attributes\n",
    "\n",
    "When building OpenMC models, we will work with many different classes. Each class typically has _attributes_, a variable belonging to the class. When creating a class, you can often set those attributes directly when you instantiate the object, like this:"
   ]
  },
  {
   "cell_type": "code",
   "execution_count": 3,
   "id": "ce6059cd-bd1d-432d-8853-4684cb4684f0",
   "metadata": {},
   "outputs": [],
   "source": [
    "m = openmc.Material(name='my_material')"
   ]
  },
  {
   "cell_type": "code",
   "execution_count": 4,
   "id": "70d4bb39",
   "metadata": {},
   "outputs": [
    {
     "data": {
      "text/plain": [
       "'my_material'"
      ]
     },
     "execution_count": 4,
     "metadata": {},
     "output_type": "execute_result"
    }
   ],
   "source": [
    "m.name"
   ]
  },
  {
   "cell_type": "code",
   "execution_count": 5,
   "id": "21edc3b9",
   "metadata": {},
   "outputs": [
    {
     "name": "stdout",
     "output_type": "stream",
     "text": [
      "Help on class Material in module openmc.material:\n",
      "\n",
      "class Material(openmc.mixin.IDManagerMixin)\n",
      " |  Material(material_id=None, name='', temperature=None)\n",
      " |\n",
      " |  A material composed of a collection of nuclides/elements.\n",
      " |\n",
      " |  To create a material, one should create an instance of this class, add\n",
      " |  nuclides or elements with :meth:`Material.add_nuclide` or\n",
      " |  :meth:`Material.add_element`, respectively, and set the total material\n",
      " |  density with :meth:`Material.set_density()`. Alternatively, you can use\n",
      " |  :meth:`Material.add_components()` to pass a dictionary containing all the\n",
      " |  component information. The material can then be assigned to a cell using the\n",
      " |  :attr:`Cell.fill` attribute.\n",
      " |\n",
      " |  Parameters\n",
      " |  ----------\n",
      " |  material_id : int, optional\n",
      " |      Unique identifier for the material. If not specified, an identifier will\n",
      " |      automatically be assigned.\n",
      " |  name : str, optional\n",
      " |      Name of the material. If not specified, the name will be the empty\n",
      " |      string.\n",
      " |  temperature : float, optional\n",
      " |      Temperature of the material in Kelvin. If not specified, the material\n",
      " |      inherits the default temperature applied to the model.\n",
      " |\n",
      " |  Attributes\n",
      " |  ----------\n",
      " |  id : int\n",
      " |      Unique identifier for the material\n",
      " |  temperature : float\n",
      " |      Temperature of the material in Kelvin.\n",
      " |  density : float\n",
      " |      Density of the material (units defined separately)\n",
      " |  density_units : str\n",
      " |      Units used for `density`. Can be one of 'g/cm3', 'g/cc', 'kg/m3',\n",
      " |      'atom/b-cm', 'atom/cm3', 'sum', or 'macro'.  The 'macro' unit only\n",
      " |      applies in the case of a multi-group calculation.\n",
      " |  depletable : bool\n",
      " |      Indicate whether the material is depletable.\n",
      " |  nuclides : list of namedtuple\n",
      " |      List in which each item is a namedtuple consisting of a nuclide string,\n",
      " |      the percent density, and the percent type ('ao' or 'wo'). The namedtuple\n",
      " |      has field names ``name``, ``percent``, and ``percent_type``.\n",
      " |  isotropic : list of str\n",
      " |      Nuclides for which elastic scattering should be treated as though it\n",
      " |      were isotropic in the laboratory system.\n",
      " |  average_molar_mass : float\n",
      " |      The average molar mass of nuclides in the material in units of grams per\n",
      " |      mol.  For example, UO2 with 3 nuclides will have an average molar mass\n",
      " |      of 270 / 3 = 90 g / mol.\n",
      " |  volume : float\n",
      " |      Volume of the material in cm^3. This can either be set manually or\n",
      " |      calculated in a stochastic volume calculation and added via the\n",
      " |      :meth:`Material.add_volume_information` method.\n",
      " |  paths : list of str\n",
      " |      The paths traversed through the CSG tree to reach each material\n",
      " |      instance. This property is initialized by calling the\n",
      " |      :meth:`Geometry.determine_paths` method.\n",
      " |  num_instances : int\n",
      " |      The number of instances of this material throughout the geometry. This\n",
      " |      property is initialized by calling the :meth:`Geometry.determine_paths`\n",
      " |      method.\n",
      " |  fissionable_mass : float\n",
      " |      Mass of fissionable nuclides in the material in [g]. Requires that the\n",
      " |      :attr:`volume` attribute is set.\n",
      " |  ncrystal_cfg : str\n",
      " |      NCrystal configuration string\n",
      " |\n",
      " |      .. versionadded:: 0.13.3\n",
      " |\n",
      " |  Method resolution order:\n",
      " |      Material\n",
      " |      openmc.mixin.IDManagerMixin\n",
      " |      builtins.object\n",
      " |\n",
      " |  Methods defined here:\n",
      " |\n",
      " |  __init__(self, material_id=None, name='', temperature=None)\n",
      " |      Initialize self.  See help(type(self)) for accurate signature.\n",
      " |\n",
      " |  __repr__(self) -> 'str'\n",
      " |      Return repr(self).\n",
      " |\n",
      " |  add_components(self, components: 'dict', percent_type: 'str' = 'ao')\n",
      " |      Add multiple elements or nuclides to a material\n",
      " |\n",
      " |      .. versionadded:: 0.13.1\n",
      " |\n",
      " |      Parameters\n",
      " |      ----------\n",
      " |      components : dict of str to float or dict\n",
      " |          Dictionary mapping element or nuclide names to their atom or weight\n",
      " |          percent. To specify enrichment of an element, the entry of\n",
      " |          ``components`` for that element must instead be a dictionary\n",
      " |          containing the keyword arguments as well as a value for\n",
      " |          ``'percent'``\n",
      " |      percent_type : {'ao', 'wo'}\n",
      " |          'ao' for atom percent and 'wo' for weight percent\n",
      " |\n",
      " |      Examples\n",
      " |      --------\n",
      " |      >>> mat = openmc.Material()\n",
      " |      >>> components  = {'Li': {'percent': 1.0,\n",
      " |      >>>                       'enrichment': 60.0,\n",
      " |      >>>                       'enrichment_target': 'Li7'},\n",
      " |      >>>                'Fl': 1.0,\n",
      " |      >>>                'Be6': 0.5}\n",
      " |      >>> mat.add_components(components)\n",
      " |\n",
      " |  add_element(self, element: 'str', percent: 'float', percent_type: 'str' = 'ao', enrichment: 'Optional[float]' = None, enrichment_target: 'Optional[str]' = None, enrichment_type: 'Optional[str]' = None, cross_sections: 'Optional[str]' = None)\n",
      " |      Add a natural element to the material\n",
      " |\n",
      " |      Parameters\n",
      " |      ----------\n",
      " |      element : str\n",
      " |          Element to add, e.g., 'Zr' or 'Zirconium'\n",
      " |      percent : float\n",
      " |          Atom or weight percent\n",
      " |      percent_type : {'ao', 'wo'}, optional\n",
      " |          'ao' for atom percent and 'wo' for weight percent. Defaults to atom\n",
      " |          percent.\n",
      " |      enrichment : float, optional\n",
      " |          Enrichment of an enrichment_target nuclide in percent (ao or wo).\n",
      " |          If enrichment_target is not supplied then it is enrichment for U235\n",
      " |          in weight percent. For example, input 4.95 for 4.95 weight percent\n",
      " |          enriched U.\n",
      " |          Default is None (natural composition).\n",
      " |      enrichment_target: str, optional\n",
      " |          Single nuclide name to enrich from a natural composition (e.g., 'O16')\n",
      " |\n",
      " |          .. versionadded:: 0.12\n",
      " |      enrichment_type: {'ao', 'wo'}, optional\n",
      " |          'ao' for enrichment as atom percent and 'wo' for weight percent.\n",
      " |          Default is: 'ao' for two-isotope enrichment; 'wo' for U enrichment\n",
      " |\n",
      " |          .. versionadded:: 0.12\n",
      " |      cross_sections : str, optional\n",
      " |          Location of cross_sections.xml file.\n",
      " |\n",
      " |      Notes\n",
      " |      -----\n",
      " |      General enrichment procedure is allowed only for elements composed of\n",
      " |      two isotopes. If `enrichment_target` is given without `enrichment`\n",
      " |      natural composition is added to the material.\n",
      " |\n",
      " |  add_elements_from_formula(self, formula: 'str', percent_type: 'str' = 'ao', enrichment: 'Optional[float]' = None, enrichment_target: 'Optional[str]' = None, enrichment_type: 'Optional[str]' = None)\n",
      " |      Add a elements from a chemical formula to the material.\n",
      " |\n",
      " |      .. versionadded:: 0.12\n",
      " |\n",
      " |      Parameters\n",
      " |      ----------\n",
      " |      formula : str\n",
      " |          Formula to add, e.g., 'C2O', 'C6H12O6', or (NH4)2SO4.\n",
      " |          Note this is case sensitive, elements must start with an uppercase\n",
      " |          character. Multiplier numbers must be integers.\n",
      " |      percent_type : {'ao', 'wo'}, optional\n",
      " |          'ao' for atom percent and 'wo' for weight percent. Defaults to atom\n",
      " |          percent.\n",
      " |      enrichment : float, optional\n",
      " |          Enrichment of an enrichment_target nuclide in percent (ao or wo).\n",
      " |          If enrichment_target is not supplied then it is enrichment for U235\n",
      " |          in weight percent. For example, input 4.95 for 4.95 weight percent\n",
      " |          enriched U. Default is None (natural composition).\n",
      " |      enrichment_target : str, optional\n",
      " |          Single nuclide name to enrich from a natural composition (e.g., 'O16')\n",
      " |      enrichment_type : {'ao', 'wo'}, optional\n",
      " |          'ao' for enrichment as atom percent and 'wo' for weight percent.\n",
      " |          Default is: 'ao' for two-isotope enrichment; 'wo' for U enrichment\n",
      " |\n",
      " |      Notes\n",
      " |      -----\n",
      " |      General enrichment procedure is allowed only for elements composed of\n",
      " |      two isotopes. If `enrichment_target` is given without `enrichment`\n",
      " |      natural composition is added to the material.\n",
      " |\n",
      " |  add_macroscopic(self, macroscopic: 'str')\n",
      " |      Add a macroscopic to the material.  This will also set the\n",
      " |      density of the material to 1.0, unless it has been otherwise set,\n",
      " |      as a default for Macroscopic cross sections.\n",
      " |\n",
      " |      Parameters\n",
      " |      ----------\n",
      " |      macroscopic : str\n",
      " |          Macroscopic to add\n",
      " |\n",
      " |  add_nuclide(self, nuclide: 'str', percent: 'float', percent_type: 'str' = 'ao')\n",
      " |      Add a nuclide to the material\n",
      " |\n",
      " |      Parameters\n",
      " |      ----------\n",
      " |      nuclide : str\n",
      " |          Nuclide to add, e.g., 'Mo95'\n",
      " |      percent : float\n",
      " |          Atom or weight percent\n",
      " |      percent_type : {'ao', 'wo'}\n",
      " |          'ao' for atom percent and 'wo' for weight percent\n",
      " |\n",
      " |  add_s_alpha_beta(self, name: 'str', fraction: 'float' = 1.0)\n",
      " |      Add an :math:`S(\\alpha,\\beta)` table to the material\n",
      " |\n",
      " |      Parameters\n",
      " |      ----------\n",
      " |      name : str\n",
      " |          Name of the :math:`S(\\alpha,\\beta)` table\n",
      " |      fraction : float\n",
      " |          The fraction of relevant nuclei that are affected by the\n",
      " |          :math:`S(\\alpha,\\beta)` table.  For example, if the material is a\n",
      " |          block of carbon that is 60% graphite and 40% amorphous then add a\n",
      " |          graphite :math:`S(\\alpha,\\beta)` table with fraction=0.6.\n",
      " |\n",
      " |  add_volume_information(self, volume_calc)\n",
      " |      Add volume information to a material.\n",
      " |\n",
      " |      Parameters\n",
      " |      ----------\n",
      " |      volume_calc : openmc.VolumeCalculation\n",
      " |          Results from a stochastic volume calculation\n",
      " |\n",
      " |  clone(self, memo: 'Optional[dict]' = None) -> 'Material'\n",
      " |      Create a copy of this material with a new unique ID.\n",
      " |\n",
      " |      Parameters\n",
      " |      ----------\n",
      " |      memo : dict or None\n",
      " |          A nested dictionary of previously cloned objects. This parameter\n",
      " |          is used internally and should not be specified by the user.\n",
      " |\n",
      " |      Returns\n",
      " |      -------\n",
      " |      clone : openmc.Material\n",
      " |          The clone of this material\n",
      " |\n",
      " |  get_activity(self, units: 'str' = 'Bq/cm3', by_nuclide: 'bool' = False, volume: 'Optional[float]' = None) -> 'Union[Dict[str, float], float]'\n",
      " |      Returns the activity of the material or for each nuclide in the\n",
      " |      material in units of [Bq], [Bq/g] or [Bq/cm3].\n",
      " |\n",
      " |      .. versionadded:: 0.13.1\n",
      " |\n",
      " |      Parameters\n",
      " |      ----------\n",
      " |      units : {'Bq', 'Bq/g', 'Bq/cm3'}\n",
      " |          Specifies the type of activity to return, options include total\n",
      " |          activity [Bq], specific [Bq/g] or volumetric activity [Bq/cm3].\n",
      " |          Default is volumetric activity [Bq/cm3].\n",
      " |      by_nuclide : bool\n",
      " |          Specifies if the activity should be returned for the material as a\n",
      " |          whole or per nuclide. Default is False.\n",
      " |      volume : float, optional\n",
      " |          Volume of the material. If not passed, defaults to using the\n",
      " |          :attr:`Material.volume` attribute.\n",
      " |\n",
      " |          .. versionadded:: 0.13.3\n",
      " |\n",
      " |      Returns\n",
      " |      -------\n",
      " |      typing.Union[dict, float]\n",
      " |          If by_nuclide is True then a dictionary whose keys are nuclide\n",
      " |          names and values are activity is returned. Otherwise the activity\n",
      " |          of the material is returned as a float.\n",
      " |\n",
      " |  get_decay_heat(self, units: 'str' = 'W', by_nuclide: 'bool' = False, volume: 'Optional[float]' = None) -> 'Union[Dict[str, float], float]'\n",
      " |      Returns the decay heat of the material or for each nuclide in the\n",
      " |      material in units of [W], [W/g] or [W/cm3].\n",
      " |\n",
      " |      .. versionadded:: 0.13.3\n",
      " |\n",
      " |      Parameters\n",
      " |      ----------\n",
      " |      units : {'W', 'W/g', 'W/cm3'}\n",
      " |          Specifies the units of decay heat to return. Options include total\n",
      " |          heat [W], specific [W/g] or volumetric heat [W/cm3].\n",
      " |          Default is total heat [W].\n",
      " |      by_nuclide : bool\n",
      " |          Specifies if the decay heat should be returned for the material as a\n",
      " |          whole or per nuclide. Default is False.\n",
      " |      volume : float, optional\n",
      " |          Volume of the material. If not passed, defaults to using the\n",
      " |          :attr:`Material.volume` attribute.\n",
      " |\n",
      " |          .. versionadded:: 0.13.3\n",
      " |\n",
      " |      Returns\n",
      " |      -------\n",
      " |      Union[dict, float]\n",
      " |          If `by_nuclide` is True then a dictionary whose keys are nuclide\n",
      " |          names and values are decay heat is returned. Otherwise the decay heat\n",
      " |          of the material is returned as a float.\n",
      " |\n",
      " |  get_decay_photon_energy(self, clip_tolerance: 'float' = 1e-06, units: 'str' = 'Bq', volume: 'Optional[float]' = None) -> 'Optional[Univariate]'\n",
      " |      Return energy distribution of decay photons from unstable nuclides.\n",
      " |\n",
      " |      .. versionadded:: 0.14.0\n",
      " |\n",
      " |      Parameters\n",
      " |      ----------\n",
      " |      clip_tolerance : float\n",
      " |          Maximum fraction of :math:`\\sum_i x_i p_i` for discrete\n",
      " |          distributions that will be discarded.\n",
      " |      units : {'Bq', 'Bq/g', 'Bq/cm3'}\n",
      " |          Specifies the units on the integral of the distribution.\n",
      " |      volume : float, optional\n",
      " |          Volume of the material. If not passed, defaults to using the\n",
      " |          :attr:`Material.volume` attribute.\n",
      " |\n",
      " |      Returns\n",
      " |      -------\n",
      " |      Decay photon energy distribution. The integral of this distribution is\n",
      " |      the total intensity of the photon source in the requested units.\n",
      " |\n",
      " |  get_elements(self) -> 'List[str]'\n",
      " |      Returns all elements in the material\n",
      " |\n",
      " |      .. versionadded:: 0.12\n",
      " |\n",
      " |      Returns\n",
      " |      -------\n",
      " |      elements : list of str\n",
      " |          List of element names\n",
      " |\n",
      " |  get_mass(self, nuclide: 'Optional[str]' = None, volume: 'Optional[float]' = None) -> 'float'\n",
      " |      Return mass of one or all nuclides.\n",
      " |\n",
      " |      Note that this method requires that the :attr:`Material.volume` has\n",
      " |      already been set.\n",
      " |\n",
      " |      Parameters\n",
      " |      ----------\n",
      " |      nuclides : str, optional\n",
      " |          Nuclide for which mass is desired. If not specified, the density\n",
      " |          for the entire material is given.\n",
      " |      volume : float, optional\n",
      " |          Volume of the material. If not passed, defaults to using the\n",
      " |          :attr:`Material.volume` attribute.\n",
      " |\n",
      " |          .. versionadded:: 0.13.3\n",
      " |\n",
      " |\n",
      " |      Returns\n",
      " |      -------\n",
      " |      float\n",
      " |          Mass of the nuclide/material in [g]\n",
      " |\n",
      " |  get_mass_density(self, nuclide: 'Optional[str]' = None) -> 'float'\n",
      " |      Return mass density of one or all nuclides\n",
      " |\n",
      " |      Parameters\n",
      " |      ----------\n",
      " |      nuclides : str, optional\n",
      " |          Nuclide for which density is desired. If not specified, the density\n",
      " |          for the entire material is given.\n",
      " |\n",
      " |      Returns\n",
      " |      -------\n",
      " |      float\n",
      " |          Density of the nuclide/material in [g/cm^3]\n",
      " |\n",
      " |  get_nuclide_atom_densities(self, nuclide: 'Optional[str]' = None) -> 'Dict[str, float]'\n",
      " |      Returns one or all nuclides in the material and their atomic\n",
      " |      densities in units of atom/b-cm\n",
      " |\n",
      " |      .. versionchanged:: 0.13.1\n",
      " |          The values in the dictionary were changed from a tuple containing\n",
      " |          the nuclide name and the density to just the density.\n",
      " |\n",
      " |      Parameters\n",
      " |      ----------\n",
      " |      nuclides : str, optional\n",
      " |          Nuclide for which atom density is desired. If not specified, the\n",
      " |          atom density for each nuclide in the material is given.\n",
      " |\n",
      " |          .. versionadded:: 0.13.2\n",
      " |\n",
      " |      Returns\n",
      " |      -------\n",
      " |      nuclides : dict\n",
      " |          Dictionary whose keys are nuclide names and values are densities in\n",
      " |          [atom/b-cm]\n",
      " |\n",
      " |  get_nuclide_atoms(self, volume: 'Optional[float]' = None) -> 'Dict[str, float]'\n",
      " |      Return number of atoms of each nuclide in the material\n",
      " |\n",
      " |      .. versionadded:: 0.13.1\n",
      " |\n",
      " |      Parameters\n",
      " |      ----------\n",
      " |      volume : float, optional\n",
      " |          Volume of the material. If not passed, defaults to using the\n",
      " |          :attr:`Material.volume` attribute.\n",
      " |\n",
      " |          .. versionadded:: 0.13.3\n",
      " |\n",
      " |      Returns\n",
      " |      -------\n",
      " |      dict\n",
      " |          Dictionary whose keys are nuclide names and values are number of\n",
      " |          atoms present in the material.\n",
      " |\n",
      " |  get_nuclide_densities(self) -> 'Dict[str, tuple]'\n",
      " |      Returns all nuclides in the material and their densities\n",
      " |\n",
      " |      Returns\n",
      " |      -------\n",
      " |      nuclides : dict\n",
      " |          Dictionary whose keys are nuclide names and values are 3-tuples of\n",
      " |          (nuclide, density percent, density percent type)\n",
      " |\n",
      " |  get_nuclides(self, element: 'Optional[str]' = None) -> 'List[str]'\n",
      " |      Returns a list of all nuclides in the material, if the element\n",
      " |      argument is specified then just nuclides of that element are returned.\n",
      " |\n",
      " |      Parameters\n",
      " |      ----------\n",
      " |      element : str\n",
      " |          Specifies the element to match when searching through the nuclides\n",
      " |\n",
      " |          .. versionadded:: 0.13.2\n",
      " |\n",
      " |      Returns\n",
      " |      -------\n",
      " |      nuclides : list of str\n",
      " |          List of nuclide names\n",
      " |\n",
      " |  make_isotropic_in_lab(self)\n",
      " |\n",
      " |  remove_element(self, element)\n",
      " |      Remove an element from the material\n",
      " |\n",
      " |      .. versionadded:: 0.13.1\n",
      " |\n",
      " |      Parameters\n",
      " |      ----------\n",
      " |      element : str\n",
      " |          Element to remove\n",
      " |\n",
      " |  remove_macroscopic(self, macroscopic: 'str')\n",
      " |      Remove a macroscopic from the material\n",
      " |\n",
      " |      Parameters\n",
      " |      ----------\n",
      " |      macroscopic : str\n",
      " |          Macroscopic to remove\n",
      " |\n",
      " |  remove_nuclide(self, nuclide: 'str')\n",
      " |      Remove a nuclide from the material\n",
      " |\n",
      " |      Parameters\n",
      " |      ----------\n",
      " |      nuclide : str\n",
      " |          Nuclide to remove\n",
      " |\n",
      " |  set_density(self, units: 'str', density: 'Optional[float]' = None)\n",
      " |      Set the density of the material\n",
      " |\n",
      " |      Parameters\n",
      " |      ----------\n",
      " |      units : {'g/cm3', 'g/cc', 'kg/m3', 'atom/b-cm', 'atom/cm3', 'sum', 'macro'}\n",
      " |          Physical units of density.\n",
      " |      density : float, optional\n",
      " |          Value of the density. Must be specified unless units is given as\n",
      " |          'sum'.\n",
      " |\n",
      " |  to_xml_element(self, nuclides_to_ignore: 'Optional[typing.Iterable[str]]' = None) -> 'ET.Element'\n",
      " |      Return XML representation of the material\n",
      " |\n",
      " |      Parameters\n",
      " |      ----------\n",
      " |      nuclides_to_ignore : list of str\n",
      " |          Nuclides to ignore when exporting to XML.\n",
      " |\n",
      " |      Returns\n",
      " |      -------\n",
      " |      element : lxml.etree._Element\n",
      " |          XML element containing material data\n",
      " |\n",
      " |  ----------------------------------------------------------------------\n",
      " |  Class methods defined here:\n",
      " |\n",
      " |  from_hdf5(group: 'h5py.Group') -> 'Material' from builtins.type\n",
      " |      Create material from HDF5 group\n",
      " |\n",
      " |      Parameters\n",
      " |      ----------\n",
      " |      group : h5py.Group\n",
      " |          Group in HDF5 file\n",
      " |\n",
      " |      Returns\n",
      " |      -------\n",
      " |      openmc.Material\n",
      " |          Material instance\n",
      " |\n",
      " |  from_ncrystal(cfg, **kwargs) -> 'Material' from builtins.type\n",
      " |      Create material from NCrystal configuration string.\n",
      " |\n",
      " |      Density, temperature, and material composition, and (ultimately) thermal\n",
      " |      neutron scattering will be automatically be provided by NCrystal based\n",
      " |      on this string. The name and material_id parameters are simply passed on\n",
      " |      to the Material constructor.\n",
      " |\n",
      " |      .. versionadded:: 0.13.3\n",
      " |\n",
      " |      Parameters\n",
      " |      ----------\n",
      " |      cfg : str\n",
      " |          NCrystal configuration string\n",
      " |      **kwargs\n",
      " |          Keyword arguments passed to :class:`openmc.Material`\n",
      " |\n",
      " |      Returns\n",
      " |      -------\n",
      " |      openmc.Material\n",
      " |          Material instance\n",
      " |\n",
      " |  from_xml_element(elem: 'ET.Element') -> 'Material' from builtins.type\n",
      " |      Generate material from an XML element\n",
      " |\n",
      " |      Parameters\n",
      " |      ----------\n",
      " |      elem : lxml.etree._Element\n",
      " |          XML element\n",
      " |\n",
      " |      Returns\n",
      " |      -------\n",
      " |      openmc.Material\n",
      " |          Material generated from XML element\n",
      " |\n",
      " |  mix_materials(materials, fracs: 'typing.Iterable[float]', percent_type: 'str' = 'ao', name: 'Optional[str]' = None) -> 'Material' from builtins.type\n",
      " |      Mix materials together based on atom, weight, or volume fractions\n",
      " |\n",
      " |      .. versionadded:: 0.12\n",
      " |\n",
      " |      Parameters\n",
      " |      ----------\n",
      " |      materials : Iterable of openmc.Material\n",
      " |          Materials to combine\n",
      " |      fracs : Iterable of float\n",
      " |          Fractions of each material to be combined\n",
      " |      percent_type : {'ao', 'wo', 'vo'}\n",
      " |          Type of percentage, must be one of 'ao', 'wo', or 'vo', to signify atom\n",
      " |          percent (molar percent), weight percent, or volume percent,\n",
      " |          optional. Defaults to 'ao'\n",
      " |      name : str\n",
      " |          The name for the new material, optional. Defaults to concatenated\n",
      " |          names of input materials with percentages indicated inside\n",
      " |          parentheses.\n",
      " |\n",
      " |      Returns\n",
      " |      -------\n",
      " |      openmc.Material\n",
      " |          Mixture of the materials\n",
      " |\n",
      " |  ----------------------------------------------------------------------\n",
      " |  Readonly properties defined here:\n",
      " |\n",
      " |  average_molar_mass\n",
      " |\n",
      " |  decay_photon_energy\n",
      " |\n",
      " |  density\n",
      " |\n",
      " |  density_units\n",
      " |\n",
      " |  fissionable_mass\n",
      " |\n",
      " |  ncrystal_cfg\n",
      " |\n",
      " |  nuclides\n",
      " |\n",
      " |  num_instances\n",
      " |\n",
      " |  paths\n",
      " |\n",
      " |  ----------------------------------------------------------------------\n",
      " |  Data descriptors defined here:\n",
      " |\n",
      " |  depletable\n",
      " |\n",
      " |  isotropic\n",
      " |\n",
      " |  name\n",
      " |\n",
      " |  temperature\n",
      " |\n",
      " |  volume\n",
      " |\n",
      " |  ----------------------------------------------------------------------\n",
      " |  Data and other attributes defined here:\n",
      " |\n",
      " |  next_id = 1\n",
      " |\n",
      " |  used_ids = {1}\n",
      " |\n",
      " |  ----------------------------------------------------------------------\n",
      " |  Data descriptors inherited from openmc.mixin.IDManagerMixin:\n",
      " |\n",
      " |  __dict__\n",
      " |      dictionary for instance variables\n",
      " |\n",
      " |  __weakref__\n",
      " |      list of weak references to the object\n",
      " |\n",
      " |  id\n",
      "\n"
     ]
    }
   ],
   "source": [
    "help(openmc.Material)"
   ]
  },
  {
   "cell_type": "markdown",
   "id": "c4302201-524a-466d-8755-63ba6a990c71",
   "metadata": {},
   "source": [
    "Or, you can assign values to attributes after you have already created the object. For example, the following is equivalent to the above:"
   ]
  },
  {
   "cell_type": "code",
   "execution_count": 6,
   "id": "61897de2-1afe-443c-a5ba-670c83288b35",
   "metadata": {},
   "outputs": [],
   "source": [
    "m.name = 'no_its_my_material'"
   ]
  },
  {
   "cell_type": "code",
   "execution_count": 7,
   "id": "d2dd2342",
   "metadata": {},
   "outputs": [
    {
     "name": "stdout",
     "output_type": "stream",
     "text": [
      "no_its_my_material\n"
     ]
    }
   ],
   "source": [
    "print(m.name)"
   ]
  },
  {
   "cell_type": "markdown",
   "id": "170948c6-2ed2-454b-941e-b6ac8c098cc7",
   "metadata": {},
   "source": [
    "You can in general also mix-and-match, setting some attributes when you instantiate the object, and others at a later point."
   ]
  },
  {
   "cell_type": "code",
   "execution_count": 8,
   "id": "5090e24d-3b20-4775-bfe8-6c5f87db3fe2",
   "metadata": {},
   "outputs": [],
   "source": [
    "m = openmc.Material(material_id=10)"
   ]
  },
  {
   "cell_type": "code",
   "execution_count": 9,
   "id": "a6c4eaa7",
   "metadata": {},
   "outputs": [
    {
     "data": {
      "text/plain": [
       "10"
      ]
     },
     "execution_count": 9,
     "metadata": {},
     "output_type": "execute_result"
    }
   ],
   "source": [
    "m.id"
   ]
  },
  {
   "cell_type": "code",
   "execution_count": 10,
   "id": "628d8c59",
   "metadata": {},
   "outputs": [],
   "source": [
    "m.name = 'now_i_have_a_name'"
   ]
  },
  {
   "cell_type": "code",
   "execution_count": 11,
   "id": "be0111f7",
   "metadata": {},
   "outputs": [
    {
     "data": {
      "text/plain": [
       "'now_i_have_a_name'"
      ]
     },
     "execution_count": 11,
     "metadata": {},
     "output_type": "execute_result"
    }
   ],
   "source": [
    "m.name"
   ]
  },
  {
   "cell_type": "markdown",
   "id": "ec5600e4-d512-4667-afb6-12a885ec239c",
   "metadata": {},
   "source": [
    "\n",
    "## How to Get Help/Learn More\n",
    "\n",
    "When building OpenMC models, we recommend having a copy of the Python API documentation (linked earlier) open. You can also query information about classes and methods directly from Jupyter. For example, we can use `help` to get documentation on all of the valid attributes for functions and classes."
   ]
  },
  {
   "cell_type": "code",
   "execution_count": 12,
   "id": "4e76b0e4-8ee9-48fe-b02d-6e66452b2371",
   "metadata": {
    "scrolled": true
   },
   "outputs": [
    {
     "name": "stdout",
     "output_type": "stream",
     "text": [
      "Help on class Cell in module openmc.cell:\n",
      "\n",
      "class Cell(openmc.mixin.IDManagerMixin)\n",
      " |  Cell(cell_id=None, name='', fill=None, region=None)\n",
      " |\n",
      " |  A region of space defined as the intersection of half-space created by\n",
      " |  quadric surfaces.\n",
      " |\n",
      " |  Parameters\n",
      " |  ----------\n",
      " |  cell_id : int, optional\n",
      " |      Unique identifier for the cell. If not specified, an identifier will\n",
      " |      automatically be assigned.\n",
      " |  name : str, optional\n",
      " |      Name of the cell. If not specified, the name is the empty string.\n",
      " |  fill : openmc.Material or openmc.UniverseBase or openmc.Lattice or None or iterable of openmc.Material, optional\n",
      " |      Indicates what the region of space is filled with\n",
      " |  region : openmc.Region, optional\n",
      " |      Region of space that is assigned to the cell.\n",
      " |\n",
      " |  Attributes\n",
      " |  ----------\n",
      " |  id : int\n",
      " |      Unique identifier for the cell\n",
      " |  name : str\n",
      " |      Name of the cell\n",
      " |  fill : openmc.Material or openmc.UniverseBase or openmc.Lattice or None or iterable of openmc.Material\n",
      " |      Indicates what the region of space is filled with. If None, the cell is\n",
      " |      treated as a void. An iterable of materials is used to fill repeated\n",
      " |      instances of a cell with different materials.\n",
      " |  fill_type : {'material', 'universe', 'lattice', 'distribmat', 'void'}\n",
      " |      Indicates what the cell is filled with.\n",
      " |  region : openmc.Region or None\n",
      " |      Region of space that is assigned to the cell.\n",
      " |  rotation : Iterable of float\n",
      " |      If the cell is filled with a universe, this array specifies the angles\n",
      " |      in degrees about the x, y, and z axes that the filled universe should be\n",
      " |      rotated. The rotation applied is an intrinsic rotation with specified\n",
      " |      Tait-Bryan angles. That is to say, if the angles are :math:`(\\phi,\n",
      " |      \\theta, \\psi)`, then the rotation matrix applied is :math:`R_z(\\psi)\n",
      " |      R_y(\\theta) R_x(\\phi)` or\n",
      " |\n",
      " |      .. math::\n",
      " |\n",
      " |         \\left [ \\begin{array}{ccc} \\cos\\theta \\cos\\psi & -\\cos\\phi \\sin\\psi\n",
      " |         + \\sin\\phi \\sin\\theta \\cos\\psi & \\sin\\phi \\sin\\psi + \\cos\\phi\n",
      " |         \\sin\\theta \\cos\\psi \\\\ \\cos\\theta \\sin\\psi & \\cos\\phi \\cos\\psi +\n",
      " |         \\sin\\phi \\sin\\theta \\sin\\psi & -\\sin\\phi \\cos\\psi + \\cos\\phi\n",
      " |         \\sin\\theta \\sin\\psi \\\\ -\\sin\\theta & \\sin\\phi \\cos\\theta & \\cos\\phi\n",
      " |         \\cos\\theta \\end{array} \\right ]\n",
      " |\n",
      " |      A rotation matrix can also be specified directly by setting this\n",
      " |      attribute to a nested list (or 2D numpy array) that specifies each\n",
      " |      element of the matrix.\n",
      " |  rotation_matrix : numpy.ndarray\n",
      " |      The rotation matrix defined by the angles specified in the\n",
      " |      :attr:`Cell.rotation` property.\n",
      " |  temperature : float or iterable of float\n",
      " |      Temperature of the cell in Kelvin.  Multiple temperatures can be given\n",
      " |      to give each distributed cell instance a unique temperature.\n",
      " |  translation : Iterable of float\n",
      " |      If the cell is filled with a universe, this array specifies a vector\n",
      " |      that is used to translate (shift) the universe.\n",
      " |  paths : list of str\n",
      " |      The paths traversed through the CSG tree to reach each cell\n",
      " |      instance. This property is initialized by calling the\n",
      " |      :meth:`Geometry.determine_paths` method.\n",
      " |  num_instances : int\n",
      " |      The number of instances of this cell throughout the geometry.\n",
      " |  volume : float\n",
      " |      Volume of the cell in cm^3. This can either be set manually or\n",
      " |      calculated in a stochastic volume calculation and added via the\n",
      " |      :meth:`Cell.add_volume_information` method. For 'distribmat' cells\n",
      " |      it is the total volume of all instances.\n",
      " |  atoms : dict\n",
      " |      Mapping of nuclides to the total number of atoms for each nuclide\n",
      " |      present in the cell, or in all of its instances for a 'distribmat'\n",
      " |      fill. For example, {'U235': 1.0e22, 'U238': 5.0e22, ...}.\n",
      " |\n",
      " |      .. versionadded:: 0.12\n",
      " |  bounding_box : openmc.BoundingBox\n",
      " |      Axis-aligned bounding box of the cell\n",
      " |\n",
      " |  Method resolution order:\n",
      " |      Cell\n",
      " |      openmc.mixin.IDManagerMixin\n",
      " |      builtins.object\n",
      " |\n",
      " |  Methods defined here:\n",
      " |\n",
      " |  __contains__(self, point)\n",
      " |\n",
      " |  __init__(self, cell_id=None, name='', fill=None, region=None)\n",
      " |      Initialize self.  See help(type(self)) for accurate signature.\n",
      " |\n",
      " |  __repr__(self)\n",
      " |      Return repr(self).\n",
      " |\n",
      " |  add_volume_information(self, volume_calc)\n",
      " |      Add volume information to a cell.\n",
      " |\n",
      " |      Parameters\n",
      " |      ----------\n",
      " |      volume_calc : openmc.VolumeCalculation\n",
      " |          Results from a stochastic volume calculation\n",
      " |\n",
      " |  clone(self, clone_materials=True, clone_regions=True, memo=None)\n",
      " |      Create a copy of this cell with a new unique ID, and clones\n",
      " |      the cell's region and fill.\n",
      " |\n",
      " |      Parameters\n",
      " |      ----------\n",
      " |      clone_materials : bool\n",
      " |          Whether to create separate copies of the materials filling cells\n",
      " |          contained in this cell, or the material filling this cell.\n",
      " |      clone_regions : bool\n",
      " |          Whether to create separate copies of the regions bounding cells\n",
      " |          contained in this cell, and the region bounding this cell.\n",
      " |      memo : dict or None\n",
      " |          A nested dictionary of previously cloned objects. This parameter\n",
      " |          is used internally and should not be specified by the user.\n",
      " |\n",
      " |      Returns\n",
      " |      -------\n",
      " |      clone : openmc.Cell\n",
      " |          The clone of this cell\n",
      " |\n",
      " |  create_xml_subelement(self, xml_element, memo=None)\n",
      " |      Add the cell's xml representation to an incoming xml element\n",
      " |\n",
      " |      Parameters\n",
      " |      ----------\n",
      " |      xml_element : lxml.etree._Element\n",
      " |          XML element to be added to\n",
      " |\n",
      " |      memo : set or None\n",
      " |          A set of object IDs representing geometry entities already\n",
      " |          written to ``xml_element``. This parameter is used internally\n",
      " |          and should not be specified by users.\n",
      " |\n",
      " |      Returns\n",
      " |      -------\n",
      " |      None\n",
      " |\n",
      " |  get_all_cells(self, memo=None)\n",
      " |      Return all cells that are contained within this one if it is filled with a\n",
      " |      universe or lattice\n",
      " |\n",
      " |      Returns\n",
      " |      -------\n",
      " |      cells : dict\n",
      " |          Dictionary whose keys are cell IDs and values are :class:`Cell`\n",
      " |          instances\n",
      " |\n",
      " |  get_all_materials(self, memo=None)\n",
      " |      Return all materials that are contained within the cell\n",
      " |\n",
      " |      Returns\n",
      " |      -------\n",
      " |      materials : dict\n",
      " |          Dictionary whose keys are material IDs and values are\n",
      " |          :class:`Material` instances\n",
      " |\n",
      " |  get_all_universes(self)\n",
      " |      Return all universes that are contained within this one if any of\n",
      " |      its cells are filled with a universe or lattice.\n",
      " |\n",
      " |      Returns\n",
      " |      -------\n",
      " |      universes : dict\n",
      " |          Dictionary whose keys are universe IDs and values are\n",
      " |          :class:`Universe` instances\n",
      " |\n",
      " |  get_nuclide_densities(self)\n",
      " |      Return all nuclides contained in the cell and their densities\n",
      " |\n",
      " |      Returns\n",
      " |      -------\n",
      " |      nuclides : dict\n",
      " |          Dictionary whose keys are nuclide names and values are 2-tuples of\n",
      " |          (nuclide, density)\n",
      " |\n",
      " |  get_nuclides(self)\n",
      " |      Returns all nuclides in the cell\n",
      " |\n",
      " |      Returns\n",
      " |      -------\n",
      " |      nuclides : list of str\n",
      " |          List of nuclide names\n",
      " |\n",
      " |  plot(self, *args, **kwargs)\n",
      " |      Display a slice plot of the cell.\n",
      " |\n",
      " |      .. versionadded:: 0.14.0\n",
      " |\n",
      " |      Parameters\n",
      " |      ----------\n",
      " |      origin : iterable of float\n",
      " |          Coordinates at the origin of the plot. If left as None then the\n",
      " |          bounding box center will be used to attempt to ascertain the origin.\n",
      " |          Defaults to (0, 0, 0) if the bounding box is not finite\n",
      " |      width : iterable of float\n",
      " |          Width of the plot in each basis direction. If left as none then the\n",
      " |          bounding box width will be used to attempt to ascertain the plot\n",
      " |          width. Defaults to (10, 10) if the bounding box is not finite\n",
      " |      pixels : Iterable of int or int\n",
      " |          If iterable of ints provided, then this directly sets the number of\n",
      " |          pixels to use in each basis direction. If int provided, then this\n",
      " |          sets the total number of pixels in the plot and the number of pixels\n",
      " |          in each basis direction is calculated from this total and the image\n",
      " |          aspect ratio.\n",
      " |      basis : {'xy', 'xz', 'yz'}\n",
      " |          The basis directions for the plot\n",
      " |      color_by : {'cell', 'material'}\n",
      " |          Indicate whether the plot should be colored by cell or by material\n",
      " |      colors : dict\n",
      " |          Assigns colors to specific materials or cells. Keys are instances of\n",
      " |          :class:`Cell` or :class:`Material` and values are RGB 3-tuples, RGBA\n",
      " |          4-tuples, or strings indicating SVG color names. Red, green, blue,\n",
      " |          and alpha should all be floats in the range [0.0, 1.0], for example:\n",
      " |\n",
      " |          .. code-block:: python\n",
      " |\n",
      " |             # Make water blue\n",
      " |             water = openmc.Cell(fill=h2o)\n",
      " |             universe.plot(..., colors={water: (0., 0., 1.))\n",
      " |      seed : int\n",
      " |          Seed for the random number generator\n",
      " |      openmc_exec : str\n",
      " |          Path to OpenMC executable.\n",
      " |      axes : matplotlib.Axes\n",
      " |          Axes to draw to\n",
      " |      legend : bool\n",
      " |          Whether a legend showing material or cell names should be drawn\n",
      " |      legend_kwargs : dict\n",
      " |          Keyword arguments passed to :func:`matplotlib.pyplot.legend`.\n",
      " |      outline : bool\n",
      " |          Whether outlines between color boundaries should be drawn\n",
      " |      axis_units : {'km', 'm', 'cm', 'mm'}\n",
      " |          Units used on the plot axis\n",
      " |      **kwargs\n",
      " |          Keyword arguments passed to :func:`matplotlib.pyplot.imshow`\n",
      " |\n",
      " |      Returns\n",
      " |      -------\n",
      " |      matplotlib.axes.Axes\n",
      " |          Axes containing resulting image\n",
      " |\n",
      " |  ----------------------------------------------------------------------\n",
      " |  Class methods defined here:\n",
      " |\n",
      " |  from_xml_element(elem, surfaces, materials, get_universe) from builtins.type\n",
      " |      Generate cell from XML element\n",
      " |\n",
      " |      Parameters\n",
      " |      ----------\n",
      " |      elem : lxml.etree._Element\n",
      " |          `<cell>` element\n",
      " |      surfaces : dict\n",
      " |          Dictionary mapping surface IDs to :class:`openmc.Surface` instances\n",
      " |      materials : dict\n",
      " |          Dictionary mapping material ID strings to :class:`openmc.Material`\n",
      " |          instances (defined in :math:`openmc.Geometry.from_xml`)\n",
      " |      get_universe : function\n",
      " |          Function returning universe (defined in\n",
      " |          :meth:`openmc.Geometry.from_xml`)\n",
      " |\n",
      " |      Returns\n",
      " |      -------\n",
      " |      openmc.Cell\n",
      " |          Cell instance\n",
      " |\n",
      " |  ----------------------------------------------------------------------\n",
      " |  Readonly properties defined here:\n",
      " |\n",
      " |  atoms\n",
      " |\n",
      " |  bounding_box\n",
      " |\n",
      " |  fill_type\n",
      " |\n",
      " |  num_instances\n",
      " |\n",
      " |  paths\n",
      " |\n",
      " |  rotation_matrix\n",
      " |\n",
      " |  ----------------------------------------------------------------------\n",
      " |  Data descriptors defined here:\n",
      " |\n",
      " |  fill\n",
      " |\n",
      " |  name\n",
      " |\n",
      " |  region\n",
      " |\n",
      " |  rotation\n",
      " |\n",
      " |  temperature\n",
      " |\n",
      " |  translation\n",
      " |\n",
      " |  volume\n",
      " |\n",
      " |  ----------------------------------------------------------------------\n",
      " |  Data and other attributes defined here:\n",
      " |\n",
      " |  next_id = 1\n",
      " |\n",
      " |  used_ids = set()\n",
      " |\n",
      " |  ----------------------------------------------------------------------\n",
      " |  Data descriptors inherited from openmc.mixin.IDManagerMixin:\n",
      " |\n",
      " |  __dict__\n",
      " |      dictionary for instance variables\n",
      " |\n",
      " |  __weakref__\n",
      " |      list of weak references to the object\n",
      " |\n",
      " |  id\n",
      "\n"
     ]
    }
   ],
   "source": [
    "help(openmc.Cell)"
   ]
  },
  {
   "cell_type": "markdown",
   "id": "920085d7-2266-49d5-83fd-5fbe76831c54",
   "metadata": {},
   "source": [
    "Attributes which have a default value will appear as `<attribute>=<the default value>` in the class/function definition. For classes, all of the member functions you can access will then be defined further down, with their associated documentation. To see documentation for just one specific function, you can use syntax like:"
   ]
  },
  {
   "cell_type": "code",
   "execution_count": 13,
   "id": "160049db-1fdc-4b92-9488-613dd976ed03",
   "metadata": {},
   "outputs": [
    {
     "name": "stdout",
     "output_type": "stream",
     "text": [
      "Help on method from_xml_element in module openmc.cell:\n",
      "\n",
      "from_xml_element(elem, surfaces, materials, get_universe) method of builtins.type instance\n",
      "    Generate cell from XML element\n",
      "\n",
      "    Parameters\n",
      "    ----------\n",
      "    elem : lxml.etree._Element\n",
      "        `<cell>` element\n",
      "    surfaces : dict\n",
      "        Dictionary mapping surface IDs to :class:`openmc.Surface` instances\n",
      "    materials : dict\n",
      "        Dictionary mapping material ID strings to :class:`openmc.Material`\n",
      "        instances (defined in :math:`openmc.Geometry.from_xml`)\n",
      "    get_universe : function\n",
      "        Function returning universe (defined in\n",
      "        :meth:`openmc.Geometry.from_xml`)\n",
      "\n",
      "    Returns\n",
      "    -------\n",
      "    openmc.Cell\n",
      "        Cell instance\n",
      "\n"
     ]
    }
   ],
   "source": [
    "my_cell = openmc.Cell()\n",
    "help(my_cell.from_xml_element)"
   ]
  },
  {
   "cell_type": "markdown",
   "id": "b32b84f7-1892-4302-b58b-d823a4be9820",
   "metadata": {},
   "source": [
    "You can also query the type of a particular object using `type`. Note that we can also display the attributes for a particular object using `print`."
   ]
  },
  {
   "cell_type": "code",
   "execution_count": 14,
   "id": "a86f40fb-ee47-448e-87a2-b199df72eb94",
   "metadata": {},
   "outputs": [
    {
     "name": "stdout",
     "output_type": "stream",
     "text": [
      "Cell\n",
      "\tID             =\t1\n",
      "\tName           =\t\n",
      "\tFill           =\tNone\n",
      "\tRegion         =\tNone\n",
      "\tRotation       =\tNone\n",
      "\tTranslation    =\tNone\n",
      "\tVolume         =\tNone\n",
      "\n"
     ]
    }
   ],
   "source": [
    "type(my_cell)\n",
    "print(my_cell)"
   ]
  },
  {
   "cell_type": "code",
   "execution_count": 15,
   "id": "c0486e26",
   "metadata": {},
   "outputs": [
    {
     "name": "stdout",
     "output_type": "stream",
     "text": [
      "Material\n",
      "\tID             =\t10\n",
      "\tName           =\tnow_i_have_a_name\n",
      "\tTemperature    =\tNone\n",
      "\tDensity        =\tNone [sum]\n",
      "\tVolume         =\tNone [cm^3]\n",
      "\tDepletable     =\tFalse\n",
      "\tS(a,b) Tables  \n",
      "\tNuclides       \n",
      "\n"
     ]
    }
   ],
   "source": [
    "print(m)"
   ]
  },
  {
   "cell_type": "code",
   "execution_count": 16,
   "id": "052ddc8f",
   "metadata": {},
   "outputs": [
    {
     "name": "stdout",
     "output_type": "stream",
     "text": [
      "Cell\n",
      "\tID             =\t2\n",
      "\tName           =\t\n",
      "\tFill           =\tNone\n",
      "\tRegion         =\tNone\n",
      "\tRotation       =\tNone\n",
      "\tTranslation    =\tNone\n",
      "\tVolume         =\tNone\n",
      "\n"
     ]
    }
   ],
   "source": [
    "new_cell = openmc.Cell()\n",
    "print(new_cell)"
   ]
  },
  {
   "cell_type": "markdown",
   "id": "d1f297c8-6e30-4dc8-b5ff-9833793646e7",
   "metadata": {},
   "source": [
    "## Defining Materials\n",
    "\n",
    "Materials in OpenMC are defined as a set of nuclides with specified atom/weight fractions. To begin, we will create a material by making an instance of the `Material` class. In OpenMC, many objects, including materials, are identified by a \"unique ID\" that is simply just a positive integer. These IDs are used when exporting XML files that the solver reads in. They also appear in the output and can be used for identification. Since an integer ID is not very useful by itself, you can also give a material a `name` as well."
   ]
  },
  {
   "cell_type": "code",
   "execution_count": 17,
   "id": "01c4b27f-623a-4676-a8e9-98770c3f995c",
   "metadata": {},
   "outputs": [],
   "source": [
    "uo2 = openmc.Material(name='fuel')"
   ]
  },
  {
   "cell_type": "markdown",
   "id": "0b758190-1223-41b6-b47a-10cf5a20502c",
   "metadata": {},
   "source": [
    "If you don't give an ID, one will be automatically generated for you:"
   ]
  },
  {
   "cell_type": "code",
   "execution_count": 18,
   "id": "1d542e64",
   "metadata": {},
   "outputs": [
    {
     "name": "stdout",
     "output_type": "stream",
     "text": [
      "Material\n",
      "\tID             =\t2\n",
      "\tName           =\tfuel\n",
      "\tTemperature    =\tNone\n",
      "\tDensity        =\tNone [sum]\n",
      "\tVolume         =\tNone [cm^3]\n",
      "\tDepletable     =\tFalse\n",
      "\tS(a,b) Tables  \n",
      "\tNuclides       \n",
      "\n"
     ]
    }
   ],
   "source": [
    "print(uo2)"
   ]
  },
  {
   "cell_type": "markdown",
   "id": "fb6be1c5-f556-4fc3-b458-c724c3f7f902",
   "metadata": {},
   "source": [
    "We see that an ID of 2 was automatically assigned. Let's now move on to adding nuclides to our `uo2` material. The `Material` object has a method `add_nuclide()` whose first argument is the name of the nuclide and second argument is the atom or weight fraction."
   ]
  },
  {
   "cell_type": "code",
   "execution_count": 19,
   "id": "ec4ab716-9f75-47c7-8f8b-a00ad6fe742e",
   "metadata": {},
   "outputs": [
    {
     "name": "stdout",
     "output_type": "stream",
     "text": [
      "Help on method add_nuclide in module openmc.material:\n",
      "\n",
      "add_nuclide(nuclide: 'str', percent: 'float', percent_type: 'str' = 'ao') method of openmc.material.Material instance\n",
      "    Add a nuclide to the material\n",
      "\n",
      "    Parameters\n",
      "    ----------\n",
      "    nuclide : str\n",
      "        Nuclide to add, e.g., 'Mo95'\n",
      "    percent : float\n",
      "        Atom or weight percent\n",
      "    percent_type : {'ao', 'wo'}\n",
      "        'ao' for atom percent and 'wo' for weight percent\n",
      "\n"
     ]
    }
   ],
   "source": [
    "help(uo2.add_nuclide)"
   ]
  },
  {
   "cell_type": "code",
   "execution_count": 20,
   "id": "d5a3e46c",
   "metadata": {},
   "outputs": [],
   "source": [
    "uo2.add_nuclide('U235', 1.49E-02, 'ao')\n",
    "uo2.add_nuclide('U238', 8.26E-02, 'ao')\n",
    "uo2.add_nuclide('O16', 4.69E-03, 'ao')"
   ]
  },
  {
   "cell_type": "code",
   "execution_count": 21,
   "id": "623b90d3",
   "metadata": {},
   "outputs": [
    {
     "name": "stdout",
     "output_type": "stream",
     "text": [
      "Material\n",
      "\tID             =\t2\n",
      "\tName           =\tfuel\n",
      "\tTemperature    =\tNone\n",
      "\tDensity        =\tNone [sum]\n",
      "\tVolume         =\tNone [cm^3]\n",
      "\tDepletable     =\tTrue\n",
      "\tS(a,b) Tables  \n",
      "\tNuclides       \n",
      "\tU235           =\t0.0149       [ao]\n",
      "\tU238           =\t0.0826       [ao]\n",
      "\tO16            =\t0.00469      [ao]\n",
      "\n"
     ]
    }
   ],
   "source": [
    "print(uo2)"
   ]
  },
  {
   "cell_type": "markdown",
   "id": "400730d6-439b-4a27-a701-02cea3c2e248",
   "metadata": {},
   "source": [
    "We see that by default it assumes we want an atom fraction."
   ]
  },
  {
   "cell_type": "markdown",
   "id": "9c7b6a11-f282-4876-96bd-6eec8a63e11f",
   "metadata": {},
   "source": [
    "Now we need to assign a total density to the material. We'll use the `set_density` for this."
   ]
  },
  {
   "cell_type": "code",
   "execution_count": 22,
   "id": "53d4a6be-d75c-478a-b0bc-1273b0b8d3e0",
   "metadata": {},
   "outputs": [
    {
     "name": "stdout",
     "output_type": "stream",
     "text": [
      "Help on method set_density in module openmc.material:\n",
      "\n",
      "set_density(units: 'str', density: 'Optional[float]' = None) method of openmc.material.Material instance\n",
      "    Set the density of the material\n",
      "\n",
      "    Parameters\n",
      "    ----------\n",
      "    units : {'g/cm3', 'g/cc', 'kg/m3', 'atom/b-cm', 'atom/cm3', 'sum', 'macro'}\n",
      "        Physical units of density.\n",
      "    density : float, optional\n",
      "        Value of the density. Must be specified unless units is given as\n",
      "        'sum'.\n",
      "\n"
     ]
    }
   ],
   "source": [
    "help(uo2.set_density)"
   ]
  },
  {
   "cell_type": "code",
   "execution_count": 23,
   "id": "5292c45f",
   "metadata": {},
   "outputs": [],
   "source": [
    "uo2.set_density('atom/b-cm', 7.021E-02)"
   ]
  },
  {
   "cell_type": "code",
   "execution_count": 24,
   "id": "f1ea3f3f",
   "metadata": {},
   "outputs": [
    {
     "name": "stdout",
     "output_type": "stream",
     "text": [
      "Material\n",
      "\tID             =\t2\n",
      "\tName           =\tfuel\n",
      "\tTemperature    =\tNone\n",
      "\tDensity        =\t0.07021 [atom/b-cm]\n",
      "\tVolume         =\tNone [cm^3]\n",
      "\tDepletable     =\tTrue\n",
      "\tS(a,b) Tables  \n",
      "\tNuclides       \n",
      "\tU235           =\t0.0149       [ao]\n",
      "\tU238           =\t0.0826       [ao]\n",
      "\tO16            =\t0.00469      [ao]\n",
      "\n"
     ]
    }
   ],
   "source": [
    "print(uo2)"
   ]
  },
  {
   "cell_type": "code",
   "execution_count": 25,
   "id": "ceb5fe09",
   "metadata": {},
   "outputs": [],
   "source": [
    "steel = openmc.Material(name='steel')\n",
    "steel.set_density('atom/b-cm', 0.49E-02)\n",
    "steel.add_element('Fe', 0.995)\n",
    "steel.add_element('C', 0.005)"
   ]
  },
  {
   "cell_type": "code",
   "execution_count": 26,
   "id": "fa20c3d6",
   "metadata": {},
   "outputs": [
    {
     "name": "stdout",
     "output_type": "stream",
     "text": [
      "Material\n",
      "\tID             =\t3\n",
      "\tName           =\tsteel\n",
      "\tTemperature    =\tNone\n",
      "\tDensity        =\t0.0049 [atom/b-cm]\n",
      "\tVolume         =\tNone [cm^3]\n",
      "\tDepletable     =\tFalse\n",
      "\tS(a,b) Tables  \n",
      "\tNuclides       \n",
      "\tFe54           =\t0.05815775   [ao]\n",
      "\tFe56           =\t0.9129523    [ao]\n",
      "\tFe57           =\t0.02108405   [ao]\n",
      "\tFe58           =\t0.0028059    [ao]\n",
      "\tC12            =\t0.00494461   [ao]\n",
      "\tC13            =\t5.5389999999999997e-05 [ao]\n",
      "\n"
     ]
    }
   ],
   "source": [
    "print(steel)"
   ]
  },
  {
   "cell_type": "markdown",
   "id": "1ff83a98-bd6f-46be-ab79-1d1069b03e5b",
   "metadata": {},
   "source": [
    "You may sometimes be given a material specification where all the nuclide densities are in units of atom/b-cm. In this case, you just want the density to be the sum of the constituents. In that case, you can simply run `mat.set_density('sum')`.\n",
    "\n",
    "With UO2 finished, let's now create materials for the clad and coolant. Note the use of `add_element()` for zirconium."
   ]
  },
  {
   "cell_type": "code",
   "execution_count": 27,
   "id": "08205a74-b789-45e7-ba6b-4b96eee82e4a",
   "metadata": {},
   "outputs": [],
   "source": [
    "he4 = openmc.Material(name='helium')\n",
    "he4.set_density('sum')\n",
    "he4.add_element('He', 1E-11)\n",
    "\n",
    "sodium = openmc.Material(name='sodium')\n",
    "sodium.set_density('sum')\n",
    "sodium.add_nuclide('Na23', 2.33E-02)"
   ]
  },
  {
   "cell_type": "code",
   "execution_count": 28,
   "id": "62345095",
   "metadata": {},
   "outputs": [
    {
     "name": "stdout",
     "output_type": "stream",
     "text": [
      "Material\n",
      "\tID             =\t4\n",
      "\tName           =\thelium\n",
      "\tTemperature    =\tNone\n",
      "\tDensity        =\tNone [sum]\n",
      "\tVolume         =\tNone [cm^3]\n",
      "\tDepletable     =\tFalse\n",
      "\tS(a,b) Tables  \n",
      "\tNuclides       \n",
      "\tHe3            =\t1.9999999999999998e-17 [ao]\n",
      "\tHe4            =\t9.999979999999999e-12 [ao]\n",
      "\n"
     ]
    }
   ],
   "source": [
    "print(he4)"
   ]
  },
  {
   "cell_type": "code",
   "execution_count": 29,
   "id": "964ecf5d",
   "metadata": {},
   "outputs": [
    {
     "name": "stdout",
     "output_type": "stream",
     "text": [
      "Material\n",
      "\tID             =\t5\n",
      "\tName           =\tsodium\n",
      "\tTemperature    =\tNone\n",
      "\tDensity        =\tNone [sum]\n",
      "\tVolume         =\tNone [cm^3]\n",
      "\tDepletable     =\tFalse\n",
      "\tS(a,b) Tables  \n",
      "\tNuclides       \n",
      "\tNa23           =\t0.0233       [ao]\n",
      "\n"
     ]
    }
   ],
   "source": [
    "print(sodium)"
   ]
  },
  {
   "cell_type": "markdown",
   "id": "79200544-6932-4ca1-9e60-ccb28c01c8bc",
   "metadata": {},
   "source": [
    "### Element Expansion\n",
    "\n",
    "Did you notice something really cool that happened to our Fe and C elements? OpenMC automatically turned it into a list of nuclides when it exported it! The way this feature works is as follows:\n",
    "\n",
    "- First, it checks whether `Materials.cross_sections` has been set, indicating the path to a `cross_sections.xml` file.\n",
    "- If `Materials.cross_sections` isn't set, it looks for the `OPENMC_CROSS_SECTIONS` environment variable.\n",
    "- If either of these is found, it scans the file to see what nuclides are actually available and will expand elements accordingly."
   ]
  },
  {
   "cell_type": "code",
   "execution_count": 30,
   "id": "f2622774-9e36-4c9d-9fe3-00609957b725",
   "metadata": {},
   "outputs": [],
   "source": [
    "#openmc.config['cross_sections'] = '/home/efra/simulations/openmc/data/endfb-vii.1-hdf5/cross_sections.xml'\n",
    "openmc.config['cross_sections'] = '/home/efra/simulations/openmc/data/endfb-viii.0-hdf5/cross_sections.xml'"
   ]
  },
  {
   "cell_type": "code",
   "execution_count": 31,
   "id": "b3fa80e3",
   "metadata": {},
   "outputs": [
    {
     "data": {
      "text/plain": [
       "{'cross_sections': PosixPath('/home/efra/simulations/openmc/data/endfb-viii.0-hdf5/cross_sections.xml')}"
      ]
     },
     "execution_count": 31,
     "metadata": {},
     "output_type": "execute_result"
    }
   ],
   "source": [
    "openmc.config"
   ]
  },
  {
   "cell_type": "markdown",
   "id": "57b0b3e5-c25a-421f-9f30-40c25bb76fd5",
   "metadata": {},
   "source": [
    "---\n",
    "## An aside on S($\\alpha$, $\\beta$) tables\n",
    "\n",
    "For systems with a significant thermal component to the neutron flux, it is important to augment the free atom cross sections we've used up to this point when possible. This can be done by using an $S(\\alpha,\\beta)$ table so that the bound atom cross section is used at thermal energies. To do this, there's an `add_s_alpha_beta()` method. Note the use of the GND-style name \"c_H_in_H2O\".\n",
    "\n",
    "```python\n",
    "water.add_s_alpha_beta('c_H_in_H2O')\n",
    "```\n",
    "\n",
    "---"
   ]
  },
  {
   "cell_type": "markdown",
   "id": "4fcebbf4-d648-45a9-8b47-9c192ac21aca",
   "metadata": {},
   "source": [
    "When we go to run the transport solver in OpenMC, it is going to look for a `materials.xml` file. Thus far, we have only created objects in memory. To actually create a `materials.xml` file, we need to instantiate a `Materials` collection and export it to XML."
   ]
  },
  {
   "cell_type": "code",
   "execution_count": 32,
   "id": "8dc94273",
   "metadata": {},
   "outputs": [],
   "source": [
    "materials = openmc.Materials([uo2, steel])"
   ]
  },
  {
   "cell_type": "code",
   "execution_count": 33,
   "id": "a5e5eb8e",
   "metadata": {},
   "outputs": [
    {
     "name": "stdout",
     "output_type": "stream",
     "text": [
      "[Material\n",
      "\tID             =\t2\n",
      "\tName           =\tfuel\n",
      "\tTemperature    =\tNone\n",
      "\tDensity        =\t0.07021 [atom/b-cm]\n",
      "\tVolume         =\tNone [cm^3]\n",
      "\tDepletable     =\tTrue\n",
      "\tS(a,b) Tables  \n",
      "\tNuclides       \n",
      "\tU235           =\t0.0149       [ao]\n",
      "\tU238           =\t0.0826       [ao]\n",
      "\tO16            =\t0.00469      [ao]\n",
      ", Material\n",
      "\tID             =\t3\n",
      "\tName           =\tsteel\n",
      "\tTemperature    =\tNone\n",
      "\tDensity        =\t0.0049 [atom/b-cm]\n",
      "\tVolume         =\tNone [cm^3]\n",
      "\tDepletable     =\tFalse\n",
      "\tS(a,b) Tables  \n",
      "\tNuclides       \n",
      "\tFe54           =\t0.05815775   [ao]\n",
      "\tFe56           =\t0.9129523    [ao]\n",
      "\tFe57           =\t0.02108405   [ao]\n",
      "\tFe58           =\t0.0028059    [ao]\n",
      "\tC12            =\t0.00494461   [ao]\n",
      "\tC13            =\t5.5389999999999997e-05 [ao]\n",
      "]\n"
     ]
    }
   ],
   "source": [
    "print(materials)"
   ]
  },
  {
   "cell_type": "markdown",
   "id": "4df7628a-a432-4cea-8aaa-426e21e04153",
   "metadata": {},
   "source": []
  },
  {
   "cell_type": "markdown",
   "id": "1b56df00-a34c-4121-b7c1-eea3bc23671a",
   "metadata": {},
   "source": [
    "Note that `Materials` is actually a subclass of Python's built-in `list`, so we can use methods like `append()`, `insert()`, `pop()`, etc."
   ]
  },
  {
   "cell_type": "code",
   "execution_count": 34,
   "id": "75161eaf-f7ef-474c-92e6-7c9706d2505e",
   "metadata": {},
   "outputs": [],
   "source": [
    "materials.append(he4)\n",
    "materials.append(sodium)"
   ]
  },
  {
   "cell_type": "code",
   "execution_count": 35,
   "id": "7d3e893d",
   "metadata": {},
   "outputs": [
    {
     "name": "stdout",
     "output_type": "stream",
     "text": [
      "[Material\n",
      "\tID             =\t2\n",
      "\tName           =\tfuel\n",
      "\tTemperature    =\tNone\n",
      "\tDensity        =\t0.07021 [atom/b-cm]\n",
      "\tVolume         =\tNone [cm^3]\n",
      "\tDepletable     =\tTrue\n",
      "\tS(a,b) Tables  \n",
      "\tNuclides       \n",
      "\tU235           =\t0.0149       [ao]\n",
      "\tU238           =\t0.0826       [ao]\n",
      "\tO16            =\t0.00469      [ao]\n",
      ", Material\n",
      "\tID             =\t3\n",
      "\tName           =\tsteel\n",
      "\tTemperature    =\tNone\n",
      "\tDensity        =\t0.0049 [atom/b-cm]\n",
      "\tVolume         =\tNone [cm^3]\n",
      "\tDepletable     =\tFalse\n",
      "\tS(a,b) Tables  \n",
      "\tNuclides       \n",
      "\tFe54           =\t0.05815775   [ao]\n",
      "\tFe56           =\t0.9129523    [ao]\n",
      "\tFe57           =\t0.02108405   [ao]\n",
      "\tFe58           =\t0.0028059    [ao]\n",
      "\tC12            =\t0.00494461   [ao]\n",
      "\tC13            =\t5.5389999999999997e-05 [ao]\n",
      ", Material\n",
      "\tID             =\t4\n",
      "\tName           =\thelium\n",
      "\tTemperature    =\tNone\n",
      "\tDensity        =\tNone [sum]\n",
      "\tVolume         =\tNone [cm^3]\n",
      "\tDepletable     =\tFalse\n",
      "\tS(a,b) Tables  \n",
      "\tNuclides       \n",
      "\tHe3            =\t1.9999999999999998e-17 [ao]\n",
      "\tHe4            =\t9.999979999999999e-12 [ao]\n",
      ", Material\n",
      "\tID             =\t5\n",
      "\tName           =\tsodium\n",
      "\tTemperature    =\tNone\n",
      "\tDensity        =\tNone [sum]\n",
      "\tVolume         =\tNone [cm^3]\n",
      "\tDepletable     =\tFalse\n",
      "\tS(a,b) Tables  \n",
      "\tNuclides       \n",
      "\tNa23           =\t0.0233       [ao]\n",
      "]\n"
     ]
    }
   ],
   "source": [
    "print(materials)"
   ]
  },
  {
   "cell_type": "markdown",
   "id": "bb4fd6d4-caea-4a61-8280-b2474c864fca",
   "metadata": {},
   "source": [
    "Finally, we can create the XML file with the `export_to_xml()` method. In a Jupyter notebook, we can run a shell command by putting `!` before it, so in this case we are going to display the `materials.xml` file that we created."
   ]
  },
  {
   "cell_type": "code",
   "execution_count": 36,
   "id": "592795fb-a6e0-467d-be94-ec8f4393edc6",
   "metadata": {},
   "outputs": [],
   "source": [
    "materials.export_to_xml()"
   ]
  },
  {
   "cell_type": "markdown",
   "id": "e65e8532-510d-4a71-94a6-12fbeb8287c1",
   "metadata": {},
   "source": [
    "We see that now He3 and He4 were automatically added. Other isotopes are missing because our cross sections file (which is based on ENDF/B-VII.1) doesn't contain data for them. If OpenMC didn't know about the cross sections file, it would have assumed that all isotopes exist."
   ]
  },
  {
   "cell_type": "markdown",
   "id": "78a3ea4c-215c-4e03-880c-ee185722b7d4",
   "metadata": {},
   "source": [
    "### Materials from a chemical formula"
   ]
  },
  {
   "cell_type": "code",
   "execution_count": 37,
   "id": "6d121adf-635d-4448-8c2a-8969c408d945",
   "metadata": {},
   "outputs": [
    {
     "name": "stdout",
     "output_type": "stream",
     "text": [
      "Material\n",
      "\tID             =\t6\n",
      "\tName           =\twater\n",
      "\tTemperature    =\tNone\n",
      "\tDensity        =\t1.0 [g/cc]\n",
      "\tVolume         =\tNone [cm^3]\n",
      "\tDepletable     =\tFalse\n",
      "\tS(a,b) Tables  \n",
      "\tNuclides       \n",
      "\tH1             =\t0.66656284   [ao]\n",
      "\tH2             =\t0.00010382666666666666 [ao]\n",
      "\tO16            =\t0.33254019999999995 [ao]\n",
      "\tO17            =\t0.00012633333333333333 [ao]\n",
      "\tO18            =\t0.0006667999999999999 [ao]\n",
      "\n"
     ]
    }
   ],
   "source": [
    "water = openmc.Material(name='water')\n",
    "water.set_density('g/cc', 1.0)\n",
    "water.add_elements_from_formula('H2O')\n",
    "print(water)"
   ]
  },
  {
   "cell_type": "markdown",
   "id": "d8e0d80b-b154-4f37-b95b-a4e2cd5b68a6",
   "metadata": {},
   "source": [
    "### Material mixtures"
   ]
  },
  {
   "cell_type": "code",
   "execution_count": 38,
   "id": "ecbabf07",
   "metadata": {},
   "outputs": [
    {
     "name": "stdout",
     "output_type": "stream",
     "text": [
      "Help on method mix_materials in module openmc.material:\n",
      "\n",
      "mix_materials(materials, fracs: 'typing.Iterable[float]', percent_type: 'str' = 'ao', name: 'Optional[str]' = None) -> 'Material' method of builtins.type instance\n",
      "    Mix materials together based on atom, weight, or volume fractions\n",
      "\n",
      "    .. versionadded:: 0.12\n",
      "\n",
      "    Parameters\n",
      "    ----------\n",
      "    materials : Iterable of openmc.Material\n",
      "        Materials to combine\n",
      "    fracs : Iterable of float\n",
      "        Fractions of each material to be combined\n",
      "    percent_type : {'ao', 'wo', 'vo'}\n",
      "        Type of percentage, must be one of 'ao', 'wo', or 'vo', to signify atom\n",
      "        percent (molar percent), weight percent, or volume percent,\n",
      "        optional. Defaults to 'ao'\n",
      "    name : str\n",
      "        The name for the new material, optional. Defaults to concatenated\n",
      "        names of input materials with percentages indicated inside\n",
      "        parentheses.\n",
      "\n",
      "    Returns\n",
      "    -------\n",
      "    openmc.Material\n",
      "        Mixture of the materials\n",
      "\n"
     ]
    }
   ],
   "source": [
    "help(openmc.Material.mix_materials)"
   ]
  },
  {
   "cell_type": "code",
   "execution_count": 39,
   "id": "d68a34d8-46e5-4700-9a19-9c8903434e04",
   "metadata": {},
   "outputs": [
    {
     "name": "stdout",
     "output_type": "stream",
     "text": [
      "Material\n",
      "\tID             =\t7\n",
      "\tName           =\tsodium_and_steel\n",
      "\tTemperature    =\tNone\n",
      "\tDensity        =\t0.7384593392817108 [g/cm3]\n",
      "\tVolume         =\tNone [cm^3]\n",
      "\tDepletable     =\tFalse\n",
      "\tS(a,b) Tables  \n",
      "\tNuclides       \n",
      "\tNa23           =\t0.9          [ao]\n",
      "\tFe54           =\t0.005815775000000001 [ao]\n",
      "\tFe56           =\t0.09129523000000002 [ao]\n",
      "\tFe57           =\t0.0021084050000000007 [ao]\n",
      "\tFe58           =\t0.00028059000000000005 [ao]\n",
      "\tC12            =\t0.0004944610000000001 [ao]\n",
      "\tC13            =\t5.539e-06    [ao]\n",
      "\n"
     ]
    }
   ],
   "source": [
    "sodium_and_steel = openmc.Material.mix_materials([sodium, steel], [0.9, 0.1], 'ao', name='sodium_and_steel')\n",
    "print(sodium_and_steel)"
   ]
  },
  {
   "cell_type": "markdown",
   "id": "66feda56-9b5f-417e-b4e4-0ec47e322fb9",
   "metadata": {},
   "source": [
    "### The `cross_sections.xml` file\n",
    "\n",
    "The `cross_sections.xml` tells OpenMC where it can find nuclide cross sections and $S(\\alpha,\\beta)$ tables. It serves the same purpose as MCNP's `xsdir` file and Serpent's `xsdata` file. As we mentioned, this can be set either by the `OPENMC_CROSS_SECTIONS` environment variable or the `Materials.cross_sections` attribute.\n",
    "\n",
    "Let's have a look at what's inside this file:"
   ]
  },
  {
   "cell_type": "code",
   "execution_count": 40,
   "id": "d068ca2f-1acf-431a-89f5-b196417b6f19",
   "metadata": {},
   "outputs": [
    {
     "name": "stdout",
     "output_type": "stream",
     "text": [
      "<?xml version='1.0' encoding='utf-8'?>\n",
      "<cross_sections>\n",
      "  <library materials=\"H1\" path=\"neutron/H1.h5\" type=\"neutron\" />\n",
      "  <library materials=\"H2\" path=\"neutron/H2.h5\" type=\"neutron\" />\n",
      "  <library materials=\"H3\" path=\"neutron/H3.h5\" type=\"neutron\" />\n",
      "  <library materials=\"He3\" path=\"neutron/He3.h5\" type=\"neutron\" />\n",
      "  <library materials=\"He4\" path=\"neutron/He4.h5\" type=\"neutron\" />\n",
      "  <library materials=\"Li6\" path=\"neutron/Li6.h5\" type=\"neutron\" />\n",
      "  <library materials=\"Li7\" path=\"neutron/Li7.h5\" type=\"neutron\" />\n",
      "  <library materials=\"Be7\" path=\"neutron/Be7.h5\" type=\"neutron\" />\n",
      "  <library materials=\"Be9\" path=\"neutron/Be9.h5\" type=\"neutron\" />\n",
      "  <library materials=\"B10\" path=\"neutron/B10.h5\" type=\"neutron\" />\n",
      "  <library materials=\"B11\" path=\"neutron/B11.h5\" type=\"neutron\" />\n",
      "  <library materials=\"C12\" path=\"neutron/C12.h5\" type=\"neutron\" />\n",
      "  <library materials=\"C13\" path=\"neutron/C13.h5\" type=\"neutron\" />\n",
      "  <library materials=\"N14\" path=\"neutron/N14.h5\" type=\"neutron\" />\n",
      "  <library materials=\"N15\" path=\"neutron/N15.h5\" type=\"neutron\" />\n",
      "  <library materials=\"O16\" path=\"neutron/O16.h5\" type=\"neutron\" />\n",
      "  <library materials=\"O17\" path=\"neutron/O17.h5\" type=\"neutron\" />\n",
      "  <library materials=\"O18\" path=\"neutron/O18.h5\" type=\"neutron\" />\n",
      "  <library materials=\"F19\" path=\"neutron/F19.h5\" type=\"neutron\" />\n",
      "  <library materials=\"Ne20\" path=\"neutron/Ne20.h5\" type=\"neutron\" />\n",
      "  <library materials=\"Ne21\" path=\"neutron/Ne21.h5\" type=\"neutron\" />\n",
      "  <library materials=\"Ne22\" path=\"neutron/Ne22.h5\" type=\"neutron\" />\n",
      "  <library materials=\"Na22\" path=\"neutron/Na22.h5\" type=\"neutron\" />\n",
      "  <library materials=\"Na23\" path=\"neutron/Na23.h5\" type=\"neutron\" />\n",
      "  <library materials=\"Mg24\" path=\"neutron/Mg24.h5\" type=\"neutron\" />\n",
      "  <library materials=\"Mg25\" path=\"neutron/Mg25.h5\" type=\"neutron\" />\n",
      "  <library materials=\"Mg26\" path=\"neutron/Mg26.h5\" type=\"neutron\" />\n",
      "  <library materials=\"Al26_m1\" path=\"neutron/Al26_m1.h5\" type=\"neutron\" />\n",
      "   ...\n",
      "  <library materials=\"U\" path=\"photon/U.h5\" type=\"photon\" />\n",
      "  <library materials=\"Np\" path=\"photon/Np.h5\" type=\"photon\" />\n",
      "  <library materials=\"Pu\" path=\"photon/Pu.h5\" type=\"photon\" />\n",
      "  <library materials=\"Am\" path=\"photon/Am.h5\" type=\"photon\" />\n",
      "  <library materials=\"Cm\" path=\"photon/Cm.h5\" type=\"photon\" />\n",
      "  <library materials=\"Bk\" path=\"photon/Bk.h5\" type=\"photon\" />\n",
      "  <library materials=\"Cf\" path=\"photon/Cf.h5\" type=\"photon\" />\n",
      "  <library materials=\"Es\" path=\"photon/Es.h5\" type=\"photon\" />\n",
      "  <library materials=\"Fm\" path=\"photon/Fm.h5\" type=\"photon\" />\n",
      "</cross_sections>\n"
     ]
    }
   ],
   "source": [
    "!cat $OPENMC_CROSS_SECTIONS | head -n 30\n",
    "print('   ...')\n",
    "!cat $OPENMC_CROSS_SECTIONS | tail -n 10"
   ]
  },
  {
   "cell_type": "markdown",
   "id": "94a4c113-2a43-4845-a9d1-46816b8e7a27",
   "metadata": {},
   "source": [
    "The cross section dataset used by OpenMC can also be configured using the `openmc.config` property of the `openmc` module. Setting this property inside a Python interpreter session is equivalent to updating the cross sections environment variable discussed above."
   ]
  },
  {
   "cell_type": "code",
   "execution_count": 41,
   "id": "8dfaf793-32c4-4b28-927d-1c146c55eccd",
   "metadata": {},
   "outputs": [],
   "source": [
    "# openmc.config['cross_sections'] = /path/to/my/xs/data/cross_sections.xml"
   ]
  },
  {
   "cell_type": "markdown",
   "id": "7c4bcae5-a336-4883-80bf-b4cd47171fa7",
   "metadata": {},
   "source": [
    "### Enrichment\n",
    "\n",
    "Note that the `add_element()` method has a special argument `enrichment` that can be used for Uranium. For example, if we know that we want to create 3% enriched UO2, the following would work:"
   ]
  },
  {
   "cell_type": "code",
   "execution_count": 42,
   "id": "65116bc1-27ff-4330-abc7-46c99ac0f39c",
   "metadata": {},
   "outputs": [
    {
     "name": "stdout",
     "output_type": "stream",
     "text": [
      "Help on function add_element in module openmc.material:\n",
      "\n",
      "add_element(self, element: 'str', percent: 'float', percent_type: 'str' = 'ao', enrichment: 'Optional[float]' = None, enrichment_target: 'Optional[str]' = None, enrichment_type: 'Optional[str]' = None, cross_sections: 'Optional[str]' = None)\n",
      "    Add a natural element to the material\n",
      "\n",
      "    Parameters\n",
      "    ----------\n",
      "    element : str\n",
      "        Element to add, e.g., 'Zr' or 'Zirconium'\n",
      "    percent : float\n",
      "        Atom or weight percent\n",
      "    percent_type : {'ao', 'wo'}, optional\n",
      "        'ao' for atom percent and 'wo' for weight percent. Defaults to atom\n",
      "        percent.\n",
      "    enrichment : float, optional\n",
      "        Enrichment of an enrichment_target nuclide in percent (ao or wo).\n",
      "        If enrichment_target is not supplied then it is enrichment for U235\n",
      "        in weight percent. For example, input 4.95 for 4.95 weight percent\n",
      "        enriched U.\n",
      "        Default is None (natural composition).\n",
      "    enrichment_target: str, optional\n",
      "        Single nuclide name to enrich from a natural composition (e.g., 'O16')\n",
      "\n",
      "        .. versionadded:: 0.12\n",
      "    enrichment_type: {'ao', 'wo'}, optional\n",
      "        'ao' for enrichment as atom percent and 'wo' for weight percent.\n",
      "        Default is: 'ao' for two-isotope enrichment; 'wo' for U enrichment\n",
      "\n",
      "        .. versionadded:: 0.12\n",
      "    cross_sections : str, optional\n",
      "        Location of cross_sections.xml file.\n",
      "\n",
      "    Notes\n",
      "    -----\n",
      "    General enrichment procedure is allowed only for elements composed of\n",
      "    two isotopes. If `enrichment_target` is given without `enrichment`\n",
      "    natural composition is added to the material.\n",
      "\n"
     ]
    }
   ],
   "source": [
    "help(openmc.Material.add_element)"
   ]
  },
  {
   "cell_type": "code",
   "execution_count": 43,
   "id": "1fdb2110",
   "metadata": {},
   "outputs": [
    {
     "name": "stdout",
     "output_type": "stream",
     "text": [
      "Material\n",
      "\tID             =\t8\n",
      "\tName           =\tfake_fuel\n",
      "\tTemperature    =\tNone\n",
      "\tDensity        =\tNone [sum]\n",
      "\tVolume         =\tNone [cm^3]\n",
      "\tDepletable     =\tTrue\n",
      "\tS(a,b) Tables  \n",
      "\tNuclides       \n",
      "\tU234           =\t0.0002714687807976247 [ao]\n",
      "\tU235           =\t0.030371951808732825 [ao]\n",
      "\tU238           =\t0.9692174612830511 [ao]\n",
      "\tU236           =\t0.00013911812741848606 [ao]\n",
      "\n"
     ]
    }
   ],
   "source": [
    "uranium = openmc.Material(name='fake_fuel')\n",
    "uranium.add_element('U', 1.0, 'ao', enrichment=3.0)\n",
    "print(uranium)"
   ]
  },
  {
   "cell_type": "code",
   "execution_count": 44,
   "id": "fab79b99",
   "metadata": {},
   "outputs": [
    {
     "name": "stdout",
     "output_type": "stream",
     "text": [
      "[Material\n",
      "\tID             =\t2\n",
      "\tName           =\tfuel\n",
      "\tTemperature    =\tNone\n",
      "\tDensity        =\t0.07021 [atom/b-cm]\n",
      "\tVolume         =\tNone [cm^3]\n",
      "\tDepletable     =\tTrue\n",
      "\tS(a,b) Tables  \n",
      "\tNuclides       \n",
      "\tU235           =\t0.0149       [ao]\n",
      "\tU238           =\t0.0826       [ao]\n",
      "\tO16            =\t0.00469      [ao]\n",
      ", Material\n",
      "\tID             =\t3\n",
      "\tName           =\tsteel\n",
      "\tTemperature    =\tNone\n",
      "\tDensity        =\t0.0049 [atom/b-cm]\n",
      "\tVolume         =\tNone [cm^3]\n",
      "\tDepletable     =\tFalse\n",
      "\tS(a,b) Tables  \n",
      "\tNuclides       \n",
      "\tFe54           =\t0.05815775   [ao]\n",
      "\tFe56           =\t0.9129523    [ao]\n",
      "\tFe57           =\t0.02108405   [ao]\n",
      "\tFe58           =\t0.0028059    [ao]\n",
      "\tC12            =\t0.00494461   [ao]\n",
      "\tC13            =\t5.5389999999999997e-05 [ao]\n",
      ", Material\n",
      "\tID             =\t4\n",
      "\tName           =\thelium\n",
      "\tTemperature    =\tNone\n",
      "\tDensity        =\tNone [sum]\n",
      "\tVolume         =\tNone [cm^3]\n",
      "\tDepletable     =\tFalse\n",
      "\tS(a,b) Tables  \n",
      "\tNuclides       \n",
      "\tHe3            =\t1.9999999999999998e-17 [ao]\n",
      "\tHe4            =\t9.999979999999999e-12 [ao]\n",
      ", Material\n",
      "\tID             =\t5\n",
      "\tName           =\tsodium\n",
      "\tTemperature    =\tNone\n",
      "\tDensity        =\tNone [sum]\n",
      "\tVolume         =\tNone [cm^3]\n",
      "\tDepletable     =\tFalse\n",
      "\tS(a,b) Tables  \n",
      "\tNuclides       \n",
      "\tNa23           =\t0.0233       [ao]\n",
      "]\n"
     ]
    }
   ],
   "source": [
    "print(materials)"
   ]
  },
  {
   "cell_type": "markdown",
   "id": "29f9d2be-6f78-4f14-90bb-28dc5fdebbd4",
   "metadata": {},
   "source": [
    "---"
   ]
  },
  {
   "cell_type": "markdown",
   "id": "85b0c3be-0866-4ef2-b32b-ea968244fedc",
   "metadata": {},
   "source": [
    "## Defining Geometry\n",
    "\n",
    "At this point, we have three materials defined, exported to XML, and ready to be used in our model. To finish our model, we need to define the geometric arrangement of materials. OpenMC represents physical volumes using constructive solid geometry (CSG), also known as combinatorial geometry. The object that allows us to assign a material to a region of space is called a `Cell` (same concept in MCNP, for those familiar). There are four major stages in building a cell:\n",
    "\n",
    "### Surfaces\n",
    "In order to define a region that we can assign to a cell, we must first define surfaces which bound the region. A *surface* is a locus of zeros of a function of Cartesian coordinates $x$, $y$, and $z$, e.g.\n",
    "\n",
    "- A plane perpendicular to the x axis: $x - x_0 = 0$\n",
    "- A cylinder parallel to the z axis: $(x - x_0)^2 + (y - y_0)^2 - R^2 = 0$\n",
    "- A sphere: $(x - x_0)^2 + (y - y_0)^2 + (z - z_0)^2 - R^2 = 0$\n",
    "\n",
    "Between those three classes of surfaces (planes, cylinders, spheres), one can construct a wide variety of models. It is also possible to define cones and general second-order surfaces.\n",
    "\n",
    "### Half-Spaces\n",
    "Note that defining a surface is not sufficient to specify a volume -- in order to define an actual volume, one must reference the half-space of a surface. A surface *half-space* is the region whose points satisfy a positive or negative inequality of the surface equation. For example, for a sphere of radius one centered at the origin, the surface equation is $f(x,y,z) = x^2 + y^2 + z^2 - 1 = 0$. Thus, we say that the negative half-space of the sphere, is defined as the collection of points satisfying $f(x,y,z) < 0$, which one can reason is the inside of the sphere. Conversely, the positive half-space of the sphere would correspond to all points outside of the sphere.\n",
    "\n",
    "### Regions\n",
    "A region is then a combination (or just one) half-space.\n",
    "\n",
    "### Cells\n",
    "\n",
    "A Cell ties a region together with a \"fill\" (see below). Cells can be grouped together into `Universes` to produce replicated geometry (discussed in more detail later).\n",
    "\n",
    "### Fills\n",
    "Finally, a cell is complete once we have defined what is _filling_ the cell, which may be one of:\n",
    "\n",
    "- material\n",
    "- nothing (`None`), or vacuum/void\n",
    "- universe\n",
    "- lattice"
   ]
  },
  {
   "cell_type": "code",
   "execution_count": 45,
   "id": "68920615-38dd-4acb-a2de-a0226eb1e00d",
   "metadata": {},
   "outputs": [
    {
     "name": "stdout",
     "output_type": "stream",
     "text": [
      "Help on class Sphere in module openmc.surface:\n",
      "\n",
      "class Sphere(QuadricMixin, Surface)\n",
      " |  Sphere(x0=0.0, y0=0.0, z0=0.0, r=1.0, *args, **kwargs)\n",
      " |\n",
      " |  A sphere of the form :math:`(x - x_0)^2 + (y - y_0)^2 + (z - z_0)^2 = r^2`.\n",
      " |\n",
      " |  Parameters\n",
      " |  ----------\n",
      " |  x0 : float, optional\n",
      " |      x-coordinate of the center of the sphere in [cm]. Defaults to 0.\n",
      " |  y0 : float, optional\n",
      " |      y-coordinate of the center of the sphere in [cm]. Defaults to 0.\n",
      " |  z0 : float, optional\n",
      " |      z-coordinate of the center of the sphere in [cm]. Defaults to 0.\n",
      " |  r : float, optional\n",
      " |      Radius of the sphere in [cm]. Defaults to 1.\n",
      " |  boundary_type : {'transmission, 'vacuum', 'reflective', 'white'}, optional\n",
      " |      Boundary condition that defines the behavior for particles hitting the\n",
      " |      surface. Defaults to transmissive boundary condition where particles\n",
      " |      freely pass through the surface.\n",
      " |  albedo : float, optional\n",
      " |      Albedo of the surfaces as a ratio of particle weight after interaction\n",
      " |      with the surface to the initial weight. Values must be positive. Only\n",
      " |      applicable if the boundary type is 'reflective', 'periodic', or 'white'.\n",
      " |  name : str, optional\n",
      " |      Name of the sphere. If not specified, the name will be the empty string.\n",
      " |  surface_id : int, optional\n",
      " |      Unique identifier for the surface. If not specified, an identifier will\n",
      " |      automatically be assigned.\n",
      " |\n",
      " |  Attributes\n",
      " |  ----------\n",
      " |  x0 : float\n",
      " |      x-coordinate of the center of the sphere in [cm]\n",
      " |  y0 : float\n",
      " |      y-coordinate of the center of the sphere in [cm]\n",
      " |  z0 : float\n",
      " |      z-coordinate of the center of the sphere in [cm]\n",
      " |  r : float\n",
      " |      Radius of the sphere in [cm]\n",
      " |  boundary_type : {'transmission, 'vacuum', 'reflective', 'white'}\n",
      " |      Boundary condition that defines the behavior for particles hitting the\n",
      " |      surface.\n",
      " |  albedo : float\n",
      " |      Boundary albedo as a positive multiplier of particle weight\n",
      " |  coefficients : dict\n",
      " |      Dictionary of surface coefficients\n",
      " |  id : int\n",
      " |      Unique identifier for the surface\n",
      " |  name : str\n",
      " |      Name of the surface\n",
      " |  type : str\n",
      " |      Type of the surface\n",
      " |\n",
      " |  Method resolution order:\n",
      " |      Sphere\n",
      " |      QuadricMixin\n",
      " |      Surface\n",
      " |      openmc.mixin.IDManagerMixin\n",
      " |      abc.ABC\n",
      " |      builtins.object\n",
      " |\n",
      " |  Methods defined here:\n",
      " |\n",
      " |  __init__(self, x0=0.0, y0=0.0, z0=0.0, r=1.0, *args, **kwargs)\n",
      " |      Initialize self.  See help(type(self)) for accurate signature.\n",
      " |\n",
      " |  bounding_box(self, side)\n",
      " |      Determine an axis-aligned bounding box.\n",
      " |\n",
      " |      An axis-aligned bounding box for surface half-spaces is represented by\n",
      " |      its lower-left and upper-right coordinates. If the half-space is\n",
      " |      unbounded in a particular direction, numpy.inf is used to represent\n",
      " |      infinity.\n",
      " |\n",
      " |      Parameters\n",
      " |      ----------\n",
      " |      side : {'+', '-'}\n",
      " |          Indicates the negative or positive half-space\n",
      " |\n",
      " |      Returns\n",
      " |      -------\n",
      " |      numpy.ndarray\n",
      " |          Lower-left coordinates of the axis-aligned bounding box for the\n",
      " |          desired half-space\n",
      " |      numpy.ndarray\n",
      " |          Upper-right coordinates of the axis-aligned bounding box for the\n",
      " |          desired half-space\n",
      " |\n",
      " |  evaluate(self, point)\n",
      " |      Evaluate the surface equation at a given point.\n",
      " |\n",
      " |      Parameters\n",
      " |      ----------\n",
      " |      point : 3-tuple of float\n",
      " |          The Cartesian coordinates, :math:`(x',y',z')`, in [cm] at which the\n",
      " |          surface equation should be evaluated.\n",
      " |\n",
      " |      Returns\n",
      " |      -------\n",
      " |      float\n",
      " |          :math:`Ax'^2 + By'^2 + Cz'^2 + Dx'y' + Ey'z' + Fx'z' + Gx' + Hy' +\n",
      " |          Jz' + K = 0`\n",
      " |\n",
      " |  ----------------------------------------------------------------------\n",
      " |  Data descriptors defined here:\n",
      " |\n",
      " |  r\n",
      " |\n",
      " |  x0\n",
      " |\n",
      " |  y0\n",
      " |\n",
      " |  z0\n",
      " |\n",
      " |  ----------------------------------------------------------------------\n",
      " |  Data and other attributes defined here:\n",
      " |\n",
      " |  __abstractmethods__ = frozenset()\n",
      " |\n",
      " |  ----------------------------------------------------------------------\n",
      " |  Methods inherited from QuadricMixin:\n",
      " |\n",
      " |  eigh(self, coeffs=None)\n",
      " |      Wrapper method for returning eigenvalues and eigenvectors of this\n",
      " |      quadric surface which is used for transformations.\n",
      " |\n",
      " |      Parameters\n",
      " |      ----------\n",
      " |      coeffs : tuple, optional\n",
      " |          Tuple of coefficients from which to compute the quadric elements.\n",
      " |          If none are supplied the coefficients of this surface will be used.\n",
      " |\n",
      " |      Returns\n",
      " |      -------\n",
      " |      w, v : tuple of numpy arrays with shapes (3,) and (3,3) respectively\n",
      " |          Returns the eigenvalues and eigenvectors of the quadric matrix A\n",
      " |          that represents the supplied coefficients. The vector w contains\n",
      " |          the eigenvalues in ascending order and the matrix v contains the\n",
      " |          eigenvectors such that v[:,i] is the eigenvector corresponding to\n",
      " |          the eigenvalue w[i].\n",
      " |\n",
      " |  get_Abc(self, coeffs=None)\n",
      " |      Compute matrix, vector, and scalar coefficients for this surface or\n",
      " |      for a specified set of coefficients.\n",
      " |\n",
      " |      Parameters\n",
      " |      ----------\n",
      " |      coeffs : tuple, optional\n",
      " |          Tuple of coefficients from which to compute the quadric elements.\n",
      " |          If none are supplied the coefficients of this surface will be used.\n",
      " |\n",
      " |  rotate(self, rotation, pivot=(0.0, 0.0, 0.0), order='xyz', inplace=False)\n",
      " |\n",
      " |  translate(self, vector, inplace=False)\n",
      " |      Translate surface in given direction\n",
      " |\n",
      " |      Parameters\n",
      " |      ----------\n",
      " |      vector : iterable of float\n",
      " |          Direction in which surface should be translated\n",
      " |      inplace : bool\n",
      " |          Whether to return a clone of the Surface or the Surface itself.\n",
      " |\n",
      " |      Returns\n",
      " |      -------\n",
      " |      openmc.Surface\n",
      " |          Translated surface\n",
      " |\n",
      " |  ----------------------------------------------------------------------\n",
      " |  Data descriptors inherited from QuadricMixin:\n",
      " |\n",
      " |  __dict__\n",
      " |      dictionary for instance variables\n",
      " |\n",
      " |  __weakref__\n",
      " |      list of weak references to the object\n",
      " |\n",
      " |  ----------------------------------------------------------------------\n",
      " |  Methods inherited from Surface:\n",
      " |\n",
      " |  __neg__(self)\n",
      " |\n",
      " |  __pos__(self)\n",
      " |\n",
      " |  __repr__(self)\n",
      " |      Return repr(self).\n",
      " |\n",
      " |  clone(self, memo=None)\n",
      " |      Create a copy of this surface with a new unique ID.\n",
      " |\n",
      " |      Parameters\n",
      " |      ----------\n",
      " |      memo : dict or None\n",
      " |          A nested dictionary of previously cloned objects. This parameter\n",
      " |          is used internally and should not be specified by the user.\n",
      " |\n",
      " |      Returns\n",
      " |      -------\n",
      " |      clone : openmc.Surface\n",
      " |          The clone of this surface\n",
      " |\n",
      " |  is_equal(self, other)\n",
      " |      Determine if this Surface is equivalent to another\n",
      " |\n",
      " |      Parameters\n",
      " |      ----------\n",
      " |      other : instance of openmc.Surface\n",
      " |          Instance of openmc.Surface that should be compared to the current\n",
      " |          surface\n",
      " |\n",
      " |  normalize(self, coeffs=None)\n",
      " |      Normalize coefficients by first nonzero value\n",
      " |\n",
      " |      .. versionadded:: 0.12\n",
      " |\n",
      " |      Parameters\n",
      " |      ----------\n",
      " |      coeffs : tuple, optional\n",
      " |          Tuple of surface coefficients to normalize. Defaults to None. If no\n",
      " |          coefficients are supplied then the coefficients will be taken from\n",
      " |          the current Surface.\n",
      " |\n",
      " |      Returns\n",
      " |      -------\n",
      " |      tuple of normalized coefficients\n",
      " |\n",
      " |  to_xml_element(self)\n",
      " |      Return XML representation of the surface\n",
      " |\n",
      " |      Returns\n",
      " |      -------\n",
      " |      element : lxml.etree._Element\n",
      " |          XML element containing source data\n",
      " |\n",
      " |  ----------------------------------------------------------------------\n",
      " |  Static methods inherited from Surface:\n",
      " |\n",
      " |  from_hdf5(group)\n",
      " |      Create surface from HDF5 group\n",
      " |\n",
      " |      Parameters\n",
      " |      ----------\n",
      " |      group : h5py.Group\n",
      " |          Group in HDF5 file\n",
      " |\n",
      " |      Returns\n",
      " |      -------\n",
      " |      openmc.Surface\n",
      " |          Instance of surface subclass\n",
      " |\n",
      " |  from_xml_element(elem)\n",
      " |      Generate surface from an XML element\n",
      " |\n",
      " |      Parameters\n",
      " |      ----------\n",
      " |      elem : lxml.etree._Element\n",
      " |          XML element\n",
      " |\n",
      " |      Returns\n",
      " |      -------\n",
      " |      openmc.Surface\n",
      " |          Instance of a surface subclass\n",
      " |\n",
      " |  ----------------------------------------------------------------------\n",
      " |  Readonly properties inherited from Surface:\n",
      " |\n",
      " |  coefficients\n",
      " |\n",
      " |  type\n",
      " |\n",
      " |  ----------------------------------------------------------------------\n",
      " |  Data descriptors inherited from Surface:\n",
      " |\n",
      " |  albedo\n",
      " |\n",
      " |  boundary_type\n",
      " |\n",
      " |  name\n",
      " |\n",
      " |  ----------------------------------------------------------------------\n",
      " |  Data and other attributes inherited from Surface:\n",
      " |\n",
      " |  next_id = 1\n",
      " |\n",
      " |  used_ids = set()\n",
      " |\n",
      " |  ----------------------------------------------------------------------\n",
      " |  Data descriptors inherited from openmc.mixin.IDManagerMixin:\n",
      " |\n",
      " |  id\n",
      "\n"
     ]
    }
   ],
   "source": [
    "help(openmc.Sphere)"
   ]
  },
  {
   "cell_type": "code",
   "execution_count": 46,
   "id": "110de4ed",
   "metadata": {},
   "outputs": [
    {
     "name": "stdout",
     "output_type": "stream",
     "text": [
      "Surface\n",
      "\tID                 =\t1\n",
      "\tName               =\t\n",
      "\tType               =\tsphere\n",
      "\tBoundary           =\ttransmission\n",
      "\tCoefficients       \n",
      "x0                  =\t0.0\n",
      "y0                  =\t0.0\n",
      "z0                  =\t0.0\n",
      "r                   =\t1.0\n",
      "\n"
     ]
    }
   ],
   "source": [
    "sphere = openmc.Sphere(r=1.0, boundary_type='transmission')\n",
    "print(sphere)"
   ]
  },
  {
   "cell_type": "markdown",
   "id": "e915259c-13d9-4169-8850-a6db98ce93f0",
   "metadata": {},
   "source": [
    "Note that by default the sphere is centered at the origin so we didn't have to supply `x0`, `y0`, or `z0` arguments. Strictly speaking, we could have omitted `r` as well since it defaults to one. To get the negative or positive half-space, we simply need to apply the `-` or `+` unary operators, respectively.\n",
    "\n",
    "(NOTE: Those unary operators are defined by special methods: `__pos__` and `__neg__` in this case)."
   ]
  },
  {
   "cell_type": "code",
   "execution_count": 47,
   "id": "618d262a-6b43-4786-932d-a173d65fc2e1",
   "metadata": {},
   "outputs": [
    {
     "data": {
      "text/plain": [
       "openmc.surface.Halfspace"
      ]
     },
     "execution_count": 47,
     "metadata": {},
     "output_type": "execute_result"
    }
   ],
   "source": [
    "inside_sphere = -sphere\n",
    "type(inside_sphere)"
   ]
  },
  {
   "cell_type": "markdown",
   "id": "7ff5d01e-c958-48b1-a95e-c8f6cacaff06",
   "metadata": {},
   "source": [
    "Now let's see if `inside_sphere` actually contains points inside the sphere:"
   ]
  },
  {
   "cell_type": "code",
   "execution_count": 48,
   "id": "8563ac21-925a-47a3-b5e7-a34cc6454f83",
   "metadata": {},
   "outputs": [
    {
     "data": {
      "text/plain": [
       "True"
      ]
     },
     "execution_count": 48,
     "metadata": {},
     "output_type": "execute_result"
    }
   ],
   "source": [
    "(0, 0, 0) in inside_sphere"
   ]
  },
  {
   "cell_type": "code",
   "execution_count": 49,
   "id": "45871ff5",
   "metadata": {},
   "outputs": [
    {
     "data": {
      "text/plain": [
       "False"
      ]
     },
     "execution_count": 49,
     "metadata": {},
     "output_type": "execute_result"
    }
   ],
   "source": [
    "(2, 3, 0) in inside_sphere"
   ]
  },
  {
   "cell_type": "code",
   "execution_count": 50,
   "id": "dd2fbf47",
   "metadata": {},
   "outputs": [
    {
     "data": {
      "text/plain": [
       "True"
      ]
     },
     "execution_count": 50,
     "metadata": {},
     "output_type": "execute_result"
    }
   ],
   "source": [
    "outside_sphere = +sphere\n",
    "(2, 3, 0) in outside_sphere"
   ]
  },
  {
   "cell_type": "markdown",
   "id": "b630b160-60d7-4250-a7cc-508548ddb57a",
   "metadata": {},
   "source": [
    "Everything works as expected! Now that we understand how to create half-spaces, we can create more complex volumes by combining half-spaces using Boolean operators: `&` (intersection), `|` (union), and `~` (complement):\n",
    "\n",
    "- `&`: logical AND\n",
    "- `|`: logical OR\n",
    "- `~`: logical NOT\n",
    "\n",
    "For example, let's say we want to define a region that is the top part of the sphere (all points inside the sphere that have $z > 0$."
   ]
  },
  {
   "cell_type": "code",
   "execution_count": 51,
   "id": "55d67e6e-8ab0-47e0-87ac-ca121d62ee49",
   "metadata": {},
   "outputs": [],
   "source": [
    "z_plane = openmc.ZPlane(z0=0)"
   ]
  },
  {
   "cell_type": "code",
   "execution_count": 52,
   "id": "a3fa949e",
   "metadata": {},
   "outputs": [],
   "source": [
    "northern_hemisphere = -sphere & +z_plane"
   ]
  },
  {
   "cell_type": "code",
   "execution_count": 53,
   "id": "d007bd3c",
   "metadata": {},
   "outputs": [
    {
     "data": {
      "text/plain": [
       "False"
      ]
     },
     "execution_count": 53,
     "metadata": {},
     "output_type": "execute_result"
    }
   ],
   "source": [
    "(0, 0, -0.5) in northern_hemisphere"
   ]
  },
  {
   "cell_type": "markdown",
   "id": "c01ea08f-ac50-486d-b8f9-4c3c82e82943",
   "metadata": {},
   "source": [
    "For many regions, OpenMC can automatically determine a bounding box. To get the bounding box, we use the `bounding_box` property of a region, which returns a tuple of the lower-left and upper-right Cartesian coordinates for the bounding box:"
   ]
  },
  {
   "cell_type": "code",
   "execution_count": 54,
   "id": "c93009b2-92f3-48d0-9360-89514d08b07f",
   "metadata": {},
   "outputs": [
    {
     "data": {
      "text/plain": [
       "BoundingBox(lower_left=(-1.0, -1.0, 0.0), upper_right=(1.0, 1.0, 1.0))"
      ]
     },
     "execution_count": 54,
     "metadata": {},
     "output_type": "execute_result"
    }
   ],
   "source": [
    "northern_hemisphere.bounding_box"
   ]
  },
  {
   "cell_type": "markdown",
   "id": "ada93a32-5ddf-44eb-b508-9d8dd4723a15",
   "metadata": {},
   "source": [
    "Now that we see how to create volumes, we can use them to create a cell."
   ]
  },
  {
   "cell_type": "markdown",
   "id": "2bf87911-baae-4e31-81c8-bfa868b3458d",
   "metadata": {},
   "source": [
    "The full [list of available surfaces](https://docs.openmc.org/en/stable/pythonapi/base.html#building-geometry) is as follows.\n",
    "\n",
    "Planes:\n",
    "\n",
    "- `openmc.Plane` — An arbitrary plane of the form $Ax + By + Cz = D$\n",
    "- `openmc.XPlane` — A plane perpendicular to the x axis of the form $x - x_0 = 0$\n",
    "- `openmc.YPlane` — A plane perpendicular to the y axis of the form $y - y_0 = 0$\n",
    "- `openmc.ZPlane` — A plane perpendicular to the z axis of the form $z - z_0 = 0$\n",
    "\n",
    "Quadrics:\n",
    "\n",
    "- `openmc.XCylinder` — An infinite cylinder whose length is parallel to the x-axis of the form $(y - y_0)^2 + (z - z_0)^2 = r^2$\n",
    "- `openmc.YCylinder` — An infinite cylinder whose length is parallel to the x-axis of the form $(x - x_0)^2 + (z - z_0)^2 = r^2$\n",
    "- `openmc.ZCylinder` — An infinite cylinder whose length is parallel to the x-axis of the form $(x - x_0)^2 + (y - y_0)^2 = r^2$\n",
    "- `openmc.Sphere` — A sphere of the form $(x - x_0)^2 + (y - y_0)^2 + (z - z_0)^2 = r^2$\n",
    "- `openmc.XCone` — A cone parallel to the x-axis of the form $(y - y_0)^2 + (z - z_0)^2 = r^2 (x - x_0)^2$\n",
    "- `openmc.YCone` — A cone parallel to the y-axis of the form $(x - x_0)^2 + (z - z_0)^2 = r^2 (y - y_0)^2$\n",
    "- `openmc.ZCone` — A cone parallel to the z-axis of the form $(x - x_0)^2 + (y - y_0)^2 = r^2 (z - z_0)^2$\n",
    "- `openmc.Quadric` — A generic quadric surface\n",
    "\n",
    "Torii:\n",
    "\n",
    "- `openmc.XTorus` — A torus of the form $(x - x_0)^2/B^2 + (\\sqrt{(y - y_0)^2 + (z - z_0)^2} - A)^2/C^2 - 1 = 0$\n",
    "- `openmc.YTorus` — A torus of the form $(y - y_0)^2/B^2 + (\\sqrt{(x - x_0)^2 + (z - z_0)^2} - A)^2/C^2 - 1 = 0$\n",
    "- `openmc.ZTorus` — A torus of the form $(z - z_0)^2/B^2 + (\\sqrt{(x - x_0)^2 + (y - y_0)^2} - A)^2/C^2 - 1 = 0$"
   ]
  },
  {
   "cell_type": "markdown",
   "id": "76c66cd0-2fa7-40c9-a0e5-f443dc6958de",
   "metadata": {},
   "source": [
    "### Boundary Conditions\n",
    "\n",
    "When you create a surface, by default particles that pass through the surface will consider it to be transmissive, i.e. they pass through the surface freely. To specify boundary conditions, you simply need to set the `Surface.boundary_type` to one of:\n",
    "\n",
    "- `vacuum`\n",
    "- `reflective`\n",
    "- `periodic` (either rotational or translational)\n",
    "- `white`"
   ]
  },
  {
   "cell_type": "code",
   "execution_count": 55,
   "id": "42ed665a-aa50-4765-88ba-4dc2aee47281",
   "metadata": {},
   "outputs": [],
   "source": [
    "sphere.boundary_type = 'vacuum'"
   ]
  },
  {
   "cell_type": "code",
   "execution_count": 56,
   "id": "d5386b4f",
   "metadata": {},
   "outputs": [
    {
     "name": "stdout",
     "output_type": "stream",
     "text": [
      "Surface\n",
      "\tID                 =\t1\n",
      "\tName               =\t\n",
      "\tType               =\tsphere\n",
      "\tBoundary           =\tvacuum\n",
      "\tCoefficients       \n",
      "x0                  =\t0.0\n",
      "y0                  =\t0.0\n",
      "z0                  =\t0.0\n",
      "r                   =\t1.0\n",
      "\n"
     ]
    }
   ],
   "source": [
    "print(sphere)"
   ]
  },
  {
   "cell_type": "markdown",
   "id": "ccde801f-0dd4-4341-afb4-c74ead263d24",
   "metadata": {},
   "source": [
    "By default, the cell is not filled by any material (void). In order to assign a material, we set the `fill` property of a `Cell`."
   ]
  },
  {
   "cell_type": "code",
   "execution_count": 57,
   "id": "e909abe4-ca4f-4d40-8c4e-972528a8be77",
   "metadata": {},
   "outputs": [
    {
     "name": "stdout",
     "output_type": "stream",
     "text": [
      "Cell\n",
      "\tID             =\t3\n",
      "\tName           =\t\n",
      "\tFill           =\tNone\n",
      "\tRegion         =\tNone\n",
      "\tRotation       =\tNone\n",
      "\tTranslation    =\tNone\n",
      "\tVolume         =\tNone\n",
      "\n"
     ]
    }
   ],
   "source": [
    "cell = openmc.Cell()\n",
    "print(cell)"
   ]
  },
  {
   "cell_type": "code",
   "execution_count": 58,
   "id": "68a07411",
   "metadata": {},
   "outputs": [],
   "source": [
    "cell.fill = steel\n",
    "cell.region = northern_hemisphere"
   ]
  },
  {
   "cell_type": "code",
   "execution_count": 59,
   "id": "2fbd3ed8",
   "metadata": {},
   "outputs": [
    {
     "name": "stdout",
     "output_type": "stream",
     "text": [
      "Cell\n",
      "\tID             =\t3\n",
      "\tName           =\t\n",
      "\tFill           =\tMaterial 3\n",
      "\tRegion         =\t(-1 2)\n",
      "\tRotation       =\tNone\n",
      "\tTemperature    =\tNone\n",
      "\tTranslation    =\tNone\n",
      "\tVolume         =\tNone\n",
      "\n"
     ]
    }
   ],
   "source": [
    "print(cell)"
   ]
  },
  {
   "cell_type": "markdown",
   "id": "1af95209-5de3-4899-aff8-a0c75b2dbd5e",
   "metadata": {},
   "source": [
    "## Universes and in-line plotting"
   ]
  },
  {
   "cell_type": "markdown",
   "id": "4ee8e5bc-dccc-4dcc-9ad5-8e12055679c8",
   "metadata": {},
   "source": [
    "A collection of cells is known as a universe (again, this will be familiar to MCNP/Serpent users) and can be used as a repeatable unit when creating a model. Although we don't need it yet, the benefit of creating a universe is that we can visualize our geometry while we're creating it."
   ]
  },
  {
   "cell_type": "code",
   "execution_count": 60,
   "id": "9a68fb0b-e8a5-4e96-affc-1c176e5be7de",
   "metadata": {},
   "outputs": [],
   "source": [
    "universe = openmc.Universe(cells = [cell])"
   ]
  },
  {
   "cell_type": "code",
   "execution_count": 61,
   "id": "0b7809f1",
   "metadata": {},
   "outputs": [
    {
     "data": {
      "text/plain": [
       "<bound method Universe.add_cell of Universe\n",
       "\tID             =\t1\n",
       "\tName           =\t\n",
       "\tGeom           =\tCSG\n",
       "\tCells          =\t[3]\n",
       ">"
      ]
     },
     "execution_count": 61,
     "metadata": {},
     "output_type": "execute_result"
    }
   ],
   "source": [
    "universe.add_cell"
   ]
  },
  {
   "cell_type": "markdown",
   "id": "d058f7cf-887c-458a-a6b3-0c46aa40a217",
   "metadata": {},
   "source": [
    "The `Universe` object has a `plot` method that will display our the universe as current constructed:"
   ]
  },
  {
   "cell_type": "code",
   "execution_count": 62,
   "id": "414dd3c0-aac2-4fec-85e4-de2a38bca081",
   "metadata": {},
   "outputs": [
    {
     "name": "stdout",
     "output_type": "stream",
     "text": [
      "Help on method plot in module openmc.universe:\n",
      "\n",
      "plot(origin=None, width=None, pixels=40000, basis='xy', color_by='cell', colors=None, seed=None, openmc_exec='openmc', axes=None, legend=False, axis_units='cm', legend_kwargs={'bbox_to_anchor': (1.05, 1), 'loc': 2, 'borderaxespad': 0.0}, outline=False, **kwargs) method of openmc.universe.Universe instance\n",
      "    Display a slice plot of the universe.\n",
      "\n",
      "    Parameters\n",
      "    ----------\n",
      "    origin : iterable of float\n",
      "        Coordinates at the origin of the plot. If left as None,\n",
      "        universe.bounding_box.center will be used to attempt to ascertain\n",
      "        the origin with infinite values being replaced by 0.\n",
      "    width : iterable of float\n",
      "        Width of the plot in each basis direction. If left as none then the\n",
      "        universe.bounding_box.width() will be used to attempt to\n",
      "        ascertain the plot width.  Defaults to (10, 10) if the bounding_box\n",
      "        contains inf values\n",
      "    pixels : Iterable of int or int\n",
      "        If iterable of ints provided then this directly sets the number of\n",
      "        pixels to use in each basis direction. If int provided then this\n",
      "        sets the total number of pixels in the plot and the number of\n",
      "        pixels in each basis direction is calculated from this total and\n",
      "        the image aspect ratio.\n",
      "    basis : {'xy', 'xz', 'yz'}\n",
      "        The basis directions for the plot\n",
      "    color_by : {'cell', 'material'}\n",
      "        Indicate whether the plot should be colored by cell or by material\n",
      "    colors : dict\n",
      "        Assigns colors to specific materials or cells. Keys are instances of\n",
      "        :class:`Cell` or :class:`Material` and values are RGB 3-tuples, RGBA\n",
      "        4-tuples, or strings indicating SVG color names. Red, green, blue,\n",
      "        and alpha should all be floats in the range [0.0, 1.0], for example:\n",
      "\n",
      "        .. code-block:: python\n",
      "\n",
      "           # Make water blue\n",
      "           water = openmc.Cell(fill=h2o)\n",
      "           universe.plot(..., colors={water: (0., 0., 1.))\n",
      "    seed : int\n",
      "        Seed for the random number generator\n",
      "    openmc_exec : str\n",
      "        Path to OpenMC executable.\n",
      "    axes : matplotlib.Axes\n",
      "        Axes to draw to\n",
      "\n",
      "        .. versionadded:: 0.13.1\n",
      "    legend : bool\n",
      "        Whether a legend showing material or cell names should be drawn\n",
      "\n",
      "        .. versionadded:: 0.14.0\n",
      "    legend_kwargs : dict\n",
      "        Keyword arguments passed to :func:`matplotlib.pyplot.legend`.\n",
      "\n",
      "        .. versionadded:: 0.14.0\n",
      "    outline : bool\n",
      "        Whether outlines between color boundaries should be drawn\n",
      "\n",
      "        .. versionadded:: 0.14.0\n",
      "    axis_units : {'km', 'm', 'cm', 'mm'}\n",
      "        Units used on the plot axis\n",
      "\n",
      "        .. versionadded:: 0.14.0\n",
      "    **kwargs\n",
      "        Keyword arguments passed to :func:`matplotlib.pyplot.imshow`\n",
      "\n",
      "    Returns\n",
      "    -------\n",
      "    matplotlib.axes.Axes\n",
      "        Axes containing resulting image\n",
      "\n"
     ]
    }
   ],
   "source": [
    "help(universe.plot)"
   ]
  },
  {
   "cell_type": "code",
   "execution_count": 63,
   "id": "8bc2dd52",
   "metadata": {},
   "outputs": [
    {
     "data": {
      "text/plain": [
       "<Axes: xlabel='x [cm]', ylabel='y [cm]'>"
      ]
     },
     "execution_count": 63,
     "metadata": {},
     "output_type": "execute_result"
    },
    {
     "data": {
      "image/png": "[encoded data removed]",
      "text/plain": [
       "<Figure size 258.065x259.74 with 1 Axes>"
      ]
     },
     "metadata": {},
     "output_type": "display_data"
    }
   ],
   "source": [
    "universe.plot(width=(2.0, 2.0))"
   ]
  },
  {
   "cell_type": "markdown",
   "id": "9e966c31-65e0-42e1-8d06-23c06cf63280",
   "metadata": {},
   "source": [
    "By default, the plot will appear in the $x$-$y$ plane. We can change that with the `basis` argument."
   ]
  },
  {
   "cell_type": "code",
   "execution_count": 64,
   "id": "db9229bc-3739-4359-9f07-7520497e3d6d",
   "metadata": {},
   "outputs": [
    {
     "data": {
      "text/plain": [
       "<Axes: xlabel='x [cm]', ylabel='z [cm]'>"
      ]
     },
     "execution_count": 64,
     "metadata": {},
     "output_type": "execute_result"
    },
    {
     "data": {
      "image/png": "[encoded data removed]",
      "text/plain": [
       "<Figure size 258.065x259.74 with 1 Axes>"
      ]
     },
     "metadata": {},
     "output_type": "display_data"
    }
   ],
   "source": [
    "universe.plot(width=(2.0, 2.0), basis='xz')"
   ]
  },
  {
   "cell_type": "markdown",
   "id": "ea046942-af74-4e7c-9529-6a031a79be0f",
   "metadata": {},
   "source": [
    "If we have particular fondness for, say, fuchsia, we can tell the `plot()` method to make our cell that color."
   ]
  },
  {
   "cell_type": "code",
   "execution_count": 65,
   "id": "dfafbbc2-68b9-4da9-8f30-cc1789229790",
   "metadata": {},
   "outputs": [],
   "source": [
    "colors = {cell: 'blue'} # or by RGB. Grey would be (75, 75, 75)"
   ]
  },
  {
   "cell_type": "code",
   "execution_count": 66,
   "id": "4670bf47",
   "metadata": {},
   "outputs": [
    {
     "data": {
      "text/plain": [
       "<Axes: xlabel='x [cm]', ylabel='z [cm]'>"
      ]
     },
     "execution_count": 66,
     "metadata": {},
     "output_type": "execute_result"
    },
    {
     "data": {
      "image/png": "[encoded data removed]",
      "text/plain": [
       "<Figure size 258.065x259.74 with 1 Axes>"
      ]
     },
     "metadata": {},
     "output_type": "display_data"
    }
   ],
   "source": [
    "universe.plot(width=(2.0, 2.0), basis='xz', colors=colors)"
   ]
  },
  {
   "cell_type": "code",
   "execution_count": 67,
   "id": "0b1c9b7a",
   "metadata": {},
   "outputs": [
    {
     "data": {
      "text/plain": [
       "<Axes: xlabel='x [cm]', ylabel='z [cm]'>"
      ]
     },
     "execution_count": 67,
     "metadata": {},
     "output_type": "execute_result"
    },
    {
     "data": {
      "image/png": "[encoded data removed]",
      "text/plain": [
       "<Figure size 774.194x779.221 with 1 Axes>"
      ]
     },
     "metadata": {},
     "output_type": "display_data"
    }
   ],
   "source": [
    "universe.plot(width=(2.0, 2.0), pixels=(600, 600), basis='xz', colors=colors)"
   ]
  },
  {
   "cell_type": "markdown",
   "id": "6f06cec8-e798-4a27-baf4-523561eee599",
   "metadata": {},
   "source": [
    "---"
   ]
  },
  {
   "cell_type": "markdown",
   "id": "a14a88d8-af4c-4ea6-903b-b52b4d294ed5",
   "metadata": {},
   "source": [
    "## The CEFR pincell geometry\n",
    "\n",
    "We now have enough knowledge to create our pin-cell. For CEFR, we need four surfaces to define the fuel and clad:\n",
    "\n",
    "1. The inner surface of the fuel hole -- a cylinder parallel to the z axis\n",
    "2. The outer surface of the fuel -- same as above\n",
    "3. The inner surface of the cladding -- same as above\n",
    "4. The outer surface of the cladding -- same as above\n",
    "\n",
    "These four surfaces will all be instances of `openmc.ZCylinder`, each with a different radius according to the specification."
   ]
  },
  {
   "cell_type": "code",
   "execution_count": 68,
   "id": "73459515-773d-4c8f-9e8e-4b9029487dfb",
   "metadata": {},
   "outputs": [],
   "source": [
    "fuel_hole_radius = openmc.ZCylinder(r=0.08020)\n",
    "fuel_outer_radius = openmc.ZCylinder(r=0.25565)\n",
    "clad_inner_radius = openmc.ZCylinder(r=0.27112)\n",
    "clad_outer_radius = openmc.ZCylinder(r=0.30499)"
   ]
  },
  {
   "cell_type": "code",
   "execution_count": 69,
   "id": "6bf0e032",
   "metadata": {},
   "outputs": [],
   "source": [
    "hole_region = -fuel_hole_radius\n",
    "fuel_region = +fuel_hole_radius & -fuel_outer_radius\n",
    "gap_region = +fuel_outer_radius & -clad_inner_radius\n",
    "clad_region = +clad_inner_radius & -clad_outer_radius"
   ]
  },
  {
   "cell_type": "markdown",
   "id": "68f2773b-2422-451b-a144-e103c54bffa3",
   "metadata": {},
   "source": [
    "Finally, we need to handle the coolant outside of our fuel pin. To do this, we create x- and y-planes that bound the geometry."
   ]
  },
  {
   "cell_type": "code",
   "execution_count": 70,
   "id": "1eb35760-c7e5-4645-a5b6-b292c4dc7bb4",
   "metadata": {},
   "outputs": [],
   "source": [
    "pitch = 0.695 # cm\n",
    "top = openmc.YPlane(y0 = pitch/2)\n",
    "bottom = openmc.YPlane(y0= -pitch/2)\n",
    "left = openmc.XPlane(x0 = -pitch/2)\n",
    "right = openmc.XPlane(x0 = pitch/2)\n",
    "\n",
    "for surf in [top, bottom, left, right]:\n",
    "    surf.boundary_type = 'reflective'\n",
    "\n",
    "coolant_region = +clad_outer_radius & -top & +bottom & +left & -right"
   ]
  },
  {
   "cell_type": "code",
   "execution_count": 71,
   "id": "e57bee92",
   "metadata": {},
   "outputs": [],
   "source": [
    "fuel_hole = openmc.Cell(region=hole_region, fill=he4)\n",
    "fuel_cell = openmc.Cell(region=fuel_region, fill=uo2)\n",
    "gap_cell = openmc.Cell(region=gap_region, fill=he4)\n",
    "clad_cell = openmc.Cell(region=clad_region, fill=steel)"
   ]
  },
  {
   "cell_type": "code",
   "execution_count": 72,
   "id": "62e23dee",
   "metadata": {},
   "outputs": [],
   "source": [
    "coolant_cell = openmc.Cell(region=coolant_region, fill=sodium)"
   ]
  },
  {
   "cell_type": "markdown",
   "id": "c21ab607-ca9f-428d-86e6-59795611e4c7",
   "metadata": {},
   "source": [
    "The sodium region is going to be everything outside of the clad outer radius and within the box formed as the intersection of four half-spaces."
   ]
  },
  {
   "cell_type": "code",
   "execution_count": 73,
   "id": "8e6a57a6-f6e0-423d-a64c-d9b7963b07df",
   "metadata": {},
   "outputs": [],
   "source": [
    "root_universe = openmc.Universe()\n",
    "root_universe.add_cells([fuel_hole, fuel_cell, gap_cell, clad_cell, coolant_cell])"
   ]
  },
  {
   "cell_type": "code",
   "execution_count": 74,
   "id": "2f319dc8",
   "metadata": {},
   "outputs": [
    {
     "name": "stdout",
     "output_type": "stream",
     "text": [
      "Universe\n",
      "\tID             =\t2\n",
      "\tName           =\t\n",
      "\tGeom           =\tCSG\n",
      "\tCells          =\t[4, 5, 6, 7, 8]\n",
      "\n"
     ]
    }
   ],
   "source": [
    "print(root_universe)"
   ]
  },
  {
   "cell_type": "code",
   "execution_count": 75,
   "id": "db0257aa",
   "metadata": {},
   "outputs": [
    {
     "data": {
      "text/plain": [
       "<Axes: xlabel='x [cm]', ylabel='y [cm]'>"
      ]
     },
     "execution_count": 75,
     "metadata": {},
     "output_type": "execute_result"
    },
    {
     "data": {
      "image/png": "[encoded data removed]",
      "text/plain": [
       "<Figure size 258.065x259.74 with 1 Axes>"
      ]
     },
     "metadata": {},
     "output_type": "display_data"
    }
   ],
   "source": [
    "root_universe.plot()"
   ]
  },
  {
   "cell_type": "markdown",
   "id": "6e7c740f-bed5-49e2-80f6-3c1ea0e3f57a",
   "metadata": {},
   "source": [
    "The final step is to assign the cells we created to a universe and tell OpenMC that this universe is the \"root\" universe in our geometry. The `Geometry` is the final object that is actually exported to XML."
   ]
  },
  {
   "cell_type": "code",
   "execution_count": 76,
   "id": "ea6ef5c7-0d33-49de-b7f8-5e850b6583fb",
   "metadata": {},
   "outputs": [],
   "source": [
    "geometry = openmc.Geometry(root=root_universe)"
   ]
  },
  {
   "cell_type": "code",
   "execution_count": 77,
   "id": "dcedebea",
   "metadata": {},
   "outputs": [],
   "source": [
    "geometry.export_to_xml()"
   ]
  },
  {
   "cell_type": "markdown",
   "id": "4ad9256d-5ea3-49cd-8a6b-86303e1d873d",
   "metadata": {},
   "source": [
    "# Starting source and settings\n",
    "\n",
    "The Python API has a module `openmc.stats` with various univariate and multivariate probability distributions. We can use these distributions to create a starting source using the `openmc.Source` object. One can independently specify the spatial distribution (`space`), the angular distribution (`angle`), the energy distribution (`energy`), and the time distribution (`time`). For this example, we'll only specify the spatial distribution as a single point."
   ]
  },
  {
   "cell_type": "code",
   "execution_count": 78,
   "id": "1f2220d5-60bf-4b48-a980-07042b687d41",
   "metadata": {},
   "outputs": [],
   "source": [
    "space = openmc.stats.Point((0.0, 0.1, 0.0))\n",
    "source = openmc.IndependentSource(space=space)"
   ]
  },
  {
   "cell_type": "markdown",
   "id": "96277744-e66f-42f9-9a3c-6bb841b61d8e",
   "metadata": {},
   "source": [
    "Now let's create a `Settings` object and give it the source we created along with specifying how many batches and particles we want to run."
   ]
  },
  {
   "cell_type": "code",
   "execution_count": 79,
   "id": "36899932-8c80-4c8c-aa16-aa57b7923c28",
   "metadata": {},
   "outputs": [],
   "source": [
    "settings = openmc.Settings()"
   ]
  },
  {
   "cell_type": "code",
   "execution_count": 80,
   "id": "3a497d39",
   "metadata": {},
   "outputs": [],
   "source": [
    "settings.source = source\n",
    "settings.batches = 50\n",
    "settings.inactive = 10\n",
    "settings.particles = 1000\n",
    "\n",
    "settings.export_to_xml()"
   ]
  },
  {
   "cell_type": "markdown",
   "id": "a302e2cc-7b16-4723-ad6c-3bcc1ebb0d8b",
   "metadata": {},
   "source": [
    "---"
   ]
  },
  {
   "cell_type": "markdown",
   "id": "6838fead-34c0-4c50-a858-9ecd4c622f89",
   "metadata": {},
   "source": [
    "## Temperature Treatment\n",
    "\n",
    "Generally, cross section data in OpenMC is specified at specific temperature values. Material or cell temperatures between these values can be used, however. OpenMC can model the temperature using a few different techniques:\n",
    "\n",
    "  - **nearest**: OpenMC will use the nearest temperature cross section data available within some tolerance\n",
    "  - **interpolate**: OpenMC will interpolate between the two nearest temperatures\n",
    "\n",
    "[temperature treatment documentation](https://ec2-44-193-2-67.compute-1.amazonaws.com/)"
   ]
  },
  {
   "cell_type": "markdown",
   "id": "14d4cf81-98b0-487c-a4c7-6763dfdca59f",
   "metadata": {},
   "source": [
    "For the CEFR model, we'll treat all of our materials as if they were at 523.15 K."
   ]
  },
  {
   "cell_type": "code",
   "execution_count": 81,
   "id": "f7353004-269e-4126-8b80-aaf60aad720c",
   "metadata": {},
   "outputs": [],
   "source": [
    "for m in materials:\n",
    "    m.temperature = 523.15 # Kelvin\n",
    "    \n",
    "settings.temperature['method'] = 'nearest'\n",
    "settings.temperature['tolerance'] = 100.0 # K "
   ]
  },
  {
   "cell_type": "code",
   "execution_count": 82,
   "id": "02591eed",
   "metadata": {},
   "outputs": [
    {
     "name": "stdout",
     "output_type": "stream",
     "text": [
      "Material\n",
      "\tID             =\t2\n",
      "\tName           =\tfuel\n",
      "\tTemperature    =\t523.15\n",
      "\tDensity        =\t0.07021 [atom/b-cm]\n",
      "\tVolume         =\tNone [cm^3]\n",
      "\tDepletable     =\tTrue\n",
      "\tS(a,b) Tables  \n",
      "\tNuclides       \n",
      "\tU235           =\t0.0149       [ao]\n",
      "\tU238           =\t0.0826       [ao]\n",
      "\tO16            =\t0.00469      [ao]\n",
      "\n"
     ]
    }
   ],
   "source": [
    "print(materials[0])"
   ]
  },
  {
   "cell_type": "code",
   "execution_count": 83,
   "id": "64c26819",
   "metadata": {},
   "outputs": [],
   "source": [
    "settings.export_to_xml()\n",
    "materials.export_to_xml()"
   ]
  },
  {
   "cell_type": "markdown",
   "id": "35308369-64da-4d69-b6ea-ad9dc0da6fd0",
   "metadata": {},
   "source": [
    "---"
   ]
  },
  {
   "cell_type": "markdown",
   "id": "77906082-02cf-4417-a398-d21af3f4d7cd",
   "metadata": {},
   "source": [
    "# Running OpenMC\n",
    "\n",
    "Running OpenMC from Python can be done using the `openmc.run()` function. This function allows you to set the number of MPI processes and OpenMP threads, if need be."
   ]
  },
  {
   "cell_type": "code",
   "execution_count": 84,
   "id": "25c0bb01-f4d7-4d09-9a60-fa6b21dfa9e4",
   "metadata": {},
   "outputs": [
    {
     "name": "stdout",
     "output_type": "stream",
     "text": [
      "                                %%%%%%%%%%%%%%%\n",
      "                           %%%%%%%%%%%%%%%%%%%%%%%%\n",
      "                        %%%%%%%%%%%%%%%%%%%%%%%%%%%%%%\n",
      "                      %%%%%%%%%%%%%%%%%%%%%%%%%%%%%%%%%%\n",
      "                    %%%%%%%%%%%%%%%%%%%%%%%%%%%%%%%%%%%%%%\n",
      "                   %%%%%%%%%%%%%%%%%%%%%%%%%%%%%%%%%%%%%%%%\n",
      "                                    %%%%%%%%%%%%%%%%%%%%%%%%\n",
      "                                     %%%%%%%%%%%%%%%%%%%%%%%%\n",
      "                 ###############      %%%%%%%%%%%%%%%%%%%%%%%%\n",
      "                ##################     %%%%%%%%%%%%%%%%%%%%%%%\n",
      "                ###################     %%%%%%%%%%%%%%%%%%%%%%%\n",
      "                ####################     %%%%%%%%%%%%%%%%%%%%%%\n",
      "                #####################     %%%%%%%%%%%%%%%%%%%%%\n",
      "                ######################     %%%%%%%%%%%%%%%%%%%%\n",
      "                #######################     %%%%%%%%%%%%%%%%%%\n",
      "                 #######################     %%%%%%%%%%%%%%%%%\n",
      "                 ######################     %%%%%%%%%%%%%%%%%\n",
      "                  ####################     %%%%%%%%%%%%%%%%%\n",
      "                    #################     %%%%%%%%%%%%%%%%%\n",
      "                     ###############     %%%%%%%%%%%%%%%%\n",
      "                       ############     %%%%%%%%%%%%%%%\n",
      "                          ########     %%%%%%%%%%%%%%\n",
      "                                      %%%%%%%%%%%\n",
      "\n",
      "                 | The OpenMC Monte Carlo Code\n",
      "       Copyright | 2011-2023 MIT, UChicago Argonne LLC, and contributors\n",
      "         License | https://docs.openmc.org/en/latest/license.html\n",
      "         Version | 0.14.0\n",
      "        Git SHA1 | e1a8ee7794b441c992426f17fafe216391cbba83\n",
      "       Date/Time | 2024-01-20 20:03:10\n",
      "   MPI Processes | 1\n",
      "  OpenMP Threads | 4\n",
      "\n",
      " Reading settings XML file...\n",
      " Reading cross sections XML file...\n",
      " Reading materials XML file...\n",
      " Reading geometry XML file...\n",
      " Reading U235 from\n",
      " /home/efra/simulations/openmc/data/endfb-viii.0-hdf5/neutron/U235.h5\n",
      " Reading U238 from\n",
      " /home/efra/simulations/openmc/data/endfb-viii.0-hdf5/neutron/U238.h5\n",
      " Reading O16 from\n",
      " /home/efra/simulations/openmc/data/endfb-viii.0-hdf5/neutron/O16.h5\n",
      " Reading Fe54 from\n",
      " /home/efra/simulations/openmc/data/endfb-viii.0-hdf5/neutron/Fe54.h5\n",
      " Reading Fe56 from\n",
      " /home/efra/simulations/openmc/data/endfb-viii.0-hdf5/neutron/Fe56.h5\n",
      " Reading Fe57 from\n",
      " /home/efra/simulations/openmc/data/endfb-viii.0-hdf5/neutron/Fe57.h5\n",
      " Reading Fe58 from\n",
      " /home/efra/simulations/openmc/data/endfb-viii.0-hdf5/neutron/Fe58.h5\n",
      " Reading C12 from\n",
      " /home/efra/simulations/openmc/data/endfb-viii.0-hdf5/neutron/C12.h5\n",
      " Reading C13 from\n",
      " /home/efra/simulations/openmc/data/endfb-viii.0-hdf5/neutron/C13.h5\n",
      " Reading He3 from\n",
      " /home/efra/simulations/openmc/data/endfb-viii.0-hdf5/neutron/He3.h5\n",
      " Reading He4 from\n",
      " /home/efra/simulations/openmc/data/endfb-viii.0-hdf5/neutron/He4.h5\n",
      " Reading Na23 from\n",
      " /home/efra/simulations/openmc/data/endfb-viii.0-hdf5/neutron/Na23.h5\n",
      " Minimum neutron data temperature: 600 K\n",
      " Maximum neutron data temperature: 600 K\n",
      " Preparing distributed cell instances...\n",
      " Reading plot XML file...\n",
      " Writing summary.h5 file...\n",
      " Maximum neutron transport energy: 20000000 eV for C13\n",
      " Initializing source particles...\n",
      "\n",
      " ====================>     K EIGENVALUE SIMULATION     <====================\n",
      "\n",
      "  Bat./Gen.      k            Average k\n",
      "  =========   ========   ====================\n",
      "        1/1    1.53633\n",
      "        2/1    1.44169\n",
      "        3/1    1.43458\n",
      "        4/1    1.53455\n",
      "        5/1    1.54612\n",
      "        6/1    1.42422\n",
      "        7/1    1.51346\n",
      "        8/1    1.48804\n",
      "        9/1    1.47048\n",
      "       10/1    1.49935\n",
      "       11/1    1.48970\n",
      "       12/1    1.50958    1.49964 +/- 0.00994\n",
      "       13/1    1.47902    1.49277 +/- 0.00895\n",
      "       14/1    1.45278    1.48277 +/- 0.01183\n",
      "       15/1    1.44915    1.47605 +/- 0.01137\n",
      "       16/1    1.47640    1.47611 +/- 0.00928\n",
      "       17/1    1.43383    1.47007 +/- 0.00990\n",
      "       18/1    1.42573    1.46453 +/- 0.01021\n",
      "       19/1    1.49513    1.46793 +/- 0.00962\n",
      "       20/1    1.39629    1.46076 +/- 0.01120\n",
      "       21/1    1.55055    1.46893 +/- 0.01301\n",
      "       22/1    1.42773    1.46549 +/- 0.01236\n",
      "       23/1    1.50782    1.46875 +/- 0.01183\n",
      "       24/1    1.39622    1.46357 +/- 0.01211\n",
      "       25/1    1.49835    1.46589 +/- 0.01151\n",
      "       26/1    1.54752    1.47099 +/- 0.01192\n",
      "       27/1    1.42925    1.46853 +/- 0.01146\n",
      "       28/1    1.58032    1.47474 +/- 0.01246\n",
      "       29/1    1.50242    1.47620 +/- 0.01188\n",
      "       30/1    1.42835    1.47381 +/- 0.01152\n",
      "       31/1    1.45017    1.47268 +/- 0.01102\n",
      "       32/1    1.52821    1.47521 +/- 0.01080\n",
      "       33/1    1.45726    1.47443 +/- 0.01035\n",
      "       34/1    1.48893    1.47503 +/- 0.00993\n",
      "       35/1    1.53102    1.47727 +/- 0.00978\n",
      "       36/1    1.45712    1.47650 +/- 0.00943\n",
      "       37/1    1.48581    1.47684 +/- 0.00908\n",
      "       38/1    1.45221    1.47596 +/- 0.00880\n",
      "       39/1    1.42800    1.47431 +/- 0.00865\n",
      "       40/1    1.51245    1.47558 +/- 0.00845\n",
      "       41/1    1.47027    1.47541 +/- 0.00817\n",
      "       42/1    1.47660    1.47544 +/- 0.00791\n",
      "       43/1    1.48194    1.47564 +/- 0.00767\n",
      "       44/1    1.45332    1.47498 +/- 0.00747\n",
      "       45/1    1.47655    1.47503 +/- 0.00726\n",
      "       46/1    1.47640    1.47507 +/- 0.00705\n",
      "       47/1    1.56539    1.47751 +/- 0.00728\n",
      "       48/1    1.39444    1.47532 +/- 0.00742\n",
      "       49/1    1.48563    1.47559 +/- 0.00723\n",
      "       50/1    1.45808    1.47515 +/- 0.00706\n",
      " Creating state point statepoint.50.h5...\n",
      "\n",
      " =======================>     TIMING STATISTICS     <=======================\n",
      "\n",
      " Total time for initialization     = 5.5392e+00 seconds\n",
      "   Reading cross sections          = 5.4931e+00 seconds\n",
      " Total time in simulation          = 1.4249e+01 seconds\n",
      "   Time in transport only          = 1.4195e+01 seconds\n",
      "   Time in inactive batches        = 2.7148e+00 seconds\n",
      "   Time in active batches          = 1.1534e+01 seconds\n",
      "   Time synchronizing fission bank = 1.2011e-02 seconds\n",
      "     Sampling source sites         = 7.0561e-03 seconds\n",
      "     SEND/RECV source sites        = 4.4620e-03 seconds\n",
      "   Time accumulating tallies       = 1.2691e-04 seconds\n",
      "   Time writing statepoints        = 2.9655e-02 seconds\n",
      " Total time for finalization       = 4.3300e-06 seconds\n",
      " Total time elapsed                = 1.9802e+01 seconds\n",
      " Calculation Rate (inactive)       = 3683.51 particles/second\n",
      " Calculation Rate (active)         = 3467.94 particles/second\n",
      "\n",
      " ============================>     RESULTS     <============================\n",
      "\n",
      " k-effective (Collision)     = 1.47681 +/- 0.00667\n",
      " k-effective (Track-length)  = 1.47515 +/- 0.00706\n",
      " k-effective (Absorption)    = 1.47836 +/- 0.00536\n",
      " Combined k-effective        = 1.47850 +/- 0.00358\n",
      " Leakage Fraction            = 0.00000 +/- 0.00000\n",
      "\n"
     ]
    }
   ],
   "source": [
    "openmc.run()"
   ]
  },
  {
   "cell_type": "markdown",
   "id": "3ba48093-1af6-48ce-824f-d8ea127b8a12",
   "metadata": {},
   "source": [
    "Great! OpenMC already told us our k-effective."
   ]
  },
  {
   "cell_type": "markdown",
   "id": "877de87c-03fd-4231-840f-ca036ecfe771",
   "metadata": {},
   "source": [
    "# Geometry plotting\n",
    "\n",
    "We saw before that we could call the `Universe.plot()` method to show a universe while we were creating our geometry. There is also a built-in plotter in the codebase that is much faster than the Python plotter and has more options. The interface looks somewhat similar to the `Universe.plot()` method. Instead though, we create `Plot` instances, assign them to a `Plots` collection, export it to XML, and then run OpenMC in geometry plotting mode. As an example, let's specify that we want the plot to be colored by material (rather than by cell) and we assign yellow to fuel and blue to water."
   ]
  },
  {
   "cell_type": "code",
   "execution_count": null,
   "id": "a890e5e9-0b86-47a0-9b1b-28109c5d9afa",
   "metadata": {},
   "outputs": [],
   "source": []
  },
  {
   "cell_type": "markdown",
   "id": "132e781a-b80e-4df5-88c4-eddc61101e4a",
   "metadata": {},
   "source": [
    "With our plot created, we need to add it to a `Plots` collection which can be exported to XML."
   ]
  },
  {
   "cell_type": "code",
   "execution_count": null,
   "id": "75b3ab5e-4ba3-4d16-aea8-3471edae54c4",
   "metadata": {},
   "outputs": [],
   "source": []
  },
  {
   "cell_type": "markdown",
   "id": "df1bd125-ab83-41d2-ad1e-4a67778fa7dd",
   "metadata": {},
   "source": [
    "Now, we can use functionality from IPython to display the `.png` image inline in our notebook:"
   ]
  },
  {
   "cell_type": "code",
   "execution_count": null,
   "id": "87e8ad92-efb6-4269-8273-d0da50601fef",
   "metadata": {},
   "outputs": [],
   "source": []
  },
  {
   "cell_type": "markdown",
   "id": "467c3cd0-a78e-4906-a914-32ef73784468",
   "metadata": {},
   "source": [
    "OpenMC also provides us with a method on the `Plot` class that simplifies the workflow."
   ]
  },
  {
   "cell_type": "code",
   "execution_count": null,
   "id": "faac29b2-4525-49f9-ba56-0b183d0a59ca",
   "metadata": {},
   "outputs": [],
   "source": []
  },
  {
   "cell_type": "markdown",
   "id": "e98df967-d742-4e6c-8dca-dcdf17032aa4",
   "metadata": {},
   "source": [
    "# The `Model` class\n",
    "\n",
    "So far, we've seen that to create and simulate a model, we had to create an instance of `Geometry`, `Materials`, and `Settings` and call the `export_to_xml` method on each of them. OpenMC also provides a `Model` class that aggregates these classes together an provides a single `export_to_xml` method that will export all files."
   ]
  },
  {
   "cell_type": "code",
   "execution_count": 85,
   "id": "8b452e7b-8a4c-48bb-92fa-e29119c84d8c",
   "metadata": {},
   "outputs": [],
   "source": [
    "model = openmc.Model()\n",
    "model.settings = settings\n",
    "model.geometry = geometry\n",
    "model.materials = materials"
   ]
  },
  {
   "cell_type": "code",
   "execution_count": 86,
   "id": "91191059",
   "metadata": {},
   "outputs": [
    {
     "name": "stdout",
     "output_type": "stream",
     "text": [
      "                                %%%%%%%%%%%%%%%\n",
      "                           %%%%%%%%%%%%%%%%%%%%%%%%\n",
      "                        %%%%%%%%%%%%%%%%%%%%%%%%%%%%%%\n",
      "                      %%%%%%%%%%%%%%%%%%%%%%%%%%%%%%%%%%\n",
      "                    %%%%%%%%%%%%%%%%%%%%%%%%%%%%%%%%%%%%%%\n",
      "                   %%%%%%%%%%%%%%%%%%%%%%%%%%%%%%%%%%%%%%%%\n",
      "                                    %%%%%%%%%%%%%%%%%%%%%%%%\n",
      "                                     %%%%%%%%%%%%%%%%%%%%%%%%\n",
      "                 ###############      %%%%%%%%%%%%%%%%%%%%%%%%\n",
      "                ##################     %%%%%%%%%%%%%%%%%%%%%%%\n",
      "                ###################     %%%%%%%%%%%%%%%%%%%%%%%\n",
      "                ####################     %%%%%%%%%%%%%%%%%%%%%%\n",
      "                #####################     %%%%%%%%%%%%%%%%%%%%%\n",
      "                ######################     %%%%%%%%%%%%%%%%%%%%\n",
      "                #######################     %%%%%%%%%%%%%%%%%%\n",
      "                 #######################     %%%%%%%%%%%%%%%%%\n",
      "                 ######################     %%%%%%%%%%%%%%%%%\n",
      "                  ####################     %%%%%%%%%%%%%%%%%\n",
      "                    #################     %%%%%%%%%%%%%%%%%\n",
      "                     ###############     %%%%%%%%%%%%%%%%\n",
      "                       ############     %%%%%%%%%%%%%%%\n",
      "                          ########     %%%%%%%%%%%%%%\n",
      "                                      %%%%%%%%%%%\n",
      "\n",
      "                 | The OpenMC Monte Carlo Code\n",
      "       Copyright | 2011-2023 MIT, UChicago Argonne LLC, and contributors\n",
      "         License | https://docs.openmc.org/en/latest/license.html\n",
      "         Version | 0.14.0\n",
      "        Git SHA1 | e1a8ee7794b441c992426f17fafe216391cbba83\n",
      "       Date/Time | 2024-01-20 20:03:31\n",
      "   MPI Processes | 1\n",
      "  OpenMP Threads | 4\n",
      "\n",
      " Reading model XML file './model.xml' ...\n",
      " WARNING: Other XML file input(s) are present. These files may be ignored in\n",
      "          favor of the ./model.xml file.\n",
      " Reading cross sections XML file...\n",
      " Reading U235 from\n",
      " /home/efra/simulations/openmc/data/endfb-viii.0-hdf5/neutron/U235.h5\n",
      " Reading U238 from\n",
      " /home/efra/simulations/openmc/data/endfb-viii.0-hdf5/neutron/U238.h5\n",
      " Reading O16 from\n",
      " /home/efra/simulations/openmc/data/endfb-viii.0-hdf5/neutron/O16.h5\n",
      " Reading Fe54 from\n",
      " /home/efra/simulations/openmc/data/endfb-viii.0-hdf5/neutron/Fe54.h5\n",
      " Reading Fe56 from\n",
      " /home/efra/simulations/openmc/data/endfb-viii.0-hdf5/neutron/Fe56.h5\n",
      " Reading Fe57 from\n",
      " /home/efra/simulations/openmc/data/endfb-viii.0-hdf5/neutron/Fe57.h5\n",
      " Reading Fe58 from\n",
      " /home/efra/simulations/openmc/data/endfb-viii.0-hdf5/neutron/Fe58.h5\n",
      " Reading C12 from\n",
      " /home/efra/simulations/openmc/data/endfb-viii.0-hdf5/neutron/C12.h5\n",
      " Reading C13 from\n",
      " /home/efra/simulations/openmc/data/endfb-viii.0-hdf5/neutron/C13.h5\n",
      " Reading He3 from\n",
      " /home/efra/simulations/openmc/data/endfb-viii.0-hdf5/neutron/He3.h5\n",
      " Reading He4 from\n",
      " /home/efra/simulations/openmc/data/endfb-viii.0-hdf5/neutron/He4.h5\n",
      " Reading Na23 from\n",
      " /home/efra/simulations/openmc/data/endfb-viii.0-hdf5/neutron/Na23.h5\n",
      " Minimum neutron data temperature: 600 K\n",
      " Maximum neutron data temperature: 600 K\n",
      " Preparing distributed cell instances...\n",
      " Writing summary.h5 file...\n",
      " Maximum neutron transport energy: 20000000 eV for C13\n",
      " Initializing source particles...\n",
      "\n",
      " ====================>     K EIGENVALUE SIMULATION     <====================\n",
      "\n",
      "  Bat./Gen.      k            Average k\n",
      "  =========   ========   ====================\n",
      "        1/1    1.53633\n",
      "        2/1    1.44169\n",
      "        3/1    1.43458\n",
      "        4/1    1.53455\n",
      "        5/1    1.54612\n",
      "        6/1    1.42422\n",
      "        7/1    1.51346\n",
      "        8/1    1.48804\n",
      "        9/1    1.47048\n",
      "       10/1    1.49935\n",
      "       11/1    1.48970\n",
      "       12/1    1.50958    1.49964 +/- 0.00994\n",
      "       13/1    1.47902    1.49277 +/- 0.00895\n",
      "       14/1    1.45278    1.48277 +/- 0.01183\n",
      "       15/1    1.44915    1.47605 +/- 0.01137\n",
      "       16/1    1.47640    1.47611 +/- 0.00928\n",
      "       17/1    1.43383    1.47007 +/- 0.00990\n",
      "       18/1    1.42573    1.46453 +/- 0.01021\n",
      "       19/1    1.49513    1.46793 +/- 0.00962\n",
      "       20/1    1.39629    1.46076 +/- 0.01120\n",
      "       21/1    1.55055    1.46893 +/- 0.01301\n",
      "       22/1    1.42773    1.46549 +/- 0.01236\n",
      "       23/1    1.50782    1.46875 +/- 0.01183\n",
      "       24/1    1.39622    1.46357 +/- 0.01211\n",
      "       25/1    1.49835    1.46589 +/- 0.01151\n",
      "       26/1    1.54752    1.47099 +/- 0.01192\n",
      "       27/1    1.42925    1.46853 +/- 0.01146\n",
      "       28/1    1.58032    1.47474 +/- 0.01246\n",
      "       29/1    1.50242    1.47620 +/- 0.01188\n",
      "       30/1    1.42835    1.47381 +/- 0.01152\n",
      "       31/1    1.45017    1.47268 +/- 0.01102\n",
      "       32/1    1.52821    1.47521 +/- 0.01080\n",
      "       33/1    1.45726    1.47443 +/- 0.01035\n",
      "       34/1    1.48893    1.47503 +/- 0.00993\n",
      "       35/1    1.53102    1.47727 +/- 0.00978\n",
      "       36/1    1.45712    1.47650 +/- 0.00943\n",
      "       37/1    1.48581    1.47684 +/- 0.00908\n",
      "       38/1    1.45221    1.47596 +/- 0.00880\n",
      "       39/1    1.42800    1.47431 +/- 0.00865\n",
      "       40/1    1.51245    1.47558 +/- 0.00845\n",
      "       41/1    1.47027    1.47541 +/- 0.00817\n",
      "       42/1    1.47660    1.47544 +/- 0.00791\n",
      "       43/1    1.48194    1.47564 +/- 0.00767\n",
      "       44/1    1.45332    1.47498 +/- 0.00747\n",
      "       45/1    1.47655    1.47503 +/- 0.00726\n",
      "       46/1    1.47640    1.47507 +/- 0.00705\n",
      "       47/1    1.56539    1.47751 +/- 0.00728\n",
      "       48/1    1.39444    1.47532 +/- 0.00742\n",
      "       49/1    1.48563    1.47559 +/- 0.00723\n",
      "       50/1    1.45808    1.47515 +/- 0.00706\n",
      " Creating state point statepoint.50.h5...\n",
      "\n",
      " =======================>     TIMING STATISTICS     <=======================\n",
      "\n",
      " Total time for initialization     = 7.4773e+00 seconds\n",
      "   Reading cross sections          = 7.4088e+00 seconds\n",
      " Total time in simulation          = 1.7385e+01 seconds\n",
      "   Time in transport only          = 1.7284e+01 seconds\n",
      "   Time in inactive batches        = 3.1628e+00 seconds\n",
      "   Time in active batches          = 1.4222e+01 seconds\n",
      "   Time synchronizing fission bank = 1.6923e-02 seconds\n",
      "     Sampling source sites         = 1.1502e-02 seconds\n",
      "     SEND/RECV source sites        = 4.8126e-03 seconds\n",
      "   Time accumulating tallies       = 2.1651e-04 seconds\n",
      "   Time writing statepoints        = 6.3553e-02 seconds\n",
      " Total time for finalization       = 3.2820e-06 seconds\n",
      " Total time elapsed                = 2.4880e+01 seconds\n",
      " Calculation Rate (inactive)       = 3161.77 particles/second\n",
      " Calculation Rate (active)         = 2812.6 particles/second\n",
      "\n",
      " ============================>     RESULTS     <============================\n",
      "\n",
      " k-effective (Collision)     = 1.47681 +/- 0.00667\n",
      " k-effective (Track-length)  = 1.47515 +/- 0.00706\n",
      " k-effective (Absorption)    = 1.47836 +/- 0.00536\n",
      " Combined k-effective        = 1.47850 +/- 0.00358\n",
      " Leakage Fraction            = 0.00000 +/- 0.00000\n",
      "\n"
     ]
    }
   ],
   "source": [
    "statepoint_file = model.run()"
   ]
  },
  {
   "cell_type": "code",
   "execution_count": 87,
   "id": "83e68c73",
   "metadata": {},
   "outputs": [
    {
     "data": {
      "text/plain": [
       "PosixPath('/home/efra/Documents/openmc/openmc_first_tutorial/statepoint.50.h5')"
      ]
     },
     "execution_count": 87,
     "metadata": {},
     "output_type": "execute_result"
    }
   ],
   "source": [
    "statepoint_file"
   ]
  },
  {
   "cell_type": "markdown",
   "id": "f27f59f2-d369-4f7b-8d89-c54ffa2cb2ea",
   "metadata": {},
   "source": [
    "The `Model` class also has `run` method that will both export single XML file (`model.xml`) *and* run a simulation, returning the name of the last statepoint file that was written:"
   ]
  },
  {
   "cell_type": "markdown",
   "id": "4481035b-8d3b-41bd-9930-579581454e04",
   "metadata": {},
   "source": [
    "<div class=\"alert alert-block alert-info\">\n",
    "Note: If both separate XML inputs (`materials.xml`, `geometry.xml`, `settings.xml`, ...) and a `model.xml` file are both present in OpenMC's run directory, the `model.xml` fill will be used instead of the separate XML inputs.    \n",
    "</div>"
   ]
  },
  {
   "cell_type": "code",
   "execution_count": null,
   "id": "2798e7da-587c-4b6e-a657-d2cd0aad16ee",
   "metadata": {},
   "outputs": [],
   "source": []
  },
  {
   "cell_type": "markdown",
   "id": "eaacd3ac-4c13-4bcd-a06c-70ad56b63f8b",
   "metadata": {},
   "source": [
    "As we'll see later, the `Model` class has other useful features and can be very useful for postprocessing work."
   ]
  },
  {
   "cell_type": "markdown",
   "id": "856a3443-3605-416e-8216-09f574a70db8",
   "metadata": {},
   "source": [
    "---"
   ]
  },
  {
   "cell_type": "markdown",
   "id": "5ae2241e-7272-485b-b3b8-95fb48ee2edf",
   "metadata": {},
   "source": [
    "# Basic Tallies in OpenMC"
   ]
  },
  {
   "cell_type": "markdown",
   "id": "96c50839-f62b-43b2-9c34-7af7a51f6423",
   "metadata": {},
   "source": [
    "**Learning Objectives:**\n",
    "\n",
    "  - Understand application of filters and scores to create tallies\n",
    "  - Apply tallies to an OpenMC simulation\n",
    "  - Extract information from OpenMC statepoint files\n",
    "  - Understand tally units and normalization\n",
    "  - Plot tally results"
   ]
  },
  {
   "cell_type": "markdown",
   "id": "079fb3ee-dd13-4fdc-96a7-ccb88db6caf8",
   "metadata": {},
   "source": [
    "In this section, we'll be looking at how to extract custom information from an OpenMC simulation in what is known as a tally. A tally accumulates statistical information during the simulation about particles when they eneter regions of phase space specified on the tally. The limits of these regions are set by filters applied to the tally. Scores and nuclides can also be applied to tallies to indicate what type of information is kept about the particle (e.g. reaction types, flux, heat, etc.)."
   ]
  },
  {
   "cell_type": "markdown",
   "id": "17638a7c-e919-4f5c-ad28-1758a5f9ada7",
   "metadata": {},
   "source": [
    "Any tally in OpenMC can be described with the following form:\n",
    "\n",
    "$$ \n",
    " X = \\underbrace{\\int d\\mathbf{r} \\int d\\mathbf{\\Omega} \\int\n",
    "    dE}_{\\text{filters}} \\underbrace{f(\\mathbf{r}, \\mathbf{\\Omega},\n",
    "    E)}_{\\text{scores}} \\psi (\\mathbf{r}, \\mathbf{\\Omega}, E)\n",
    "$$\n",
    "\n",
    "where filters set the limits of the integrals and the scoring function is convolved with particle information (e.g. reaction type, current material, etc.)."
   ]
  },
  {
   "cell_type": "markdown",
   "id": "1935048f-4a6e-4af8-a507-6fabe92f6d9b",
   "metadata": {},
   "source": [
    "First, we'll import a few additional packages to help manage data and visualize results."
   ]
  },
  {
   "cell_type": "code",
   "execution_count": 88,
   "id": "3466ba31-8d1b-47e1-9c90-750cfa29fbb5",
   "metadata": {},
   "outputs": [],
   "source": [
    "import numpy as np\n",
    "from matplotlib import pyplot as plt"
   ]
  },
  {
   "cell_type": "code",
   "execution_count": 89,
   "id": "8706a226",
   "metadata": {},
   "outputs": [
    {
     "data": {
      "text/plain": [
       "Universe\n",
       "\tID             =\t2\n",
       "\tName           =\t\n",
       "\tGeom           =\tCSG\n",
       "\tCells          =\t[4, 5, 6, 7, 8]"
      ]
     },
     "execution_count": 89,
     "metadata": {},
     "output_type": "execute_result"
    }
   ],
   "source": [
    "model.geometry.root_universe"
   ]
  },
  {
   "cell_type": "code",
   "execution_count": 90,
   "id": "6d37668b",
   "metadata": {},
   "outputs": [
    {
     "data": {
      "text/plain": [
       "{4: Material\n",
       " \tID             =\t4\n",
       " \tName           =\thelium\n",
       " \tTemperature    =\t523.15\n",
       " \tDensity        =\tNone [sum]\n",
       " \tVolume         =\tNone [cm^3]\n",
       " \tDepletable     =\tFalse\n",
       " \tS(a,b) Tables  \n",
       " \tNuclides       \n",
       " \tHe3            =\t1.9999999999999998e-17 [ao]\n",
       " \tHe4            =\t9.999979999999999e-12 [ao],\n",
       " 2: Material\n",
       " \tID             =\t2\n",
       " \tName           =\tfuel\n",
       " \tTemperature    =\t523.15\n",
       " \tDensity        =\t0.07021 [atom/b-cm]\n",
       " \tVolume         =\tNone [cm^3]\n",
       " \tDepletable     =\tTrue\n",
       " \tS(a,b) Tables  \n",
       " \tNuclides       \n",
       " \tU235           =\t0.0149       [ao]\n",
       " \tU238           =\t0.0826       [ao]\n",
       " \tO16            =\t0.00469      [ao],\n",
       " 3: Material\n",
       " \tID             =\t3\n",
       " \tName           =\tsteel\n",
       " \tTemperature    =\t523.15\n",
       " \tDensity        =\t0.0049 [atom/b-cm]\n",
       " \tVolume         =\tNone [cm^3]\n",
       " \tDepletable     =\tFalse\n",
       " \tS(a,b) Tables  \n",
       " \tNuclides       \n",
       " \tFe54           =\t0.05815775   [ao]\n",
       " \tFe56           =\t0.9129523    [ao]\n",
       " \tFe57           =\t0.02108405   [ao]\n",
       " \tFe58           =\t0.0028059    [ao]\n",
       " \tC12            =\t0.00494461   [ao]\n",
       " \tC13            =\t5.5389999999999997e-05 [ao],\n",
       " 5: Material\n",
       " \tID             =\t5\n",
       " \tName           =\tsodium\n",
       " \tTemperature    =\t523.15\n",
       " \tDensity        =\tNone [sum]\n",
       " \tVolume         =\tNone [cm^3]\n",
       " \tDepletable     =\tFalse\n",
       " \tS(a,b) Tables  \n",
       " \tNuclides       \n",
       " \tNa23           =\t0.0233       [ao]}"
      ]
     },
     "execution_count": 90,
     "metadata": {},
     "output_type": "execute_result"
    }
   ],
   "source": [
    "model.geometry.get_all_materials()"
   ]
  },
  {
   "cell_type": "code",
   "execution_count": 91,
   "id": "46f5782c",
   "metadata": {},
   "outputs": [
    {
     "data": {
      "text/plain": [
       "<Axes: xlabel='x [cm]', ylabel='y [cm]'>"
      ]
     },
     "execution_count": 91,
     "metadata": {},
     "output_type": "execute_result"
    },
    {
     "data": {
      "image/png": "[encoded data removed]",
      "text/plain": [
       "<Figure size 258.065x259.74 with 1 Axes>"
      ]
     },
     "metadata": {},
     "output_type": "display_data"
    }
   ],
   "source": [
    "model.geometry.root_universe.plot()"
   ]
  },
  {
   "cell_type": "markdown",
   "id": "8653bdb0-9456-4fd7-94f8-4f9fb6e827d4",
   "metadata": {},
   "source": [
    "We'll continue to work with the CEFR pincell model we've developed thus far. Let's explore that model further."
   ]
  },
  {
   "cell_type": "code",
   "execution_count": null,
   "id": "7b59e171-126d-4dd4-8e2c-0734200c4c6e",
   "metadata": {},
   "outputs": [],
   "source": []
  },
  {
   "cell_type": "markdown",
   "id": "42ad4cc8-3260-4037-a3cc-d8a045e8af9e",
   "metadata": {},
   "source": [
    "In this exercise we'll be adding tallies to perform a few different tasks:\n",
    "\n",
    "\n",
    "  **1. Determine the energy and heat produced per fission** \\\n",
    "  **2. Plot the flux spectrum of the pincell** \\\n",
    "  **3. Plot reaction types based on material**\n",
    "  \n",
    "To do this we'll use a variety of different filters applied to different tallies. "
   ]
  },
  {
   "cell_type": "markdown",
   "id": "97edb404-462d-4683-b4d4-4966b9461479",
   "metadata": {},
   "source": [
    "First, to determine the recoverable energy produced per fission we'll create a tally without filters to gather information on the fission reaction rate (\"`fission`\") and recoverable fission energy (\"`kappa-fission`\"). Because we want this information talllied throughout the model, a \"global\" tally, no filters need to be applied.\n",
    "\n"
   ]
  },
  {
   "cell_type": "markdown",
   "id": "756c12af-7898-49d9-8048-99fbc4df5725",
   "metadata": {},
   "source": [
    "<div class=\"alert alert-block alert-info\">\n",
    "A full list of scores and their meanings can be found <a href=https://docs.openmc.org/en/stable/usersguide/tallies.html#scores >here</a>.\n",
    "</div>"
   ]
  },
  {
   "cell_type": "markdown",
   "id": "2deed201-881e-4189-9a28-2436ad551467",
   "metadata": {},
   "source": [
    "## Task 1: Energy released per fission"
   ]
  },
  {
   "cell_type": "markdown",
   "id": "dcb39bd1-def0-4073-8717-05c795f833eb",
   "metadata": {},
   "source": [
    "## [Link to tally score descriptions](https://docs.openmc.org/en/stable/usersguide/tallies.html#scores)"
   ]
  },
  {
   "cell_type": "code",
   "execution_count": 92,
   "id": "8667d158-2543-44f6-8369-2e885d0e5bf4",
   "metadata": {},
   "outputs": [
    {
     "name": "stdout",
     "output_type": "stream",
     "text": [
      "Tally\n",
      "\tID             =\t1\n",
      "\tName           =\t\n",
      "\tFilters        =\t\n",
      "\tNuclides       =\t\n",
      "\tScores         =\t[]\n",
      "\tEstimator      =\tNone\n",
      "\tMultiply dens. =\tTrue\n"
     ]
    }
   ],
   "source": [
    "tally = openmc.Tally()\n",
    "print(tally)"
   ]
  },
  {
   "cell_type": "code",
   "execution_count": 93,
   "id": "6d9136a9",
   "metadata": {},
   "outputs": [
    {
     "name": "stdout",
     "output_type": "stream",
     "text": [
      "Tally\n",
      "\tID             =\t1\n",
      "\tName           =\t\n",
      "\tFilters        =\t\n",
      "\tNuclides       =\t\n",
      "\tScores         =\t['fission', 'kappa-fission']\n",
      "\tEstimator      =\tNone\n",
      "\tMultiply dens. =\tTrue\n"
     ]
    }
   ],
   "source": [
    "tally.scores = ['fission', 'kappa-fission']\n",
    "print(tally)"
   ]
  },
  {
   "cell_type": "markdown",
   "id": "87f39814-257c-40d2-bcff-c24de5b44a79",
   "metadata": {},
   "source": [
    "Similar to the `openmc.Materials` object, the `openmc.Tallies` object is a sub-class of Python's built-in `list` and is used to collect tallies for appliction to the model."
   ]
  },
  {
   "cell_type": "code",
   "execution_count": 94,
   "id": "807e3ea6-67d5-452e-b04f-7210af2d503f",
   "metadata": {},
   "outputs": [],
   "source": [
    "model.tallies = openmc.Tallies([tally])"
   ]
  },
  {
   "cell_type": "code",
   "execution_count": 95,
   "id": "3fad2891",
   "metadata": {},
   "outputs": [
    {
     "name": "stdout",
     "output_type": "stream",
     "text": [
      "                                %%%%%%%%%%%%%%%\n",
      "                           %%%%%%%%%%%%%%%%%%%%%%%%\n",
      "                        %%%%%%%%%%%%%%%%%%%%%%%%%%%%%%\n",
      "                      %%%%%%%%%%%%%%%%%%%%%%%%%%%%%%%%%%\n",
      "                    %%%%%%%%%%%%%%%%%%%%%%%%%%%%%%%%%%%%%%\n",
      "                   %%%%%%%%%%%%%%%%%%%%%%%%%%%%%%%%%%%%%%%%\n",
      "                                    %%%%%%%%%%%%%%%%%%%%%%%%\n",
      "                                     %%%%%%%%%%%%%%%%%%%%%%%%\n",
      "                 ###############      %%%%%%%%%%%%%%%%%%%%%%%%\n",
      "                ##################     %%%%%%%%%%%%%%%%%%%%%%%\n",
      "                ###################     %%%%%%%%%%%%%%%%%%%%%%%\n",
      "                ####################     %%%%%%%%%%%%%%%%%%%%%%\n",
      "                #####################     %%%%%%%%%%%%%%%%%%%%%\n",
      "                ######################     %%%%%%%%%%%%%%%%%%%%\n",
      "                #######################     %%%%%%%%%%%%%%%%%%\n",
      "                 #######################     %%%%%%%%%%%%%%%%%\n",
      "                 ######################     %%%%%%%%%%%%%%%%%\n",
      "                  ####################     %%%%%%%%%%%%%%%%%\n",
      "                    #################     %%%%%%%%%%%%%%%%%\n",
      "                     ###############     %%%%%%%%%%%%%%%%\n",
      "                       ############     %%%%%%%%%%%%%%%\n",
      "                          ########     %%%%%%%%%%%%%%\n",
      "                                      %%%%%%%%%%%\n",
      "\n",
      "                 | The OpenMC Monte Carlo Code\n",
      "       Copyright | 2011-2023 MIT, UChicago Argonne LLC, and contributors\n",
      "         License | https://docs.openmc.org/en/latest/license.html\n",
      "         Version | 0.14.0\n",
      "        Git SHA1 | e1a8ee7794b441c992426f17fafe216391cbba83\n",
      "       Date/Time | 2024-01-20 20:03:57\n",
      "   MPI Processes | 1\n",
      "  OpenMP Threads | 4\n",
      "\n",
      " Reading model XML file './model.xml' ...\n",
      " WARNING: Other XML file input(s) are present. These files may be ignored in\n",
      "          favor of the ./model.xml file.\n",
      " Reading cross sections XML file...\n",
      " Reading U235 from\n",
      " /home/efra/simulations/openmc/data/endfb-viii.0-hdf5/neutron/U235.h5\n",
      " Reading U238 from\n",
      " /home/efra/simulations/openmc/data/endfb-viii.0-hdf5/neutron/U238.h5\n",
      " Reading O16 from\n",
      " /home/efra/simulations/openmc/data/endfb-viii.0-hdf5/neutron/O16.h5\n",
      " Reading Fe54 from\n",
      " /home/efra/simulations/openmc/data/endfb-viii.0-hdf5/neutron/Fe54.h5\n",
      " Reading Fe56 from\n",
      " /home/efra/simulations/openmc/data/endfb-viii.0-hdf5/neutron/Fe56.h5\n",
      " Reading Fe57 from\n",
      " /home/efra/simulations/openmc/data/endfb-viii.0-hdf5/neutron/Fe57.h5\n",
      " Reading Fe58 from\n",
      " /home/efra/simulations/openmc/data/endfb-viii.0-hdf5/neutron/Fe58.h5\n",
      " Reading C12 from\n",
      " /home/efra/simulations/openmc/data/endfb-viii.0-hdf5/neutron/C12.h5\n",
      " Reading C13 from\n",
      " /home/efra/simulations/openmc/data/endfb-viii.0-hdf5/neutron/C13.h5\n",
      " Reading He3 from\n",
      " /home/efra/simulations/openmc/data/endfb-viii.0-hdf5/neutron/He3.h5\n",
      " Reading He4 from\n",
      " /home/efra/simulations/openmc/data/endfb-viii.0-hdf5/neutron/He4.h5\n",
      " Reading Na23 from\n",
      " /home/efra/simulations/openmc/data/endfb-viii.0-hdf5/neutron/Na23.h5\n",
      " Minimum neutron data temperature: 600 K\n",
      " Maximum neutron data temperature: 600 K\n",
      " Preparing distributed cell instances...\n",
      " Writing summary.h5 file...\n",
      " Maximum neutron transport energy: 20000000 eV for C13\n",
      " Initializing source particles...\n",
      "\n",
      " ====================>     K EIGENVALUE SIMULATION     <====================\n",
      "\n",
      "  Bat./Gen.      k            Average k\n",
      "  =========   ========   ====================\n",
      "        1/1    1.53633\n",
      "        2/1    1.44169\n",
      "        3/1    1.43458\n",
      "        4/1    1.53455\n",
      "        5/1    1.54612\n",
      "        6/1    1.42422\n",
      "        7/1    1.51346\n",
      "        8/1    1.48804\n",
      "        9/1    1.47048\n",
      "       10/1    1.49935\n",
      "       11/1    1.48970\n",
      "       12/1    1.50958    1.49964 +/- 0.00994\n",
      "       13/1    1.47902    1.49277 +/- 0.00895\n",
      "       14/1    1.45278    1.48277 +/- 0.01183\n",
      "       15/1    1.44915    1.47605 +/- 0.01137\n",
      "       16/1    1.47640    1.47611 +/- 0.00928\n",
      "       17/1    1.43383    1.47007 +/- 0.00990\n",
      "       18/1    1.42573    1.46453 +/- 0.01021\n",
      "       19/1    1.49513    1.46793 +/- 0.00962\n",
      "       20/1    1.39629    1.46076 +/- 0.01120\n",
      "       21/1    1.55055    1.46893 +/- 0.01301\n",
      "       22/1    1.42773    1.46549 +/- 0.01236\n",
      "       23/1    1.50782    1.46875 +/- 0.01183\n",
      "       24/1    1.39622    1.46357 +/- 0.01211\n",
      "       25/1    1.49835    1.46589 +/- 0.01151\n",
      "       26/1    1.54752    1.47099 +/- 0.01192\n",
      "       27/1    1.42925    1.46853 +/- 0.01146\n",
      "       28/1    1.58032    1.47474 +/- 0.01246\n",
      "       29/1    1.50242    1.47620 +/- 0.01188\n",
      "       30/1    1.42835    1.47381 +/- 0.01152\n",
      "       31/1    1.45017    1.47268 +/- 0.01102\n",
      "       32/1    1.52821    1.47521 +/- 0.01080\n",
      "       33/1    1.45726    1.47443 +/- 0.01035\n",
      "       34/1    1.48893    1.47503 +/- 0.00993\n",
      "       35/1    1.53102    1.47727 +/- 0.00978\n",
      "       36/1    1.45712    1.47650 +/- 0.00943\n",
      "       37/1    1.48581    1.47684 +/- 0.00908\n",
      "       38/1    1.45221    1.47596 +/- 0.00880\n",
      "       39/1    1.42800    1.47431 +/- 0.00865\n",
      "       40/1    1.51245    1.47558 +/- 0.00845\n",
      "       41/1    1.47027    1.47541 +/- 0.00817\n",
      "       42/1    1.47660    1.47544 +/- 0.00791\n",
      "       43/1    1.48194    1.47564 +/- 0.00767\n",
      "       44/1    1.45332    1.47498 +/- 0.00747\n",
      "       45/1    1.47655    1.47503 +/- 0.00726\n",
      "       46/1    1.47640    1.47507 +/- 0.00705\n",
      "       47/1    1.56539    1.47751 +/- 0.00728\n",
      "       48/1    1.39444    1.47532 +/- 0.00742\n",
      "       49/1    1.48563    1.47559 +/- 0.00723\n",
      "       50/1    1.45808    1.47515 +/- 0.00706\n",
      " Creating state point statepoint.50.h5...\n",
      "\n",
      " =======================>     TIMING STATISTICS     <=======================\n",
      "\n",
      " Total time for initialization     = 7.4130e+00 seconds\n",
      "   Reading cross sections          = 7.3523e+00 seconds\n",
      " Total time in simulation          = 1.9107e+01 seconds\n",
      "   Time in transport only          = 1.8935e+01 seconds\n",
      "   Time in inactive batches        = 3.3241e+00 seconds\n",
      "   Time in active batches          = 1.5783e+01 seconds\n",
      "   Time synchronizing fission bank = 1.5854e-02 seconds\n",
      "     Sampling source sites         = 1.0471e-02 seconds\n",
      "     SEND/RECV source sites        = 4.7982e-03 seconds\n",
      "   Time accumulating tallies       = 9.3988e-02 seconds\n",
      "   Time writing statepoints        = 4.0782e-02 seconds\n",
      " Total time for finalization       = 3.3308e-04 seconds\n",
      " Total time elapsed                = 2.6537e+01 seconds\n",
      " Calculation Rate (inactive)       = 3008.32 particles/second\n",
      " Calculation Rate (active)         = 2534.44 particles/second\n",
      "\n",
      " ============================>     RESULTS     <============================\n",
      "\n",
      " k-effective (Collision)     = 1.47681 +/- 0.00667\n",
      " k-effective (Track-length)  = 1.47515 +/- 0.00706\n",
      " k-effective (Absorption)    = 1.47836 +/- 0.00536\n",
      " Combined k-effective        = 1.47850 +/- 0.00358\n",
      " Leakage Fraction            = 0.00000 +/- 0.00000\n",
      "\n"
     ]
    }
   ],
   "source": [
    "statepoint_file = model.run()"
   ]
  },
  {
   "cell_type": "markdown",
   "id": "b4c5744f-781d-41ab-bdc2-592af80837bd",
   "metadata": {},
   "source": [
    "If we list our current directory, we see that several new files have been created as a result of this run: `summary.h5`, `tallies.out`, and `statepoint.50.h5`. The summary file contains information about the simulation's setup (geometry, materials, meshes, etc.) in an HDF5 format. The `tallies.out` file contains a text output of all user-specified tallies for the simulation."
   ]
  },
  {
   "cell_type": "code",
   "execution_count": 96,
   "id": "b7f4ef75-fdd4-4881-af87-b4f793a61201",
   "metadata": {},
   "outputs": [
    {
     "name": "stdout",
     "output_type": "stream",
     "text": [
      " ============================>     TALLY 1     <============================\n",
      "\n",
      " Total Material\n",
      "   Fission Rate                         0.584751 +/- 0.00284221\n",
      "   Kappa-Fission Rate                   1.13485e+08 +/- 551009\n"
     ]
    }
   ],
   "source": [
    "!cat tallies.out"
   ]
  },
  {
   "cell_type": "markdown",
   "id": "61c132dd-46c7-4452-af39-8b8a37ec31ba",
   "metadata": {},
   "source": [
    "This can be useful to quickly look at simple tally results, but isn't a great format to post-process simulation data. For that we'll look to the statepoint file."
   ]
  },
  {
   "cell_type": "code",
   "execution_count": 97,
   "id": "3e079ba1",
   "metadata": {},
   "outputs": [],
   "source": [
    "sp = openmc.StatePoint(statepoint_file)\n",
    "# extract tally information\n",
    "sp.close()"
   ]
  },
  {
   "cell_type": "code",
   "execution_count": 98,
   "id": "c441398f",
   "metadata": {},
   "outputs": [
    {
     "name": "stdout",
     "output_type": "stream",
     "text": [
      "Help on function get_tally in module openmc.statepoint:\n",
      "\n",
      "get_tally(self, scores=[], filters=[], nuclides=[], name=None, id=None, estimator=None, exact_filters=False, exact_nuclides=False, exact_scores=False)\n",
      "    Finds and returns a Tally object with certain properties.\n",
      "\n",
      "    This routine searches the list of Tallies and returns the first Tally\n",
      "    found which satisfies all of the input parameters.\n",
      "\n",
      "    NOTE: If any of the \"exact\" parameters are False (default), the input\n",
      "    parameters do not need to match the complete Tally specification and\n",
      "    may only represent a subset of the Tally's properties. If an \"exact\"\n",
      "    parameter is True then number of scores, filters, or nuclides in the\n",
      "    parameters must precisely match those of any matching Tally.\n",
      "\n",
      "    Parameters\n",
      "    ----------\n",
      "    scores : list, optional\n",
      "        A list of one or more score strings (default is []).\n",
      "    filters : list, optional\n",
      "        A list of Filter objects (default is []).\n",
      "    nuclides : list, optional\n",
      "        A list of Nuclide objects (default is []).\n",
      "    name : str, optional\n",
      "        The name specified for the Tally (default is None).\n",
      "    id : Integral, optional\n",
      "        The id specified for the Tally (default is None).\n",
      "    estimator: str, optional\n",
      "        The type of estimator ('tracklength', 'analog'; default is None).\n",
      "    exact_filters : bool\n",
      "        If True, the number of filters in the parameters must be identical\n",
      "        to those in the matching Tally. If False (default), the filters in\n",
      "        the parameters may be a subset of those in the matching Tally.\n",
      "    exact_nuclides : bool\n",
      "        If True, the number of nuclides in the parameters must be identical\n",
      "        to those in the matching Tally. If False (default), the nuclides in\n",
      "        the parameters may be a subset of those in the matching Tally.\n",
      "    exact_scores : bool\n",
      "        If True, the number of scores in the parameters must be identical\n",
      "        to those in the matching Tally. If False (default), the scores\n",
      "        in the parameters may be a subset of those in the matching Tally.\n",
      "\n",
      "    Returns\n",
      "    -------\n",
      "    tally : openmc.Tally\n",
      "        A tally matching the specified criteria\n",
      "\n",
      "    Raises\n",
      "    ------\n",
      "    LookupError\n",
      "        If a Tally meeting all of the input parameters cannot be found in\n",
      "        the statepoint.\n",
      "\n"
     ]
    }
   ],
   "source": [
    "help(openmc.StatePoint.get_tally)"
   ]
  },
  {
   "cell_type": "code",
   "execution_count": 99,
   "id": "8ed48215-6c86-46aa-ab4f-6ee4c268b345",
   "metadata": {},
   "outputs": [],
   "source": [
    "with openmc.StatePoint(statepoint_file) as sp:\n",
    "    tally_by_scores = sp.get_tally(scores=['fission', 'kappa-fission'])\n",
    "    tally_by_id = sp.get_tally(id=tally.id)"
   ]
  },
  {
   "cell_type": "code",
   "execution_count": 100,
   "id": "1ea01e66",
   "metadata": {},
   "outputs": [
    {
     "name": "stdout",
     "output_type": "stream",
     "text": [
      "Tally\n",
      "\tID             =\t1\n",
      "\tName           =\t\n",
      "\tFilters        =\t\n",
      "\tNuclides       =\ttotal\n",
      "\tScores         =\t['fission', 'kappa-fission']\n",
      "\tEstimator      =\ttracklength\n",
      "\tMultiply dens. =\tTrue\n"
     ]
    }
   ],
   "source": [
    "print(tally_by_scores)"
   ]
  },
  {
   "cell_type": "code",
   "execution_count": 101,
   "id": "319ad15d",
   "metadata": {},
   "outputs": [
    {
     "name": "stdout",
     "output_type": "stream",
     "text": [
      "Tally\n",
      "\tID             =\t1\n",
      "\tName           =\t\n",
      "\tFilters        =\t\n",
      "\tNuclides       =\ttotal\n",
      "\tScores         =\t['fission', 'kappa-fission']\n",
      "\tEstimator      =\ttracklength\n",
      "\tMultiply dens. =\tTrue\n"
     ]
    }
   ],
   "source": [
    "print(tally_by_id)"
   ]
  },
  {
   "cell_type": "markdown",
   "id": "084e771a-4f43-456c-8c76-74cfb3ee08a1",
   "metadata": {},
   "source": [
    "To extract information from the statepoint file we'll create an `openmc.StatePoint` object. The `statepoint.get_tally` function will search for tallies by scores, filters, nuclides, ids, and return the closest match. Exact matches can be speficied as well."
   ]
  },
  {
   "cell_type": "code",
   "execution_count": 102,
   "id": "029d41f5-6dfd-4045-8f58-92455b3402ec",
   "metadata": {},
   "outputs": [
    {
     "data": {
      "text/plain": [
       "array([[[5.84750507e-01, 1.13484644e+08]]])"
      ]
     },
     "execution_count": 102,
     "metadata": {},
     "output_type": "execute_result"
    }
   ],
   "source": [
    "tally_by_id.mean"
   ]
  },
  {
   "cell_type": "markdown",
   "id": "40a25dc0-1ea6-4d9f-a3c6-752040a0045b",
   "metadata": {},
   "source": [
    "If we print the tally objects returned, we see that they indeed match the tally specification we generated above."
   ]
  },
  {
   "cell_type": "code",
   "execution_count": 103,
   "id": "eaf78d77-3cf5-4152-abaa-3b848d3b4db1",
   "metadata": {},
   "outputs": [],
   "source": [
    "# sp = openmc.StatePoint(statepoint_file)\n",
    "# sp.close()"
   ]
  },
  {
   "cell_type": "markdown",
   "id": "01680e7c-d6aa-4f45-9ac9-258452dc8362",
   "metadata": {
    "tags": []
   },
   "source": [
    "<div class=\"alert alert-block alert-info\">\n",
    "<b>A quick aside on how statepoint objects interact with summary files:</b>\n",
    "\n",
    "\n",
    "The `openmc.statepoint` object will read information from the `summary.h5` file if one is present, keeping that file open in the Python interpreter. The open `summary.h5` file can interfere with the initialization of subsequent OpenMC simulations. It is recommended that information be extracted from statepoints within a [context manager](https://book.pythontips.com/en/latest/context_managers.html) as we do here. Alternatively, making sure to call the `openmc.StatePoint.close` method will work also. For more details please look to the [relevant section in the user's guide](https://docs.openmc.org/en/stable/usersguide/troubleshoot.html#runtimeerror-failed-to-open-hdf5-file-with-mode-w-summary-h5).   \n",
    "</div>\n",
    "\n"
   ]
  },
  {
   "cell_type": "markdown",
   "id": "9e8422e5-b42d-41f9-95a8-675cb55ec418",
   "metadata": {},
   "source": [
    "To compute the energy released per fission event, we can simply take the tallied energy released per fission and divide it by the fission rate."
   ]
  },
  {
   "cell_type": "code",
   "execution_count": null,
   "id": "83fb1459-f5b5-45de-920a-90bbc1bb6763",
   "metadata": {},
   "outputs": [],
   "source": []
  },
  {
   "cell_type": "markdown",
   "id": "7563089a-a924-48b6-ba94-30e0b7ed20cf",
   "metadata": {},
   "source": [
    "The array of results returned from the `Tally.get_values` method returns an array with 3 dimensions: one for filter bins, one for nuclides, and one for the scores requested."
   ]
  },
  {
   "cell_type": "code",
   "execution_count": 104,
   "id": "8adb218e-26d1-4011-8e51-789842f53478",
   "metadata": {},
   "outputs": [
    {
     "name": "stdout",
     "output_type": "stream",
     "text": [
      "Help on function get_values in module openmc.tallies:\n",
      "\n",
      "get_values(self, scores=[], filters=[], filter_bins=[], nuclides=[], value='mean')\n",
      "    Returns one or more tallied values given a list of scores, filters,\n",
      "    filter bins and nuclides.\n",
      "\n",
      "    This method constructs a 3D NumPy array for the requested Tally data\n",
      "    indexed by filter bin, nuclide bin, and score index. The method will\n",
      "    order the data in the array as specified in the parameter lists.\n",
      "\n",
      "    Parameters\n",
      "    ----------\n",
      "    scores : list of str\n",
      "        A list of one or more score strings\n",
      "        (e.g., ['absorption', 'nu-fission']; default is [])\n",
      "    filters : Iterable of openmc.FilterMeta\n",
      "        An iterable of filter types\n",
      "        (e.g., [MeshFilter, EnergyFilter]; default is [])\n",
      "    filter_bins : list of Iterables\n",
      "        A list of tuples of filter bins corresponding to the filter_types\n",
      "        parameter (e.g., [(1,), ((0., 0.625e-6),)]; default is []). Each\n",
      "        tuple contains bins for the corresponding filter type in the filters\n",
      "        parameter. Each bins is the integer ID for 'material', 'surface',\n",
      "        'cell', 'cellborn', and 'universe' Filters. Each bin is an integer\n",
      "        for the cell instance ID for 'distribcell' Filters. Each bin is a\n",
      "        2-tuple of floats for 'energy' and 'energyout' filters corresponding\n",
      "        to the energy boundaries of the bin of interest. The bin is an\n",
      "        (x,y,z) 3-tuple for 'mesh' filters corresponding to the mesh cell\n",
      "        of interest. The order of the bins in the list must correspond to\n",
      "        the filter_types parameter.\n",
      "    nuclides : list of str\n",
      "        A list of nuclide name strings\n",
      "        (e.g., ['U235', 'U238']; default is [])\n",
      "    value : str\n",
      "        A string for the type of value to return  - 'mean' (default),\n",
      "        'std_dev', 'rel_err', 'sum', or 'sum_sq' are accepted\n",
      "\n",
      "    Returns\n",
      "    -------\n",
      "    float or numpy.ndarray\n",
      "        A scalar or NumPy array of the Tally data indexed in the order\n",
      "        each filter, nuclide and score is listed in the parameters.\n",
      "\n",
      "    Raises\n",
      "    ------\n",
      "    ValueError\n",
      "        When this method is called before the Tally is populated with data,\n",
      "        or the input parameters do not correspond to the Tally's attributes,\n",
      "        e.g., if the score(s) do not match those in the Tally.\n",
      "\n"
     ]
    }
   ],
   "source": [
    "help(openmc.Tally.get_values)"
   ]
  },
  {
   "cell_type": "code",
   "execution_count": 105,
   "id": "74a2b6f7-adea-4347-9963-9c49ffd6fe68",
   "metadata": {},
   "outputs": [],
   "source": [
    "fission_rate = tally_by_id.get_values(scores=['fission']).flatten()[0]\n",
    "kappa_fission = tally_by_id.get_values(scores=['kappa-fission']).flatten()[0]"
   ]
  },
  {
   "cell_type": "code",
   "execution_count": 106,
   "id": "8b85b0ec",
   "metadata": {},
   "outputs": [
    {
     "name": "stdout",
     "output_type": "stream",
     "text": [
      "Fission rate: 0.5847505065395343 [fission per src-particle]\n",
      "Kappa-fission: 113484644.10667065 [eV per src-particle]\n",
      "MeV per fission: 194.07361402430539\n"
     ]
    }
   ],
   "source": [
    "print(f'Fission rate: {fission_rate} [fission per src-particle]')\n",
    "print(f'Kappa-fission: {kappa_fission} [eV per src-particle]')\n",
    "mev_per_fission = 1E-06 * kappa_fission / fission_rate\n",
    "print(f'MeV per fission: {mev_per_fission}')"
   ]
  },
  {
   "cell_type": "markdown",
   "id": "2e2ebdb6-d4d0-48ee-8c5a-502cae0ad20f",
   "metadata": {},
   "source": [
    "For a water reactor with U235 as the only fissioning isotope this is about what we would expect: ~193-194 MeV! Okay, on to some new tallies with filters.\n",
    "\n",
    "As with most values coming out of an MC code, the tally values in the statepoint file are per source-particle. In this case, these units cancel out, but this will not be the case in our next example."
   ]
  },
  {
   "cell_type": "markdown",
   "id": "db92b393-1417-48a1-bb51-4f87dd7f3c28",
   "metadata": {},
   "source": [
    "---"
   ]
  },
  {
   "cell_type": "markdown",
   "id": "5fe0f7f9-6e08-4f57-977b-16e1f8221b50",
   "metadata": {},
   "source": [
    "## Task 2: Plot the neutron flux spectrum\n"
   ]
  },
  {
   "cell_type": "markdown",
   "id": "cd46ea8f-7073-4e1e-a9a7-06e30e219b53",
   "metadata": {},
   "source": [
    "To perform this task, we'll be applying a tally with an energy filter and a score. OpenMC's data module contains different group structures. For this problem we'll use the CASMO-70 group structure. An energy filter can easily be created from a pre-defined group structure in OpenMC as follows:"
   ]
  },
  {
   "cell_type": "code",
   "execution_count": 107,
   "id": "df82557c-1d1e-4876-8574-7e1d2d2492c2",
   "metadata": {},
   "outputs": [
    {
     "data": {
      "text/plain": [
       "dict_keys(['CASMO-2', 'CASMO-4', 'CASMO-8', 'CASMO-16', 'CASMO-25', 'CASMO-40', 'VITAMIN-J-42', 'SCALE-44', 'MPACT-51', 'MPACT-60', 'MPACT-69', 'CASMO-70', 'XMAS-172', 'VITAMIN-J-175', 'SCALE-252', 'TRIPOLI-315', 'SHEM-361', 'CCFE-709', 'UKAEA-1102', 'ECCO-1968'])"
      ]
     },
     "execution_count": 107,
     "metadata": {},
     "output_type": "execute_result"
    }
   ],
   "source": [
    "openmc.mgxs.GROUP_STRUCTURES.keys()"
   ]
  },
  {
   "cell_type": "code",
   "execution_count": 108,
   "id": "f2519699",
   "metadata": {},
   "outputs": [],
   "source": [
    "casmo_70 = openmc.mgxs.GROUP_STRUCTURES['CASMO-70']"
   ]
  },
  {
   "cell_type": "code",
   "execution_count": 109,
   "id": "16502b8a",
   "metadata": {},
   "outputs": [],
   "source": [
    "energy_filter = openmc.EnergyFilter(casmo_70)"
   ]
  },
  {
   "cell_type": "code",
   "execution_count": 110,
   "id": "77927325",
   "metadata": {},
   "outputs": [
    {
     "name": "stdout",
     "output_type": "stream",
     "text": [
      "70\n"
     ]
    }
   ],
   "source": [
    "print(len(energy_filter.bins))"
   ]
  },
  {
   "cell_type": "code",
   "execution_count": 111,
   "id": "c8381e05",
   "metadata": {},
   "outputs": [
    {
     "name": "stdout",
     "output_type": "stream",
     "text": [
      "Tally\n",
      "\tID             =\t2\n",
      "\tName           =\t\n",
      "\tFilters        =\tEnergyFilter\n",
      "\tNuclides       =\t\n",
      "\tScores         =\t['flux']\n",
      "\tEstimator      =\tNone\n",
      "\tMultiply dens. =\tTrue\n"
     ]
    }
   ],
   "source": [
    "flux_tally = openmc.Tally()\n",
    "flux_tally.filters = [energy_filter]\n",
    "flux_tally.scores = ['flux']\n",
    "print(flux_tally)"
   ]
  },
  {
   "cell_type": "markdown",
   "id": "84eed2e3-bb18-49ce-b174-e714e003a612",
   "metadata": {},
   "source": [
    "Now we'll apply this tally and re-run the problem"
   ]
  },
  {
   "cell_type": "code",
   "execution_count": 112,
   "id": "071b169d-fc52-443d-82dc-9972705e9ac4",
   "metadata": {},
   "outputs": [
    {
     "name": "stdout",
     "output_type": "stream",
     "text": [
      "                                %%%%%%%%%%%%%%%\n",
      "                           %%%%%%%%%%%%%%%%%%%%%%%%\n",
      "                        %%%%%%%%%%%%%%%%%%%%%%%%%%%%%%\n",
      "                      %%%%%%%%%%%%%%%%%%%%%%%%%%%%%%%%%%\n",
      "                    %%%%%%%%%%%%%%%%%%%%%%%%%%%%%%%%%%%%%%\n",
      "                   %%%%%%%%%%%%%%%%%%%%%%%%%%%%%%%%%%%%%%%%\n",
      "                                    %%%%%%%%%%%%%%%%%%%%%%%%\n",
      "                                     %%%%%%%%%%%%%%%%%%%%%%%%\n",
      "                 ###############      %%%%%%%%%%%%%%%%%%%%%%%%\n",
      "                ##################     %%%%%%%%%%%%%%%%%%%%%%%\n",
      "                ###################     %%%%%%%%%%%%%%%%%%%%%%%\n",
      "                ####################     %%%%%%%%%%%%%%%%%%%%%%\n",
      "                #####################     %%%%%%%%%%%%%%%%%%%%%\n",
      "                ######################     %%%%%%%%%%%%%%%%%%%%\n",
      "                #######################     %%%%%%%%%%%%%%%%%%\n",
      "                 #######################     %%%%%%%%%%%%%%%%%\n",
      "                 ######################     %%%%%%%%%%%%%%%%%\n",
      "                  ####################     %%%%%%%%%%%%%%%%%\n",
      "                    #################     %%%%%%%%%%%%%%%%%\n",
      "                     ###############     %%%%%%%%%%%%%%%%\n",
      "                       ############     %%%%%%%%%%%%%%%\n",
      "                          ########     %%%%%%%%%%%%%%\n",
      "                                      %%%%%%%%%%%\n",
      "\n",
      "                 | The OpenMC Monte Carlo Code\n",
      "       Copyright | 2011-2023 MIT, UChicago Argonne LLC, and contributors\n",
      "         License | https://docs.openmc.org/en/latest/license.html\n",
      "         Version | 0.14.0\n",
      "        Git SHA1 | e1a8ee7794b441c992426f17fafe216391cbba83\n",
      "       Date/Time | 2024-01-20 20:12:23\n",
      "   MPI Processes | 1\n",
      "  OpenMP Threads | 4\n",
      "\n",
      " Reading model XML file './model.xml' ...\n",
      " WARNING: Other XML file input(s) are present. These files may be ignored in\n",
      "          favor of the ./model.xml file.\n",
      " Reading cross sections XML file...\n",
      " Reading U235 from\n",
      " /home/efra/simulations/openmc/data/endfb-viii.0-hdf5/neutron/U235.h5\n"
     ]
    },
    {
     "name": "stdout",
     "output_type": "stream",
     "text": [
      " Reading U238 from\n",
      " /home/efra/simulations/openmc/data/endfb-viii.0-hdf5/neutron/U238.h5\n",
      " Reading O16 from\n",
      " /home/efra/simulations/openmc/data/endfb-viii.0-hdf5/neutron/O16.h5\n",
      " Reading Fe54 from\n",
      " /home/efra/simulations/openmc/data/endfb-viii.0-hdf5/neutron/Fe54.h5\n",
      " Reading Fe56 from\n",
      " /home/efra/simulations/openmc/data/endfb-viii.0-hdf5/neutron/Fe56.h5\n",
      " Reading Fe57 from\n",
      " /home/efra/simulations/openmc/data/endfb-viii.0-hdf5/neutron/Fe57.h5\n",
      " Reading Fe58 from\n",
      " /home/efra/simulations/openmc/data/endfb-viii.0-hdf5/neutron/Fe58.h5\n",
      " Reading C12 from\n",
      " /home/efra/simulations/openmc/data/endfb-viii.0-hdf5/neutron/C12.h5\n",
      " Reading C13 from\n",
      " /home/efra/simulations/openmc/data/endfb-viii.0-hdf5/neutron/C13.h5\n",
      " Reading He3 from\n",
      " /home/efra/simulations/openmc/data/endfb-viii.0-hdf5/neutron/He3.h5\n",
      " Reading He4 from\n",
      " /home/efra/simulations/openmc/data/endfb-viii.0-hdf5/neutron/He4.h5\n",
      " Reading Na23 from\n",
      " /home/efra/simulations/openmc/data/endfb-viii.0-hdf5/neutron/Na23.h5\n",
      " Minimum neutron data temperature: 600 K\n",
      " Maximum neutron data temperature: 600 K\n",
      " Preparing distributed cell instances...\n",
      " Writing summary.h5 file...\n",
      " Maximum neutron transport energy: 20000000 eV for C13\n",
      " Initializing source particles...\n",
      "\n",
      " ====================>     K EIGENVALUE SIMULATION     <====================\n",
      "\n",
      "  Bat./Gen.      k            Average k\n",
      "  =========   ========   ====================\n",
      "        1/1    1.53633\n",
      "        2/1    1.44169\n",
      "        3/1    1.43458\n",
      "        4/1    1.53455\n",
      "        5/1    1.54612\n",
      "        6/1    1.42422\n",
      "        7/1    1.51346\n",
      "        8/1    1.48804\n",
      "        9/1    1.47048\n",
      "       10/1    1.49935\n",
      "       11/1    1.48970\n",
      "       12/1    1.50958    1.49964 +/- 0.00994\n",
      "       13/1    1.47902    1.49277 +/- 0.00895\n",
      "       14/1    1.45278    1.48277 +/- 0.01183\n",
      "       15/1    1.44915    1.47605 +/- 0.01137\n",
      "       16/1    1.47640    1.47611 +/- 0.00928\n",
      "       17/1    1.43383    1.47007 +/- 0.00990\n",
      "       18/1    1.42573    1.46453 +/- 0.01021\n",
      "       19/1    1.49513    1.46793 +/- 0.00962\n",
      "       20/1    1.39629    1.46076 +/- 0.01120\n",
      "       21/1    1.55055    1.46893 +/- 0.01301\n",
      "       22/1    1.42773    1.46549 +/- 0.01236\n",
      "       23/1    1.50782    1.46875 +/- 0.01183\n",
      "       24/1    1.39622    1.46357 +/- 0.01211\n",
      "       25/1    1.49835    1.46589 +/- 0.01151\n",
      "       26/1    1.54752    1.47099 +/- 0.01192\n",
      "       27/1    1.42925    1.46853 +/- 0.01146\n",
      "       28/1    1.58032    1.47474 +/- 0.01246\n",
      "       29/1    1.50242    1.47620 +/- 0.01188\n",
      "       30/1    1.42835    1.47381 +/- 0.01152\n",
      "       31/1    1.45017    1.47268 +/- 0.01102\n",
      "       32/1    1.52821    1.47521 +/- 0.01080\n",
      "       33/1    1.45726    1.47443 +/- 0.01035\n",
      "       34/1    1.48893    1.47503 +/- 0.00993\n",
      "       35/1    1.53102    1.47727 +/- 0.00978\n",
      "       36/1    1.45712    1.47650 +/- 0.00943\n",
      "       37/1    1.48581    1.47684 +/- 0.00908\n",
      "       38/1    1.45221    1.47596 +/- 0.00880\n",
      "       39/1    1.42800    1.47431 +/- 0.00865\n",
      "       40/1    1.51245    1.47558 +/- 0.00845\n",
      "       41/1    1.47027    1.47541 +/- 0.00817\n",
      "       42/1    1.47660    1.47544 +/- 0.00791\n",
      "       43/1    1.48194    1.47564 +/- 0.00767\n",
      "       44/1    1.45332    1.47498 +/- 0.00747\n",
      "       45/1    1.47655    1.47503 +/- 0.00726\n",
      "       46/1    1.47640    1.47507 +/- 0.00705\n",
      "       47/1    1.56539    1.47751 +/- 0.00728\n",
      "       48/1    1.39444    1.47532 +/- 0.00742\n",
      "       49/1    1.48563    1.47559 +/- 0.00723\n",
      "       50/1    1.45808    1.47515 +/- 0.00706\n",
      " Creating state point statepoint.50.h5...\n",
      "\n",
      " =======================>     TIMING STATISTICS     <=======================\n",
      "\n",
      " Total time for initialization     = 6.6281e+00 seconds\n",
      "   Reading cross sections          = 6.5830e+00 seconds\n",
      " Total time in simulation          = 1.5012e+01 seconds\n",
      "   Time in transport only          = 1.4902e+01 seconds\n",
      "   Time in inactive batches        = 2.5924e+00 seconds\n",
      "   Time in active batches          = 1.2420e+01 seconds\n",
      "   Time synchronizing fission bank = 1.3744e-02 seconds\n",
      "     Sampling source sites         = 8.1359e-03 seconds\n",
      "     SEND/RECV source sites        = 5.0431e-03 seconds\n",
      "   Time accumulating tallies       = 5.4827e-02 seconds\n",
      "   Time writing statepoints        = 2.3834e-02 seconds\n",
      " Total time for finalization       = 4.5412e-04 seconds\n",
      " Total time elapsed                = 2.1652e+01 seconds\n",
      " Calculation Rate (inactive)       = 3857.47 particles/second\n",
      " Calculation Rate (active)         = 3220.73 particles/second\n",
      "\n",
      " ============================>     RESULTS     <============================\n",
      "\n",
      " k-effective (Collision)     = 1.47681 +/- 0.00667\n",
      " k-effective (Track-length)  = 1.47515 +/- 0.00706\n",
      " k-effective (Absorption)    = 1.47836 +/- 0.00536\n",
      " Combined k-effective        = 1.47850 +/- 0.00358\n",
      " Leakage Fraction            = 0.00000 +/- 0.00000\n",
      "\n"
     ]
    }
   ],
   "source": [
    "model.tallies = openmc.Tallies([flux_tally])\n",
    "statepoint_file = model.run()"
   ]
  },
  {
   "cell_type": "code",
   "execution_count": 113,
   "id": "60ad9cfd",
   "metadata": {},
   "outputs": [
    {
     "name": "stdout",
     "output_type": "stream",
     "text": [
      "[[0.e+00 1.e-02]\n",
      " [1.e-02 2.e+07]]\n"
     ]
    }
   ],
   "source": [
    "temp_energy_filter = openmc.EnergyFilter([0.0, 0.01, 20E6])\n",
    "print(temp_energy_filter.bins)"
   ]
  },
  {
   "cell_type": "markdown",
   "id": "32e3864d-cbec-4dc7-b97e-991908548880",
   "metadata": {},
   "source": [
    "Now to plot the spectrum"
   ]
  },
  {
   "cell_type": "code",
   "execution_count": 115,
   "id": "88a982d5-80b3-4c56-a775-9cb67bcfd1ad",
   "metadata": {},
   "outputs": [],
   "source": [
    "with openmc.StatePoint(statepoint_file) as sp:\n",
    "    spectrum_tally = sp.get_tally(id=flux_tally.id)"
   ]
  },
  {
   "cell_type": "code",
   "execution_count": 116,
   "id": "7bdede93",
   "metadata": {},
   "outputs": [
    {
     "name": "stdout",
     "output_type": "stream",
     "text": [
      "70\n"
     ]
    }
   ],
   "source": [
    "flux_spectrum = spectrum_tally.mean\n",
    "print(flux_spectrum.size)"
   ]
  },
  {
   "cell_type": "code",
   "execution_count": 120,
   "id": "9ccc34ca",
   "metadata": {},
   "outputs": [
    {
     "data": {
      "text/plain": [
       "numpy.ndarray"
      ]
     },
     "execution_count": 120,
     "metadata": {},
     "output_type": "execute_result"
    }
   ],
   "source": [
    "type(flux_spectrum)"
   ]
  },
  {
   "cell_type": "code",
   "execution_count": 121,
   "id": "43085326",
   "metadata": {},
   "outputs": [],
   "source": [
    "np.savetxt('fast_flux_spectrum.txt', flux_spectrum.flatten())"
   ]
  },
  {
   "cell_type": "code",
   "execution_count": 119,
   "id": "af5dfac6",
   "metadata": {},
   "outputs": [
    {
     "data": {
      "image/png": "[encoded data removed]",
      "text/plain": [
       "<Figure size 1200x500 with 1 Axes>"
      ]
     },
     "metadata": {},
     "output_type": "display_data"
    }
   ],
   "source": [
    "fig = plt.figure(figsize=(12, 5))\n",
    "\n",
    "bin_boundaries = energy_filter.lethargy_bin_width\n",
    "\n",
    "plt.step(np.unique(energy_filter.bins)[:-1], flux_spectrum.flatten() / bin_boundaries)\n",
    "plt.xscale('log')\n",
    "plt.xlabel('Energy [eV]')\n",
    "plt.ylabel('Flux [particle-cm per src-particle]')\n",
    "plt.show()"
   ]
  },
  {
   "cell_type": "markdown",
   "id": "b99d47d4-0ae6-40f4-ab66-1bd6efa29f0f",
   "metadata": {},
   "source": [
    "## Normalizing Tallies"
   ]
  },
  {
   "cell_type": "markdown",
   "id": "d7ce43d7-4358-4e56-8394-03f9df1adf0e",
   "metadata": {},
   "source": [
    "Note that the units of flux in the above plot are in $\\frac{particle-cm}{source-particle}$. As is the case with many values tallied by Monte Carlo codes, the value of the flux does not account for volume and is in terms of the number of source particles emitted. To generate this same plot in terms of absolute flux units ($\\frac{particle}{cm^{2}-s}$) we'll need to normalize this tally by:\n",
    "\n",
    "  - the volume of the region the tally covers\n",
    "  - the number of source particle emitted\n",
    "\n",
    "In this case, the volume of the region is the volume of the entire pincell. Because we're working with a 2-D model, we'll get units that give us the flux per unit length of the pincell in the axial direction. For simplicity, we'll assume that our pincell is 1 cm in height to make life easier. OpenMC's geometry object allows for computation of a bounding box for geometries like this that will help make this more straight forward."
   ]
  },
  {
   "cell_type": "code",
   "execution_count": 122,
   "id": "8860671a-20f7-444f-bf03-6fd1a13ae39f",
   "metadata": {},
   "outputs": [
    {
     "name": "stdout",
     "output_type": "stream",
     "text": [
      "0.4830249999999999\n"
     ]
    }
   ],
   "source": [
    "volume = pitch * pitch\n",
    "print(volume)"
   ]
  },
  {
   "cell_type": "code",
   "execution_count": 123,
   "id": "7eaba3ec",
   "metadata": {},
   "outputs": [
    {
     "data": {
      "text/plain": [
       "BoundingBox(lower_left=(-0.3475, -0.3475, -inf), upper_right=(0.3475, 0.3475, inf))"
      ]
     },
     "execution_count": 123,
     "metadata": {},
     "output_type": "execute_result"
    }
   ],
   "source": [
    "model.geometry.bounding_box"
   ]
  },
  {
   "cell_type": "markdown",
   "id": "ac50e797-098f-430b-8b93-a43164ee12af",
   "metadata": {},
   "source": [
    "Determining the number of source particles per second is more complicated, however. This means computing the eV/source particle due to fission. To get the source rate, we'll need the following pieces of information:\n",
    "\n",
    "  1. the total power produced in the tally region (known a priori)\n",
    "  2. the heat produced by fission power, per source particle\n",
    "  \n",
    " To get this information we'll need to construct another tally to get additional information from the simulation."
   ]
  },
  {
   "cell_type": "code",
   "execution_count": 124,
   "id": "49dbc200-1df9-42c4-8b72-b5f0958b498b",
   "metadata": {},
   "outputs": [
    {
     "name": "stdout",
     "output_type": "stream",
     "text": [
      "Neutron source: 3672647110436.797 [src-p per s]\n"
     ]
    }
   ],
   "source": [
    "pincell_power = 65E6 / 79 /61 / 80 # [W/cm]\n",
    "pincell_power_in_ev = pincell_power / 1.6E-19\n",
    "ev_per_fission = kappa_fission / fission_rate\n",
    "\n",
    "neutron_source = pincell_power_in_ev / ev_per_fission / 1.47843\n",
    "print(f'Neutron source: {neutron_source} [src-p per s]')"
   ]
  },
  {
   "cell_type": "markdown",
   "id": "0330130f-af46-4158-a750-13d8be2b91ad",
   "metadata": {},
   "source": [
    "The combination of the following tally values and power provide us with the source normalization needed as follows:\n",
    "\n",
    "\n",
    "$$ \\text{neutron source} [\\frac{n}{s}] = \\frac{1}{\\text{heat per fission} [\\frac{eV}{source}]} [\\frac{source}{eV}]\\times \\frac{1}{1.6\\times 10^{-19}} [\\frac{eV}{J}] \\times \\text{power} [\\frac{J}{s}]$$ "
   ]
  },
  {
   "cell_type": "code",
   "execution_count": 125,
   "id": "5adf481f-c808-4abf-a842-a8fbef9c7e57",
   "metadata": {},
   "outputs": [
    {
     "name": "stderr",
     "output_type": "stream",
     "text": [
      "/home/efra/anaconda3/envs/openmc-env/lib/python3.12/site-packages/openmc/filter.py:1387: RuntimeWarning: divide by zero encountered in divide\n",
      "  return np.log10(self.bins[:, 1]/self.bins[:, 0])\n"
     ]
    },
    {
     "data": {
      "image/png": "[encoded data removed]",
      "text/plain": [
       "<Figure size 1200x500 with 1 Axes>"
      ]
     },
     "metadata": {},
     "output_type": "display_data"
    }
   ],
   "source": [
    "fig = plt.figure(figsize=(12, 5))\n",
    "\n",
    "bin_boundaries = energy_filter.lethargy_bin_width\n",
    "\n",
    "normalized_flux_spectrum = neutron_source * flux_spectrum.flatten() / volume\n",
    "\n",
    "plt.step(np.unique(energy_filter.bins)[:-1], normalized_flux_spectrum / bin_boundaries)\n",
    "plt.xscale('log')\n",
    "plt.xlabel('eV')\n",
    "plt.ylabel('flux [particle per cm2-s]')\n",
    "plt.show()"
   ]
  },
  {
   "cell_type": "markdown",
   "id": "2f3aa839-02b6-4f62-8e2d-fc85a2890b7e",
   "metadata": {},
   "source": [
    "We can now use this information to normalize our flux values and reproduce our plot in more standard units."
   ]
  },
  {
   "cell_type": "code",
   "execution_count": null,
   "id": "c10c9d9e-8ba0-4e5d-9704-1395183fddf2",
   "metadata": {},
   "outputs": [],
   "source": []
  },
  {
   "cell_type": "markdown",
   "id": "631eec61-2ebe-42bc-b96d-d0cc7e28c437",
   "metadata": {},
   "source": [
    "---"
   ]
  },
  {
   "cell_type": "markdown",
   "id": "6b2d29eb-3cf3-4b6e-87ab-dc7e8b76c93b",
   "metadata": {},
   "source": [
    "## Task 3: Reaction Types by Material"
   ]
  },
  {
   "cell_type": "markdown",
   "id": "2630c1c7-1957-45f4-8af9-89cbd5be30a8",
   "metadata": {},
   "source": [
    "Looking at the different reaction types by material will require a material filter and the set of reaction types we want to score. For this example, we'll be scoring absorption, scattering and fission in each material.\n",
    "\n",
    "To start, we'll create a material filter."
   ]
  },
  {
   "cell_type": "code",
   "execution_count": 126,
   "id": "8b4e2493-a04e-461b-9907-13cc14699935",
   "metadata": {},
   "outputs": [
    {
     "data": {
      "text/plain": [
       "[Material\n",
       " \tID             =\t2\n",
       " \tName           =\tfuel\n",
       " \tTemperature    =\t523.15\n",
       " \tDensity        =\t0.07021 [atom/b-cm]\n",
       " \tVolume         =\tNone [cm^3]\n",
       " \tDepletable     =\tTrue\n",
       " \tS(a,b) Tables  \n",
       " \tNuclides       \n",
       " \tU235           =\t0.0149       [ao]\n",
       " \tU238           =\t0.0826       [ao]\n",
       " \tO16            =\t0.00469      [ao],\n",
       " Material\n",
       " \tID             =\t3\n",
       " \tName           =\tsteel\n",
       " \tTemperature    =\t523.15\n",
       " \tDensity        =\t0.0049 [atom/b-cm]\n",
       " \tVolume         =\tNone [cm^3]\n",
       " \tDepletable     =\tFalse\n",
       " \tS(a,b) Tables  \n",
       " \tNuclides       \n",
       " \tFe54           =\t0.05815775   [ao]\n",
       " \tFe56           =\t0.9129523    [ao]\n",
       " \tFe57           =\t0.02108405   [ao]\n",
       " \tFe58           =\t0.0028059    [ao]\n",
       " \tC12            =\t0.00494461   [ao]\n",
       " \tC13            =\t5.5389999999999997e-05 [ao],\n",
       " Material\n",
       " \tID             =\t4\n",
       " \tName           =\thelium\n",
       " \tTemperature    =\t523.15\n",
       " \tDensity        =\tNone [sum]\n",
       " \tVolume         =\tNone [cm^3]\n",
       " \tDepletable     =\tFalse\n",
       " \tS(a,b) Tables  \n",
       " \tNuclides       \n",
       " \tHe3            =\t1.9999999999999998e-17 [ao]\n",
       " \tHe4            =\t9.999979999999999e-12 [ao],\n",
       " Material\n",
       " \tID             =\t5\n",
       " \tName           =\tsodium\n",
       " \tTemperature    =\t523.15\n",
       " \tDensity        =\tNone [sum]\n",
       " \tVolume         =\tNone [cm^3]\n",
       " \tDepletable     =\tFalse\n",
       " \tS(a,b) Tables  \n",
       " \tNuclides       \n",
       " \tNa23           =\t0.0233       [ao]]"
      ]
     },
     "execution_count": 126,
     "metadata": {},
     "output_type": "execute_result"
    }
   ],
   "source": [
    "model.materials"
   ]
  },
  {
   "cell_type": "markdown",
   "id": "24c45ea6-dc6c-4bc0-bbd9-9b29f8754389",
   "metadata": {},
   "source": [
    "Now we'll gather information from the statepoint file about each score we applied to the tally. With multiple scores and materials, we'll use a Pandas data frame to view the results in a more coherent manner."
   ]
  },
  {
   "cell_type": "code",
   "execution_count": 127,
   "id": "de96b3de-ce74-461c-a9fe-7f99146bcbef",
   "metadata": {},
   "outputs": [],
   "source": [
    "material_filter = openmc.MaterialFilter(model.materials)"
   ]
  },
  {
   "cell_type": "code",
   "execution_count": 128,
   "id": "3928c0c3",
   "metadata": {},
   "outputs": [
    {
     "name": "stdout",
     "output_type": "stream",
     "text": [
      "MaterialFilter\n",
      "\tBins           =\t[2 3 4 5]\n",
      "\tID             =\t3\n",
      "\n"
     ]
    }
   ],
   "source": [
    "print(material_filter)"
   ]
  },
  {
   "cell_type": "markdown",
   "id": "159a649f-13ea-4ba7-ac0f-a4d6a02af4e7",
   "metadata": {},
   "source": [
    "Each score has three values -- one for each material in the model."
   ]
  },
  {
   "cell_type": "code",
   "execution_count": 135,
   "id": "ec5ef4bf-c3ba-44ec-82d9-a2fefe3f7d5e",
   "metadata": {},
   "outputs": [],
   "source": [
    "reaction_tally = openmc.Tally()\n",
    "reaction_tally.scores = ['fission', 'absorption', 'scatter']\n",
    "reaction_tally.filters = [material_filter]"
   ]
  },
  {
   "cell_type": "code",
   "execution_count": 136,
   "id": "0cd6d9bd",
   "metadata": {},
   "outputs": [
    {
     "name": "stdout",
     "output_type": "stream",
     "text": [
      "Tally\n",
      "\tID             =\t6\n",
      "\tName           =\t\n",
      "\tFilters        =\tMaterialFilter\n",
      "\tNuclides       =\t\n",
      "\tScores         =\t['fission', 'absorption', 'scatter']\n",
      "\tEstimator      =\tNone\n",
      "\tMultiply dens. =\tTrue\n"
     ]
    }
   ],
   "source": [
    "print(reaction_tally)"
   ]
  },
  {
   "cell_type": "code",
   "execution_count": 137,
   "id": "e6edf9d2",
   "metadata": {},
   "outputs": [],
   "source": [
    "model.tallies = openmc.Tallies([reaction_tally])"
   ]
  },
  {
   "cell_type": "code",
   "execution_count": 138,
   "id": "df8f482c",
   "metadata": {},
   "outputs": [
    {
     "name": "stdout",
     "output_type": "stream",
     "text": [
      "                                %%%%%%%%%%%%%%%\n",
      "                           %%%%%%%%%%%%%%%%%%%%%%%%\n",
      "                        %%%%%%%%%%%%%%%%%%%%%%%%%%%%%%\n",
      "                      %%%%%%%%%%%%%%%%%%%%%%%%%%%%%%%%%%\n",
      "                    %%%%%%%%%%%%%%%%%%%%%%%%%%%%%%%%%%%%%%\n",
      "                   %%%%%%%%%%%%%%%%%%%%%%%%%%%%%%%%%%%%%%%%\n",
      "                                    %%%%%%%%%%%%%%%%%%%%%%%%\n",
      "                                     %%%%%%%%%%%%%%%%%%%%%%%%\n",
      "                 ###############      %%%%%%%%%%%%%%%%%%%%%%%%\n",
      "                ##################     %%%%%%%%%%%%%%%%%%%%%%%\n",
      "                ###################     %%%%%%%%%%%%%%%%%%%%%%%\n",
      "                ####################     %%%%%%%%%%%%%%%%%%%%%%\n",
      "                #####################     %%%%%%%%%%%%%%%%%%%%%\n",
      "                ######################     %%%%%%%%%%%%%%%%%%%%\n",
      "                #######################     %%%%%%%%%%%%%%%%%%\n",
      "                 #######################     %%%%%%%%%%%%%%%%%\n",
      "                 ######################     %%%%%%%%%%%%%%%%%\n",
      "                  ####################     %%%%%%%%%%%%%%%%%\n",
      "                    #################     %%%%%%%%%%%%%%%%%\n",
      "                     ###############     %%%%%%%%%%%%%%%%\n",
      "                       ############     %%%%%%%%%%%%%%%\n",
      "                          ########     %%%%%%%%%%%%%%\n",
      "                                      %%%%%%%%%%%\n",
      "\n",
      "                 | The OpenMC Monte Carlo Code\n",
      "       Copyright | 2011-2023 MIT, UChicago Argonne LLC, and contributors\n",
      "         License | https://docs.openmc.org/en/latest/license.html\n",
      "         Version | 0.14.0\n",
      "        Git SHA1 | e1a8ee7794b441c992426f17fafe216391cbba83\n",
      "       Date/Time | 2024-01-20 21:17:33\n",
      "   MPI Processes | 1\n",
      "  OpenMP Threads | 4\n",
      "\n",
      " Reading model XML file './model.xml' ...\n",
      " WARNING: Other XML file input(s) are present. These files may be ignored in\n",
      "          favor of the ./model.xml file.\n",
      " Reading cross sections XML file...\n",
      " Reading U235 from\n",
      " /home/efra/simulations/openmc/data/endfb-viii.0-hdf5/neutron/U235.h5\n",
      " Reading U238 from\n",
      " /home/efra/simulations/openmc/data/endfb-viii.0-hdf5/neutron/U238.h5\n",
      " Reading O16 from\n",
      " /home/efra/simulations/openmc/data/endfb-viii.0-hdf5/neutron/O16.h5\n",
      " Reading Fe54 from\n",
      " /home/efra/simulations/openmc/data/endfb-viii.0-hdf5/neutron/Fe54.h5\n",
      " Reading Fe56 from\n",
      " /home/efra/simulations/openmc/data/endfb-viii.0-hdf5/neutron/Fe56.h5\n",
      " Reading Fe57 from\n",
      " /home/efra/simulations/openmc/data/endfb-viii.0-hdf5/neutron/Fe57.h5\n",
      " Reading Fe58 from\n",
      " /home/efra/simulations/openmc/data/endfb-viii.0-hdf5/neutron/Fe58.h5\n",
      " Reading C12 from\n",
      " /home/efra/simulations/openmc/data/endfb-viii.0-hdf5/neutron/C12.h5\n",
      " Reading C13 from\n",
      " /home/efra/simulations/openmc/data/endfb-viii.0-hdf5/neutron/C13.h5\n",
      " Reading He3 from\n",
      " /home/efra/simulations/openmc/data/endfb-viii.0-hdf5/neutron/He3.h5\n",
      " Reading He4 from\n",
      " /home/efra/simulations/openmc/data/endfb-viii.0-hdf5/neutron/He4.h5\n",
      " Reading Na23 from\n",
      " /home/efra/simulations/openmc/data/endfb-viii.0-hdf5/neutron/Na23.h5\n",
      " Minimum neutron data temperature: 600 K\n",
      " Maximum neutron data temperature: 600 K\n",
      " Preparing distributed cell instances...\n",
      " Writing summary.h5 file...\n",
      " Maximum neutron transport energy: 20000000 eV for C13\n",
      " Initializing source particles...\n",
      "\n",
      " ====================>     K EIGENVALUE SIMULATION     <====================\n",
      "\n",
      "  Bat./Gen.      k            Average k\n",
      "  =========   ========   ====================\n",
      "        1/1    1.53633\n",
      "        2/1    1.44169\n",
      "        3/1    1.43458\n",
      "        4/1    1.53455\n",
      "        5/1    1.54612\n",
      "        6/1    1.42422\n",
      "        7/1    1.51346\n",
      "        8/1    1.48804\n",
      "        9/1    1.47048\n",
      "       10/1    1.49935\n",
      "       11/1    1.48970\n",
      "       12/1    1.50958    1.49964 +/- 0.00994\n",
      "       13/1    1.47902    1.49277 +/- 0.00895\n",
      "       14/1    1.45278    1.48277 +/- 0.01183\n",
      "       15/1    1.44915    1.47605 +/- 0.01137\n",
      "       16/1    1.47640    1.47611 +/- 0.00928\n",
      "       17/1    1.43383    1.47007 +/- 0.00990\n",
      "       18/1    1.42573    1.46453 +/- 0.01021\n",
      "       19/1    1.49513    1.46793 +/- 0.00962\n",
      "       20/1    1.39629    1.46076 +/- 0.01120\n",
      "       21/1    1.55055    1.46893 +/- 0.01301\n",
      "       22/1    1.42773    1.46549 +/- 0.01236\n",
      "       23/1    1.50782    1.46875 +/- 0.01183\n",
      "       24/1    1.39622    1.46357 +/- 0.01211\n",
      "       25/1    1.49835    1.46589 +/- 0.01151\n",
      "       26/1    1.54752    1.47099 +/- 0.01192\n",
      "       27/1    1.42925    1.46853 +/- 0.01146\n",
      "       28/1    1.58032    1.47474 +/- 0.01246\n",
      "       29/1    1.50242    1.47620 +/- 0.01188\n",
      "       30/1    1.42835    1.47381 +/- 0.01152\n",
      "       31/1    1.45017    1.47268 +/- 0.01102\n",
      "       32/1    1.52821    1.47521 +/- 0.01080\n",
      "       33/1    1.45726    1.47443 +/- 0.01035\n",
      "       34/1    1.48893    1.47503 +/- 0.00993\n",
      "       35/1    1.53102    1.47727 +/- 0.00978\n",
      "       36/1    1.45712    1.47650 +/- 0.00943\n",
      "       37/1    1.48581    1.47684 +/- 0.00908\n",
      "       38/1    1.45221    1.47596 +/- 0.00880\n",
      "       39/1    1.42800    1.47431 +/- 0.00865\n",
      "       40/1    1.51245    1.47558 +/- 0.00845\n",
      "       41/1    1.47027    1.47541 +/- 0.00817\n",
      "       42/1    1.47660    1.47544 +/- 0.00791\n",
      "       43/1    1.48194    1.47564 +/- 0.00767\n",
      "       44/1    1.45332    1.47498 +/- 0.00747\n",
      "       45/1    1.47655    1.47503 +/- 0.00726\n",
      "       46/1    1.47640    1.47507 +/- 0.00705\n",
      "       47/1    1.56539    1.47751 +/- 0.00728\n",
      "       48/1    1.39444    1.47532 +/- 0.00742\n",
      "       49/1    1.48563    1.47559 +/- 0.00723\n",
      "       50/1    1.45808    1.47515 +/- 0.00706\n",
      " Creating state point statepoint.50.h5...\n",
      "\n",
      " =======================>     TIMING STATISTICS     <=======================\n",
      "\n",
      " Total time for initialization     = 1.7271e+01 seconds\n",
      "   Reading cross sections          = 1.7147e+01 seconds\n",
      " Total time in simulation          = 4.0126e+01 seconds\n",
      "   Time in transport only          = 3.9770e+01 seconds\n",
      "   Time in inactive batches        = 5.8827e+00 seconds\n",
      "   Time in active batches          = 3.4243e+01 seconds\n",
      "   Time synchronizing fission bank = 2.2935e-02 seconds\n",
      "     Sampling source sites         = 1.6301e-02 seconds\n",
      "     SEND/RECV source sites        = 5.9261e-03 seconds\n",
      "   Time accumulating tallies       = 1.9873e-01 seconds\n",
      "   Time writing statepoints        = 9.8653e-02 seconds\n",
      " Total time for finalization       = 1.1169e-03 seconds\n",
      " Total time elapsed                = 5.7425e+01 seconds\n",
      " Calculation Rate (inactive)       = 1699.89 particles/second\n",
      " Calculation Rate (active)         = 1168.13 particles/second\n",
      "\n",
      " ============================>     RESULTS     <============================\n",
      "\n",
      " k-effective (Collision)     = 1.47681 +/- 0.00667\n",
      " k-effective (Track-length)  = 1.47515 +/- 0.00706\n",
      " k-effective (Absorption)    = 1.47836 +/- 0.00536\n",
      " Combined k-effective        = 1.47850 +/- 0.00358\n",
      " Leakage Fraction            = 0.00000 +/- 0.00000\n",
      "\n"
     ]
    }
   ],
   "source": [
    "statepoint_file = model.run()"
   ]
  },
  {
   "cell_type": "code",
   "execution_count": 139,
   "id": "0d224c16",
   "metadata": {},
   "outputs": [],
   "source": [
    "with openmc.StatePoint(statepoint_file) as sp:\n",
    "    reaction_tally_out = sp.get_tally(id=reaction_tally.id)"
   ]
  },
  {
   "cell_type": "code",
   "execution_count": 140,
   "id": "704890e6",
   "metadata": {},
   "outputs": [
    {
     "name": "stdout",
     "output_type": "stream",
     "text": [
      "Tally\n",
      "\tID             =\t6\n",
      "\tName           =\t\n",
      "\tFilters        =\tMaterialFilter\n",
      "\tNuclides       =\ttotal\n",
      "\tScores         =\t['fission', 'absorption', 'scatter']\n",
      "\tEstimator      =\ttracklength\n",
      "\tMultiply dens. =\tTrue\n"
     ]
    }
   ],
   "source": [
    "print(reaction_tally_out)"
   ]
  },
  {
   "cell_type": "code",
   "execution_count": 141,
   "id": "05eb02db",
   "metadata": {},
   "outputs": [],
   "source": [
    "df = reaction_tally_out.get_pandas_dataframe()"
   ]
  },
  {
   "cell_type": "code",
   "execution_count": 142,
   "id": "c836ec0e",
   "metadata": {},
   "outputs": [
    {
     "data": {
      "text/html": [
       "<div>\n",
       "<style scoped>\n",
       "    .dataframe tbody tr th:only-of-type {\n",
       "        vertical-align: middle;\n",
       "    }\n",
       "\n",
       "    .dataframe tbody tr th {\n",
       "        vertical-align: top;\n",
       "    }\n",
       "\n",
       "    .dataframe thead th {\n",
       "        text-align: right;\n",
       "    }\n",
       "</style>\n",
       "<table border=\"1\" class=\"dataframe\">\n",
       "  <thead>\n",
       "    <tr style=\"text-align: right;\">\n",
       "      <th></th>\n",
       "      <th>material</th>\n",
       "      <th>nuclide</th>\n",
       "      <th>score</th>\n",
       "      <th>mean</th>\n",
       "      <th>std. dev.</th>\n",
       "    </tr>\n",
       "  </thead>\n",
       "  <tbody>\n",
       "    <tr>\n",
       "      <th>0</th>\n",
       "      <td>2</td>\n",
       "      <td>total</td>\n",
       "      <td>fission</td>\n",
       "      <td>5.847505e-01</td>\n",
       "      <td>2.842214e-03</td>\n",
       "    </tr>\n",
       "    <tr>\n",
       "      <th>1</th>\n",
       "      <td>2</td>\n",
       "      <td>total</td>\n",
       "      <td>absorption</td>\n",
       "      <td>1.001163e+00</td>\n",
       "      <td>5.713473e-03</td>\n",
       "    </tr>\n",
       "    <tr>\n",
       "      <th>2</th>\n",
       "      <td>2</td>\n",
       "      <td>total</td>\n",
       "      <td>scatter</td>\n",
       "      <td>2.255117e+01</td>\n",
       "      <td>1.158613e-01</td>\n",
       "    </tr>\n",
       "    <tr>\n",
       "      <th>3</th>\n",
       "      <td>3</td>\n",
       "      <td>total</td>\n",
       "      <td>fission</td>\n",
       "      <td>0.000000e+00</td>\n",
       "      <td>0.000000e+00</td>\n",
       "    </tr>\n",
       "    <tr>\n",
       "      <th>4</th>\n",
       "      <td>3</td>\n",
       "      <td>total</td>\n",
       "      <td>absorption</td>\n",
       "      <td>4.176829e-04</td>\n",
       "      <td>4.335544e-06</td>\n",
       "    </tr>\n",
       "    <tr>\n",
       "      <th>5</th>\n",
       "      <td>3</td>\n",
       "      <td>total</td>\n",
       "      <td>scatter</td>\n",
       "      <td>2.349071e-01</td>\n",
       "      <td>1.482899e-03</td>\n",
       "    </tr>\n",
       "    <tr>\n",
       "      <th>6</th>\n",
       "      <td>4</td>\n",
       "      <td>total</td>\n",
       "      <td>fission</td>\n",
       "      <td>0.000000e+00</td>\n",
       "      <td>0.000000e+00</td>\n",
       "    </tr>\n",
       "    <tr>\n",
       "      <th>7</th>\n",
       "      <td>4</td>\n",
       "      <td>total</td>\n",
       "      <td>absorption</td>\n",
       "      <td>2.616341e-16</td>\n",
       "      <td>1.913695e-18</td>\n",
       "    </tr>\n",
       "    <tr>\n",
       "      <th>8</th>\n",
       "      <td>4</td>\n",
       "      <td>total</td>\n",
       "      <td>scatter</td>\n",
       "      <td>1.394756e-10</td>\n",
       "      <td>5.507506e-13</td>\n",
       "    </tr>\n",
       "    <tr>\n",
       "      <th>9</th>\n",
       "      <td>5</td>\n",
       "      <td>total</td>\n",
       "      <td>fission</td>\n",
       "      <td>0.000000e+00</td>\n",
       "      <td>0.000000e+00</td>\n",
       "    </tr>\n",
       "    <tr>\n",
       "      <th>10</th>\n",
       "      <td>5</td>\n",
       "      <td>total</td>\n",
       "      <td>absorption</td>\n",
       "      <td>7.657759e-04</td>\n",
       "      <td>1.534163e-05</td>\n",
       "    </tr>\n",
       "    <tr>\n",
       "      <th>11</th>\n",
       "      <td>5</td>\n",
       "      <td>total</td>\n",
       "      <td>scatter</td>\n",
       "      <td>3.165812e+00</td>\n",
       "      <td>1.499117e-02</td>\n",
       "    </tr>\n",
       "  </tbody>\n",
       "</table>\n",
       "</div>"
      ],
      "text/plain": [
       "    material nuclide       score     mean  std. dev.\n",
       "0          2   total     fission 5.85e-01   2.84e-03\n",
       "1          2   total  absorption 1.00e+00   5.71e-03\n",
       "2          2   total     scatter 2.26e+01   1.16e-01\n",
       "3          3   total     fission 0.00e+00   0.00e+00\n",
       "4          3   total  absorption 4.18e-04   4.34e-06\n",
       "5          3   total     scatter 2.35e-01   1.48e-03\n",
       "6          4   total     fission 0.00e+00   0.00e+00\n",
       "7          4   total  absorption 2.62e-16   1.91e-18\n",
       "8          4   total     scatter 1.39e-10   5.51e-13\n",
       "9          5   total     fission 0.00e+00   0.00e+00\n",
       "10         5   total  absorption 7.66e-04   1.53e-05\n",
       "11         5   total     scatter 3.17e+00   1.50e-02"
      ]
     },
     "execution_count": 142,
     "metadata": {},
     "output_type": "execute_result"
    }
   ],
   "source": [
    "df "
   ]
  },
  {
   "cell_type": "code",
   "execution_count": 143,
   "id": "d8c0c762",
   "metadata": {},
   "outputs": [],
   "source": [
    "df['normalized-mean'] = df['mean'] * neutron_source"
   ]
  },
  {
   "cell_type": "code",
   "execution_count": 144,
   "id": "bbf2d72e",
   "metadata": {},
   "outputs": [
    {
     "data": {
      "text/html": [
       "<div>\n",
       "<style scoped>\n",
       "    .dataframe tbody tr th:only-of-type {\n",
       "        vertical-align: middle;\n",
       "    }\n",
       "\n",
       "    .dataframe tbody tr th {\n",
       "        vertical-align: top;\n",
       "    }\n",
       "\n",
       "    .dataframe thead th {\n",
       "        text-align: right;\n",
       "    }\n",
       "</style>\n",
       "<table border=\"1\" class=\"dataframe\">\n",
       "  <thead>\n",
       "    <tr style=\"text-align: right;\">\n",
       "      <th></th>\n",
       "      <th>material</th>\n",
       "      <th>nuclide</th>\n",
       "      <th>score</th>\n",
       "      <th>mean</th>\n",
       "      <th>std. dev.</th>\n",
       "      <th>normalized-mean</th>\n",
       "    </tr>\n",
       "  </thead>\n",
       "  <tbody>\n",
       "    <tr>\n",
       "      <th>0</th>\n",
       "      <td>2</td>\n",
       "      <td>total</td>\n",
       "      <td>fission</td>\n",
       "      <td>5.847505e-01</td>\n",
       "      <td>2.842214e-03</td>\n",
       "      <td>2.147582e+12</td>\n",
       "    </tr>\n",
       "    <tr>\n",
       "      <th>1</th>\n",
       "      <td>2</td>\n",
       "      <td>total</td>\n",
       "      <td>absorption</td>\n",
       "      <td>1.001163e+00</td>\n",
       "      <td>5.713473e-03</td>\n",
       "      <td>3.676918e+12</td>\n",
       "    </tr>\n",
       "    <tr>\n",
       "      <th>2</th>\n",
       "      <td>2</td>\n",
       "      <td>total</td>\n",
       "      <td>scatter</td>\n",
       "      <td>2.255117e+01</td>\n",
       "      <td>1.158613e-01</td>\n",
       "      <td>8.282247e+13</td>\n",
       "    </tr>\n",
       "    <tr>\n",
       "      <th>3</th>\n",
       "      <td>3</td>\n",
       "      <td>total</td>\n",
       "      <td>fission</td>\n",
       "      <td>0.000000e+00</td>\n",
       "      <td>0.000000e+00</td>\n",
       "      <td>0.000000e+00</td>\n",
       "    </tr>\n",
       "    <tr>\n",
       "      <th>4</th>\n",
       "      <td>3</td>\n",
       "      <td>total</td>\n",
       "      <td>absorption</td>\n",
       "      <td>4.176829e-04</td>\n",
       "      <td>4.335544e-06</td>\n",
       "      <td>1.534002e+09</td>\n",
       "    </tr>\n",
       "    <tr>\n",
       "      <th>5</th>\n",
       "      <td>3</td>\n",
       "      <td>total</td>\n",
       "      <td>scatter</td>\n",
       "      <td>2.349071e-01</td>\n",
       "      <td>1.482899e-03</td>\n",
       "      <td>8.627307e+11</td>\n",
       "    </tr>\n",
       "    <tr>\n",
       "      <th>6</th>\n",
       "      <td>4</td>\n",
       "      <td>total</td>\n",
       "      <td>fission</td>\n",
       "      <td>0.000000e+00</td>\n",
       "      <td>0.000000e+00</td>\n",
       "      <td>0.000000e+00</td>\n",
       "    </tr>\n",
       "    <tr>\n",
       "      <th>7</th>\n",
       "      <td>4</td>\n",
       "      <td>total</td>\n",
       "      <td>absorption</td>\n",
       "      <td>2.616341e-16</td>\n",
       "      <td>1.913695e-18</td>\n",
       "      <td>9.608899e-04</td>\n",
       "    </tr>\n",
       "    <tr>\n",
       "      <th>8</th>\n",
       "      <td>4</td>\n",
       "      <td>total</td>\n",
       "      <td>scatter</td>\n",
       "      <td>1.394756e-10</td>\n",
       "      <td>5.507506e-13</td>\n",
       "      <td>5.122445e+02</td>\n",
       "    </tr>\n",
       "    <tr>\n",
       "      <th>9</th>\n",
       "      <td>5</td>\n",
       "      <td>total</td>\n",
       "      <td>fission</td>\n",
       "      <td>0.000000e+00</td>\n",
       "      <td>0.000000e+00</td>\n",
       "      <td>0.000000e+00</td>\n",
       "    </tr>\n",
       "    <tr>\n",
       "      <th>10</th>\n",
       "      <td>5</td>\n",
       "      <td>total</td>\n",
       "      <td>absorption</td>\n",
       "      <td>7.657759e-04</td>\n",
       "      <td>1.534163e-05</td>\n",
       "      <td>2.812425e+09</td>\n",
       "    </tr>\n",
       "    <tr>\n",
       "      <th>11</th>\n",
       "      <td>5</td>\n",
       "      <td>total</td>\n",
       "      <td>scatter</td>\n",
       "      <td>3.165812e+00</td>\n",
       "      <td>1.499117e-02</td>\n",
       "      <td>1.162691e+13</td>\n",
       "    </tr>\n",
       "  </tbody>\n",
       "</table>\n",
       "</div>"
      ],
      "text/plain": [
       "    material nuclide       score     mean  std. dev.  normalized-mean\n",
       "0          2   total     fission 5.85e-01   2.84e-03         2.15e+12\n",
       "1          2   total  absorption 1.00e+00   5.71e-03         3.68e+12\n",
       "2          2   total     scatter 2.26e+01   1.16e-01         8.28e+13\n",
       "3          3   total     fission 0.00e+00   0.00e+00         0.00e+00\n",
       "4          3   total  absorption 4.18e-04   4.34e-06         1.53e+09\n",
       "5          3   total     scatter 2.35e-01   1.48e-03         8.63e+11\n",
       "6          4   total     fission 0.00e+00   0.00e+00         0.00e+00\n",
       "7          4   total  absorption 2.62e-16   1.91e-18         9.61e-04\n",
       "8          4   total     scatter 1.39e-10   5.51e-13         5.12e+02\n",
       "9          5   total     fission 0.00e+00   0.00e+00         0.00e+00\n",
       "10         5   total  absorption 7.66e-04   1.53e-05         2.81e+09\n",
       "11         5   total     scatter 3.17e+00   1.50e-02         1.16e+13"
      ]
     },
     "execution_count": 144,
     "metadata": {},
     "output_type": "execute_result"
    }
   ],
   "source": [
    "df"
   ]
  },
  {
   "cell_type": "code",
   "execution_count": 147,
   "id": "0dd16b43",
   "metadata": {},
   "outputs": [],
   "source": [
    "fission_df = df[df['score'] == 'fission']"
   ]
  },
  {
   "cell_type": "code",
   "execution_count": 148,
   "id": "fbe5ea6c",
   "metadata": {},
   "outputs": [
    {
     "data": {
      "text/html": [
       "<div>\n",
       "<style scoped>\n",
       "    .dataframe tbody tr th:only-of-type {\n",
       "        vertical-align: middle;\n",
       "    }\n",
       "\n",
       "    .dataframe tbody tr th {\n",
       "        vertical-align: top;\n",
       "    }\n",
       "\n",
       "    .dataframe thead th {\n",
       "        text-align: right;\n",
       "    }\n",
       "</style>\n",
       "<table border=\"1\" class=\"dataframe\">\n",
       "  <thead>\n",
       "    <tr style=\"text-align: right;\">\n",
       "      <th></th>\n",
       "      <th>material</th>\n",
       "      <th>nuclide</th>\n",
       "      <th>score</th>\n",
       "      <th>mean</th>\n",
       "      <th>std. dev.</th>\n",
       "      <th>normalized-mean</th>\n",
       "    </tr>\n",
       "  </thead>\n",
       "  <tbody>\n",
       "    <tr>\n",
       "      <th>0</th>\n",
       "      <td>2</td>\n",
       "      <td>total</td>\n",
       "      <td>fission</td>\n",
       "      <td>0.584751</td>\n",
       "      <td>0.002842</td>\n",
       "      <td>2.147582e+12</td>\n",
       "    </tr>\n",
       "    <tr>\n",
       "      <th>3</th>\n",
       "      <td>3</td>\n",
       "      <td>total</td>\n",
       "      <td>fission</td>\n",
       "      <td>0.000000</td>\n",
       "      <td>0.000000</td>\n",
       "      <td>0.000000e+00</td>\n",
       "    </tr>\n",
       "    <tr>\n",
       "      <th>6</th>\n",
       "      <td>4</td>\n",
       "      <td>total</td>\n",
       "      <td>fission</td>\n",
       "      <td>0.000000</td>\n",
       "      <td>0.000000</td>\n",
       "      <td>0.000000e+00</td>\n",
       "    </tr>\n",
       "    <tr>\n",
       "      <th>9</th>\n",
       "      <td>5</td>\n",
       "      <td>total</td>\n",
       "      <td>fission</td>\n",
       "      <td>0.000000</td>\n",
       "      <td>0.000000</td>\n",
       "      <td>0.000000e+00</td>\n",
       "    </tr>\n",
       "  </tbody>\n",
       "</table>\n",
       "</div>"
      ],
      "text/plain": [
       "   material nuclide    score      mean  std. dev.  normalized-mean\n",
       "0         2   total  fission  0.584751   0.002842     2.147582e+12\n",
       "3         3   total  fission  0.000000   0.000000     0.000000e+00\n",
       "6         4   total  fission  0.000000   0.000000     0.000000e+00\n",
       "9         5   total  fission  0.000000   0.000000     0.000000e+00"
      ]
     },
     "execution_count": 148,
     "metadata": {},
     "output_type": "execute_result"
    }
   ],
   "source": [
    "fission_df"
   ]
  },
  {
   "cell_type": "code",
   "execution_count": 149,
   "id": "ee53d0b3",
   "metadata": {},
   "outputs": [
    {
     "data": {
      "text/plain": [
       "<Axes: xlabel='material'>"
      ]
     },
     "execution_count": 149,
     "metadata": {},
     "output_type": "execute_result"
    },
    {
     "data": {
      "image/png": "[encoded data removed]",
      "text/plain": [
       "<Figure size 640x480 with 1 Axes>"
      ]
     },
     "metadata": {},
     "output_type": "display_data"
    }
   ],
   "source": [
    "fission_df.plot('material', 'normalized-mean', kind='bar', label='fission / s')"
   ]
  },
  {
   "cell_type": "code",
   "execution_count": 150,
   "id": "49faaab8",
   "metadata": {},
   "outputs": [],
   "source": [
    "scatter_df = df[df['score'] == 'scatter']"
   ]
  },
  {
   "cell_type": "code",
   "execution_count": 151,
   "id": "c0069b98",
   "metadata": {},
   "outputs": [
    {
     "data": {
      "text/plain": [
       "<Axes: xlabel='material'>"
      ]
     },
     "execution_count": 151,
     "metadata": {},
     "output_type": "execute_result"
    },
    {
     "data": {
      "image/png": "[encoded data removed]",
      "text/plain": [
       "<Figure size 640x480 with 1 Axes>"
      ]
     },
     "metadata": {},
     "output_type": "display_data"
    }
   ],
   "source": [
    "scatter_df.plot('material', 'normalized-mean', kind='bar', label='fission / s')"
   ]
  },
  {
   "cell_type": "markdown",
   "id": "37be1638-d09e-4625-a9c2-40b6a5c813c7",
   "metadata": {},
   "source": [
    "First, we'll add a new column to the data frame with normalized results."
   ]
  },
  {
   "cell_type": "code",
   "execution_count": null,
   "id": "eb59895b-6988-4aba-b3f1-295226172aec",
   "metadata": {},
   "outputs": [],
   "source": []
  },
  {
   "cell_type": "markdown",
   "id": "dad16d92-4c2c-48da-8e0a-dd0f1d3e83ae",
   "metadata": {},
   "source": [
    "We'll add a new entry in the dataframe for our material names to make plotting easier."
   ]
  },
  {
   "cell_type": "code",
   "execution_count": null,
   "id": "eb79cc84-fae4-44b1-92c3-9b6cf605ba93",
   "metadata": {},
   "outputs": [],
   "source": []
  },
  {
   "cell_type": "markdown",
   "id": "fcc9de35-ad94-4344-a0c3-b8ecccf5da5c",
   "metadata": {},
   "source": [
    "---"
   ]
  },
  {
   "cell_type": "markdown",
   "id": "2abb7ee1-ecbb-484d-984a-7a19d5a7cc4b",
   "metadata": {},
   "source": [
    "# Universes\n",
    "\n",
    "A universe is a collection of cells that can be used as a repeatable unit in the geometry. At a minimum, there must be one \"root\" universe (say, named `root`), which gets passed to `openmc.Geometry(root)`. But you can also use universes to repeat a collection of cells multiple times throughout a geometry. Here, we will explore some basic features of universes.\n",
    "\n",
    "We'll start by making a universe which looks similar to the pincell we built earlier - say, a cylinder of UO2 enclosed by an infinite region of water. First, we set up our materials and create our geometry."
   ]
  },
  {
   "cell_type": "markdown",
   "id": "14d5fa36-7449-47b2-9352-217c120ade4b",
   "metadata": {},
   "source": [
    "First, let's make a simplified pincell model to explore how universes work."
   ]
  },
  {
   "cell_type": "code",
   "execution_count": 152,
   "id": "acbd993a-13d6-4ef1-9d8d-dd5f994246da",
   "metadata": {},
   "outputs": [],
   "source": [
    "outer_surface = openmc.ZCylinder(r=1.0)\n",
    "inside_cyl = -outer_surface\n",
    "\n",
    "pincell = openmc.Cell(region=inside_cyl, fill=uo2)\n",
    "outside = openmc.Cell(region=+outer_surface, fill=sodium)"
   ]
  },
  {
   "cell_type": "code",
   "execution_count": 153,
   "id": "c3cfe9f0",
   "metadata": {},
   "outputs": [],
   "source": [
    "temp_universe = openmc.Universe()\n",
    "temp_universe.add_cells([pincell, outside])"
   ]
  },
  {
   "cell_type": "code",
   "execution_count": 156,
   "id": "b67386a9",
   "metadata": {},
   "outputs": [
    {
     "data": {
      "text/plain": [
       "<Axes: xlabel='x [cm]', ylabel='y [cm]'>"
      ]
     },
     "execution_count": 156,
     "metadata": {},
     "output_type": "execute_result"
    },
    {
     "data": {
      "image/png": "[encoded data removed]",
      "text/plain": [
       "<Figure size 258.065x259.74 with 1 Axes>"
      ]
     },
     "metadata": {},
     "output_type": "display_data"
    }
   ],
   "source": [
    "temp_universe.plot(width=(50.0, 50.0))"
   ]
  },
  {
   "cell_type": "code",
   "execution_count": 157,
   "id": "8f984d41",
   "metadata": {},
   "outputs": [],
   "source": [
    "big_cylinder = openmc.ZCylinder(r=5.0)\n",
    "big_cell = openmc.Cell(region= -big_cylinder)\n",
    "big_cell.fill = temp_universe"
   ]
  },
  {
   "cell_type": "code",
   "execution_count": 158,
   "id": "c5c0516d",
   "metadata": {},
   "outputs": [],
   "source": [
    "big_universe = openmc.Universe()\n",
    "big_universe.add_cell(big_cell)"
   ]
  },
  {
   "cell_type": "code",
   "execution_count": 159,
   "id": "2f4498f3",
   "metadata": {},
   "outputs": [
    {
     "data": {
      "text/plain": [
       "<Axes: xlabel='x [cm]', ylabel='y [cm]'>"
      ]
     },
     "execution_count": 159,
     "metadata": {},
     "output_type": "execute_result"
    },
    {
     "data": {
      "image/png": "[encoded data removed]",
      "text/plain": [
       "<Figure size 258.065x259.74 with 1 Axes>"
      ]
     },
     "metadata": {},
     "output_type": "display_data"
    }
   ],
   "source": [
    "big_universe.plot()"
   ]
  },
  {
   "cell_type": "code",
   "execution_count": 160,
   "id": "38525b0a",
   "metadata": {},
   "outputs": [],
   "source": [
    "outer_surface.x0 = 2.5\n",
    "outer_surface.y0 = 0.5"
   ]
  },
  {
   "cell_type": "code",
   "execution_count": 161,
   "id": "8cc117ad",
   "metadata": {},
   "outputs": [
    {
     "data": {
      "text/plain": [
       "<Axes: xlabel='x [cm]', ylabel='y [cm]'>"
      ]
     },
     "execution_count": 161,
     "metadata": {},
     "output_type": "execute_result"
    },
    {
     "data": {
      "image/png": "[encoded data removed]",
      "text/plain": [
       "<Figure size 258.065x259.74 with 1 Axes>"
      ]
     },
     "metadata": {},
     "output_type": "display_data"
    }
   ],
   "source": [
    "big_universe.plot()"
   ]
  },
  {
   "cell_type": "code",
   "execution_count": 168,
   "id": "10244e75",
   "metadata": {},
   "outputs": [],
   "source": [
    "big_cell.translation = [0, 0, 0]"
   ]
  },
  {
   "cell_type": "code",
   "execution_count": 169,
   "id": "ed7a7d0c",
   "metadata": {},
   "outputs": [
    {
     "data": {
      "text/plain": [
       "<Axes: xlabel='x [cm]', ylabel='y [cm]'>"
      ]
     },
     "execution_count": 169,
     "metadata": {},
     "output_type": "execute_result"
    },
    {
     "data": {
      "image/png": "[encoded data removed]",
      "text/plain": [
       "<Figure size 258.065x259.74 with 1 Axes>"
      ]
     },
     "metadata": {},
     "output_type": "display_data"
    }
   ],
   "source": [
    "big_universe.plot()"
   ]
  },
  {
   "cell_type": "code",
   "execution_count": 170,
   "id": "9230d2b2",
   "metadata": {},
   "outputs": [],
   "source": [
    "big_cell.rotation = [0, 0, 90]"
   ]
  },
  {
   "cell_type": "code",
   "execution_count": 171,
   "id": "05058d03",
   "metadata": {},
   "outputs": [
    {
     "data": {
      "text/plain": [
       "<Axes: xlabel='x [cm]', ylabel='y [cm]'>"
      ]
     },
     "execution_count": 171,
     "metadata": {},
     "output_type": "execute_result"
    },
    {
     "data": {
      "image/png": "[encoded data removed]",
      "text/plain": [
       "<Figure size 258.065x259.74 with 1 Axes>"
      ]
     },
     "metadata": {},
     "output_type": "display_data"
    }
   ],
   "source": [
    "big_universe.plot()"
   ]
  },
  {
   "cell_type": "markdown",
   "id": "8e6bb4b6-56fc-479c-97a4-511ff6541228",
   "metadata": {},
   "source": [
    "We have created a universe containing a pin, enclosed in an infinite medium of water. Now let's suppose that I want to fill this universe into an enclosing cell, a cylinder of radius 5 cm. Let's first create this cylinder, and then we will fill it with our `universe`."
   ]
  },
  {
   "cell_type": "code",
   "execution_count": null,
   "id": "383e3426-e503-4281-82c5-ef205f98dd12",
   "metadata": {},
   "outputs": [],
   "source": []
  },
  {
   "cell_type": "markdown",
   "id": "062777d8-3d0b-4ebb-972b-f58045d89f30",
   "metadata": {},
   "source": [
    "Let's take a look at our geometry. In order to visualize at this stage, we need to create a universe from our `big_cell`."
   ]
  },
  {
   "cell_type": "code",
   "execution_count": null,
   "id": "9bdd1733-2b11-486a-9e98-befeb0ac6c23",
   "metadata": {},
   "outputs": [],
   "source": []
  },
  {
   "cell_type": "markdown",
   "id": "8256ba98-f7d1-489d-8459-50240a7c9d5b",
   "metadata": {},
   "source": [
    "We can see that our `big_cell`, the large cylinder, has been filled with the `universe` we declared earlier. Let's increase the complexity a bit to understand how this filling works. What if the cylinder of UO2 in our `universe` is not located at the origin, but is instead shifted to a different position?"
   ]
  },
  {
   "cell_type": "code",
   "execution_count": null,
   "id": "d7e95aed-d4a0-4342-85d2-9e6f52f05828",
   "metadata": {},
   "outputs": [],
   "source": []
  },
  {
   "cell_type": "markdown",
   "id": "cdd198c1-1cc3-4aba-a1b2-4cf5532c2d5c",
   "metadata": {},
   "source": [
    "We see that when we fill a universe inside of another cell, that there's (by default) no transformation of coordinates. You can shift the position of the universe filling a cell with the `Cell.translation` attribute. There are similar adjustments you can make, like rotations."
   ]
  },
  {
   "cell_type": "code",
   "execution_count": null,
   "id": "d29f4198-20a4-4a1f-b103-19951cb41842",
   "metadata": {},
   "outputs": [],
   "source": []
  },
  {
   "cell_type": "markdown",
   "id": "b391650f-c531-42ef-b320-a0ea50149961",
   "metadata": {},
   "source": [
    "# Lattices\n",
    "\n",
    "Lattices are a convenient way to (i) repeat a universe multiple times in space, while (ii) automatically translating that universe's origin to different positions in space."
   ]
  },
  {
   "cell_type": "markdown",
   "id": "b400801a-b505-4a37-9442-1490a95fe11b",
   "metadata": {},
   "source": [
    "In this exercise, we'll build two lattices, one rectangular and one hexagonal, using the CEFR pincell."
   ]
  },
  {
   "cell_type": "markdown",
   "id": "c28128f8-9962-4549-81fe-48421f070e00",
   "metadata": {},
   "source": [
    "Later in this example, we will make a bunch of geometry plots.  By default, every region is colored randomly and the results are Now that we know our materials, let's define a \"color specification\" to use when plotting our geometry."
   ]
  },
  {
   "cell_type": "code",
   "execution_count": 172,
   "id": "20a49253-a6e7-4919-b44a-dfe1d33a6662",
   "metadata": {},
   "outputs": [],
   "source": [
    "mat_colors = {\n",
    "    uo2 : 'red',\n",
    "    steel : 'grey',\n",
    "    he4 : (249, 249, 249),\n",
    "    sodium : 'lightblue'\n",
    "}"
   ]
  },
  {
   "cell_type": "markdown",
   "id": "a0347fb7-b33d-421b-bc7e-6f4c93a7904e",
   "metadata": {},
   "source": [
    "### An alternative approach to building a pincell universe\n",
    "\n",
    "Initally, we built the CEFR pincell model by specifying each surface manually. There are many convenience functions in OpenMC that make this process even easier."
   ]
  },
  {
   "cell_type": "code",
   "execution_count": 173,
   "id": "502847d7-06a6-483c-b99b-c1774aa5fb90",
   "metadata": {},
   "outputs": [],
   "source": [
    "pin_radii = [0.08020, 0.25565, 0.27112, 0.30499]\n",
    "pin_surfaces = [openmc.ZCylinder(r=radius) for radius in pin_radii]"
   ]
  },
  {
   "cell_type": "markdown",
   "id": "88f18c45-2d3f-4dbf-8797-703f64b375f7",
   "metadata": {},
   "source": [
    "---"
   ]
  },
  {
   "cell_type": "code",
   "execution_count": 174,
   "id": "9879fbe0",
   "metadata": {},
   "outputs": [
    {
     "name": "stdout",
     "output_type": "stream",
     "text": [
      "[Surface\n",
      "\tID                 =\t13\n",
      "\tName               =\t\n",
      "\tType               =\tz-cylinder\n",
      "\tBoundary           =\ttransmission\n",
      "\tCoefficients       \n",
      "x0                  =\t0.0\n",
      "y0                  =\t0.0\n",
      "r                   =\t0.0802\n",
      ", Surface\n",
      "\tID                 =\t14\n",
      "\tName               =\t\n",
      "\tType               =\tz-cylinder\n",
      "\tBoundary           =\ttransmission\n",
      "\tCoefficients       \n",
      "x0                  =\t0.0\n",
      "y0                  =\t0.0\n",
      "r                   =\t0.25565\n",
      ", Surface\n",
      "\tID                 =\t15\n",
      "\tName               =\t\n",
      "\tType               =\tz-cylinder\n",
      "\tBoundary           =\ttransmission\n",
      "\tCoefficients       \n",
      "x0                  =\t0.0\n",
      "y0                  =\t0.0\n",
      "r                   =\t0.27112\n",
      ", Surface\n",
      "\tID                 =\t16\n",
      "\tName               =\t\n",
      "\tType               =\tz-cylinder\n",
      "\tBoundary           =\ttransmission\n",
      "\tCoefficients       \n",
      "x0                  =\t0.0\n",
      "y0                  =\t0.0\n",
      "r                   =\t0.30499\n",
      "]\n"
     ]
    }
   ],
   "source": [
    "print(pin_surfaces)"
   ]
  },
  {
   "cell_type": "code",
   "execution_count": 175,
   "id": "a8889404",
   "metadata": {},
   "outputs": [],
   "source": [
    "pin_materials = [he4, uo2, he4, steel, sodium]"
   ]
  },
  {
   "cell_type": "code",
   "execution_count": 176,
   "id": "c9586ac2",
   "metadata": {},
   "outputs": [
    {
     "name": "stdout",
     "output_type": "stream",
     "text": [
      "Help on function pin in module openmc.model.funcs:\n",
      "\n",
      "pin(surfaces, items, subdivisions=None, divide_vols=True, **kwargs)\n",
      "    Convenience function for building a fuel pin\n",
      "\n",
      "    Parameters\n",
      "    ----------\n",
      "    surfaces : iterable of :class:`openmc.Cylinder`\n",
      "        Cylinders used to define boundaries\n",
      "        between items. All cylinders must be\n",
      "        concentric and of the same orientation, e.g.\n",
      "        all :class:`openmc.ZCylinder`\n",
      "    items : iterable\n",
      "        Objects to go between ``surfaces``. These can be anything\n",
      "        that can fill a :class:`openmc.Cell`, including\n",
      "        :class:`openmc.Material`, or other :class:`openmc.Universe`\n",
      "        objects. There must be one more item than surfaces,\n",
      "        which will span all space outside the final ring.\n",
      "    subdivisions : None or dict of int to int\n",
      "        Dictionary describing which rings to subdivide and how\n",
      "        many times. Keys are indexes of the annular rings\n",
      "        to be divided. Will construct equal area rings\n",
      "    divide_vols : bool\n",
      "        If this evaluates to ``True``, then volumes of subdivided\n",
      "        :class:`openmc.Material` instances will also be divided by the\n",
      "        number of divisions.  Otherwise the volume of the\n",
      "        original material will not be modified before subdivision\n",
      "    kwargs:\n",
      "        Additional key-word arguments to be passed to\n",
      "        :class:`openmc.Universe`, like ``name=\"Fuel pin\"``\n",
      "\n",
      "    Returns\n",
      "    -------\n",
      "    :class:`openmc.Universe`\n",
      "        Universe of concentric cylinders filled with the desired\n",
      "        items\n",
      "\n"
     ]
    }
   ],
   "source": [
    "help(openmc.model.pin)"
   ]
  },
  {
   "cell_type": "code",
   "execution_count": 177,
   "id": "d8a8f27a",
   "metadata": {},
   "outputs": [],
   "source": [
    "pin_universe = openmc.model.pin(pin_surfaces, pin_materials)"
   ]
  },
  {
   "cell_type": "code",
   "execution_count": 179,
   "id": "225494f4",
   "metadata": {},
   "outputs": [
    {
     "data": {
      "text/plain": [
       "<Axes: xlabel='x [cm]', ylabel='y [cm]'>"
      ]
     },
     "execution_count": 179,
     "metadata": {},
     "output_type": "execute_result"
    },
    {
     "data": {
      "image/png": "[encoded data removed]",
      "text/plain": [
       "<Figure size 258.065x259.74 with 1 Axes>"
      ]
     },
     "metadata": {},
     "output_type": "display_data"
    }
   ],
   "source": [
    "pin_universe.plot(width=(2.0, 2.0))"
   ]
  },
  {
   "cell_type": "code",
   "execution_count": 185,
   "id": "049de699",
   "metadata": {},
   "outputs": [
    {
     "name": "stdout",
     "output_type": "stream",
     "text": [
      "[Cell\n",
      "\tID             =\t12\n",
      "\tName           =\t\n",
      "\tFill           =\tMaterial 4\n",
      "\tRegion         =\t-13\n",
      "\tRotation       =\tNone\n",
      "\tTemperature    =\tNone\n",
      "\tTranslation    =\tNone\n",
      "\tVolume         =\tNone\n",
      ", Cell\n",
      "\tID             =\t13\n",
      "\tName           =\t\n",
      "\tFill           =\tMaterial 2\n",
      "\tRegion         =\t(13 -14)\n",
      "\tRotation       =\tNone\n",
      "\tTemperature    =\tNone\n",
      "\tTranslation    =\tNone\n",
      "\tVolume         =\tNone\n",
      ", Cell\n",
      "\tID             =\t14\n",
      "\tName           =\t\n",
      "\tFill           =\tMaterial 4\n",
      "\tRegion         =\t(14 -15)\n",
      "\tRotation       =\tNone\n",
      "\tTemperature    =\tNone\n",
      "\tTranslation    =\tNone\n",
      "\tVolume         =\tNone\n",
      ", Cell\n",
      "\tID             =\t15\n",
      "\tName           =\t\n",
      "\tFill           =\tMaterial 3\n",
      "\tRegion         =\t(15 -16)\n",
      "\tRotation       =\tNone\n",
      "\tTemperature    =\tNone\n",
      "\tTranslation    =\tNone\n",
      "\tVolume         =\tNone\n",
      ", Cell\n",
      "\tID             =\t16\n",
      "\tName           =\t\n",
      "\tFill           =\tMaterial 5\n",
      "\tRegion         =\t16\n",
      "\tRotation       =\tNone\n",
      "\tTemperature    =\tNone\n",
      "\tTranslation    =\tNone\n",
      "\tVolume         =\tNone\n",
      "]\n"
     ]
    }
   ],
   "source": [
    "cell_list = list(pin_universe.cells.values())\n",
    "print(cell_list)"
   ]
  },
  {
   "cell_type": "code",
   "execution_count": 186,
   "id": "26850eb7",
   "metadata": {},
   "outputs": [
    {
     "name": "stdout",
     "output_type": "stream",
     "text": [
      "Cell\n",
      "\tID             =\t13\n",
      "\tName           =\t\n",
      "\tFill           =\tMaterial 2\n",
      "\tRegion         =\t(13 -14)\n",
      "\tRotation       =\tNone\n",
      "\tTemperature    =\tNone\n",
      "\tTranslation    =\tNone\n",
      "\tVolume         =\tNone\n",
      "\n"
     ]
    }
   ],
   "source": [
    "fuel_cell = list(pin_universe.cells.values())[1]\n",
    "print(fuel_cell)"
   ]
  },
  {
   "cell_type": "markdown",
   "id": "9a8d4935-0e57-469b-8247-7bddda8b50c6",
   "metadata": {},
   "source": [
    "## Lattices in OpenMC\n",
    "\n",
    "OpenMC has `RectLattice` and `HexLattice` objects.  For our fuel assembly, we need to use `RectLattice`. Let's look at a simple one before we do the full assembly.\n",
    "\n",
    "First, we also need to define a universe that is all water."
   ]
  },
  {
   "cell_type": "code",
   "execution_count": 182,
   "id": "61f1b52c-0a92-4277-b1e6-1587ec768f69",
   "metadata": {},
   "outputs": [],
   "source": [
    "helium_cell = openmc.Cell(fill=he4)\n",
    "inf_helium = openmc.Universe(cells=[helium_cell])"
   ]
  },
  {
   "cell_type": "markdown",
   "id": "a617b392-24ef-4861-aa0b-0c083ab48c28",
   "metadata": {},
   "source": [
    "When creating a rectangular lattice, we need to define:\n",
    "\n",
    "1. The lower-left coordinates of the lattice (`.lower_left`)\n",
    "2. The size of each lattice element (`.pitch`)\n",
    "3. The 2D arrangement of universes (`.universes`)\n",
    "4. (_optionally_) A universe that is used outside of the defined region (`.outer`)"
   ]
  },
  {
   "cell_type": "markdown",
   "id": "3253b9f8-5ef9-4d21-a7c2-86530aa1ee21",
   "metadata": {},
   "source": [
    "## Rectangular Lattices"
   ]
  },
  {
   "cell_type": "code",
   "execution_count": 187,
   "id": "d6474eb4-980e-4317-ba5f-c495cd556a92",
   "metadata": {},
   "outputs": [],
   "source": [
    "lattice = openmc.RectLattice()\n",
    "\n",
    "pitch = 0.8\n",
    "lattice.lower_left = (0.0, 0.0)\n",
    "lattice.pitch = (pitch, pitch)\n",
    "\n",
    "lattice.universes = [\n",
    "    [pin_universe, inf_helium],\n",
    "    [inf_helium, pin_universe]\n",
    "]"
   ]
  },
  {
   "cell_type": "code",
   "execution_count": 188,
   "id": "27839d3a",
   "metadata": {},
   "outputs": [],
   "source": [
    "example_cell = openmc.Cell(fill=lattice)\n",
    "example_univ = openmc.Universe(cells=[example_cell])"
   ]
  },
  {
   "cell_type": "code",
   "execution_count": 189,
   "id": "cf9154e2",
   "metadata": {},
   "outputs": [
    {
     "data": {
      "text/plain": [
       "<Axes: xlabel='x [cm]', ylabel='y [cm]'>"
      ]
     },
     "execution_count": 189,
     "metadata": {},
     "output_type": "execute_result"
    },
    {
     "data": {
      "image/png": "[encoded data removed]",
      "text/plain": [
       "<Figure size 258.065x259.74 with 1 Axes>"
      ]
     },
     "metadata": {},
     "output_type": "display_data"
    }
   ],
   "source": [
    "plot_args = {\n",
    "    'width': (3*pitch, 3*pitch),\n",
    "    'origin': (pitch, pitch, 0),\n",
    "    'color_by': 'material',\n",
    "    'colors': mat_colors\n",
    "}\n",
    "example_univ.plot(**plot_args)"
   ]
  },
  {
   "cell_type": "markdown",
   "id": "69a76ff5-5664-44ab-8cca-49bbc256e514",
   "metadata": {},
   "source": [
    "To plot the lattice, we need to put it in a universe. For this, we'll create a single cell filled with the lattice, and then put that single cell inside a universe to plot:"
   ]
  },
  {
   "cell_type": "code",
   "execution_count": 190,
   "id": "e0cdb27f-1a67-4926-9938-ff9ad7c3f08a",
   "metadata": {},
   "outputs": [],
   "source": [
    "helium_cell.fill = sodium\n",
    "lattice.outer = inf_helium"
   ]
  },
  {
   "cell_type": "markdown",
   "id": "a6394c05-f973-4215-8063-37167f3da982",
   "metadata": {},
   "source": [
    "**What exactly does `outer` mean?**\n",
    "\n",
    "In the previous section, we set the lattice outer universe to a universe containing a single cell with only water in it. To get a better sense of what the outer universe does, let's change the outer universe to the guide tube universe:"
   ]
  },
  {
   "cell_type": "code",
   "execution_count": null,
   "id": "a4eb569c-6d6b-4cb1-905d-613058a93ec2",
   "metadata": {},
   "outputs": [],
   "source": []
  },
  {
   "cell_type": "markdown",
   "id": "f2552154-5a1b-4d7e-b1f7-54d08ddc3fd0",
   "metadata": {},
   "source": [
    "## Hexagonal Lattices\n",
    "\n",
    "OpenMC also allows you to define hexagonal lattices. They are a little trickier, but as we'll see there are some helper methods that demystify how to assign universes."
   ]
  },
  {
   "cell_type": "code",
   "execution_count": 191,
   "id": "f1ffbb35-6f49-4dfb-b5e3-e0813f45f888",
   "metadata": {},
   "outputs": [],
   "source": [
    "hexlattice = openmc.HexLattice()"
   ]
  },
  {
   "cell_type": "markdown",
   "id": "0c2eca35-3d88-41ec-a059-648ff999068d",
   "metadata": {},
   "source": [
    "We need to set the `center` of the lattice, the `pitch`, an `outer` universe (which is applied to all lattice elements outside of those that are defined), and a list of `universes`. Let's start with the easy ones first. Note that for a 2D lattice, we only need to specify a single number for the pitch."
   ]
  },
  {
   "cell_type": "code",
   "execution_count": 224,
   "id": "352bf3c8-8158-4405-b96c-255572f8d649",
   "metadata": {},
   "outputs": [],
   "source": [
    "hexlattice.center = (0.0, 0.0)\n",
    "hexlattice.pitch = [0.695]\n",
    "\n",
    "inf_sodium_cell = openmc.Cell(fill=sodium)\n",
    "inf_sodium = openmc.Universe(cells=[inf_sodium_cell])\n",
    "hexlattice.outer = inf_sodium"
   ]
  },
  {
   "cell_type": "markdown",
   "id": "c57fe51b-440c-4a32-98a2-511544467834",
   "metadata": {},
   "source": [
    "Now we need to set the `universes` property on our lattice. It needs to be set to a list of lists of Universes, where each list of Universes corresponds to a ring of the lattice. The rings are ordered from outermost to innermost, and within each ring the indexing starts at the \"top\". To help visualize the proper indices, we can use the `show_indices()` helper method."
   ]
  },
  {
   "cell_type": "code",
   "execution_count": 193,
   "id": "e5f0ad00-0fca-462f-a4a8-df5ad3b9b0b1",
   "metadata": {},
   "outputs": [
    {
     "name": "stdout",
     "output_type": "stream",
     "text": [
      "            (0, 0)\n",
      "      (0,11)      (0, 1)\n",
      "(0,10)      (1, 0)      (0, 2)\n",
      "      (1, 5)      (1, 1)\n",
      "(0, 9)      (2, 0)      (0, 3)\n",
      "      (1, 4)      (1, 2)\n",
      "(0, 8)      (1, 3)      (0, 4)\n",
      "      (0, 7)      (0, 5)\n",
      "            (0, 6)\n"
     ]
    }
   ],
   "source": [
    "print(hexlattice.show_indices(num_rings=3))"
   ]
  },
  {
   "cell_type": "markdown",
   "id": "12d3f6a2-4de0-433c-b4d6-dd0014661e2a",
   "metadata": {},
   "source": [
    "Let's setup a hexagonal lattice assembly like the one in the CEFR benchmark model."
   ]
  },
  {
   "cell_type": "code",
   "execution_count": 204,
   "id": "b21ebb03-6059-4d6e-af2b-6b7ab96af3a5",
   "metadata": {},
   "outputs": [],
   "source": [
    "lat_universes = []\n",
    "\n",
    "for ring in range(5):\n",
    "    lat_universes.append(max(6*ring, 1) * [pin_universe])"
   ]
  },
  {
   "cell_type": "code",
   "execution_count": 208,
   "id": "3fda7d55",
   "metadata": {},
   "outputs": [
    {
     "data": {
      "text/plain": [
       "[[Universe\n",
       "  \tID             =\t5\n",
       "  \tName           =\t\n",
       "  \tGeom           =\tCSG\n",
       "  \tCells          =\t[12, 13, 14, 15, 16]],\n",
       " [Universe\n",
       "  \tID             =\t5\n",
       "  \tName           =\t\n",
       "  \tGeom           =\tCSG\n",
       "  \tCells          =\t[12, 13, 14, 15, 16],\n",
       "  Universe\n",
       "  \tID             =\t5\n",
       "  \tName           =\t\n",
       "  \tGeom           =\tCSG\n",
       "  \tCells          =\t[12, 13, 14, 15, 16],\n",
       "  Universe\n",
       "  \tID             =\t5\n",
       "  \tName           =\t\n",
       "  \tGeom           =\tCSG\n",
       "  \tCells          =\t[12, 13, 14, 15, 16],\n",
       "  Universe\n",
       "  \tID             =\t5\n",
       "  \tName           =\t\n",
       "  \tGeom           =\tCSG\n",
       "  \tCells          =\t[12, 13, 14, 15, 16],\n",
       "  Universe\n",
       "  \tID             =\t5\n",
       "  \tName           =\t\n",
       "  \tGeom           =\tCSG\n",
       "  \tCells          =\t[12, 13, 14, 15, 16],\n",
       "  Universe\n",
       "  \tID             =\t5\n",
       "  \tName           =\t\n",
       "  \tGeom           =\tCSG\n",
       "  \tCells          =\t[12, 13, 14, 15, 16]],\n",
       " [Universe\n",
       "  \tID             =\t5\n",
       "  \tName           =\t\n",
       "  \tGeom           =\tCSG\n",
       "  \tCells          =\t[12, 13, 14, 15, 16],\n",
       "  Universe\n",
       "  \tID             =\t5\n",
       "  \tName           =\t\n",
       "  \tGeom           =\tCSG\n",
       "  \tCells          =\t[12, 13, 14, 15, 16],\n",
       "  Universe\n",
       "  \tID             =\t5\n",
       "  \tName           =\t\n",
       "  \tGeom           =\tCSG\n",
       "  \tCells          =\t[12, 13, 14, 15, 16],\n",
       "  Universe\n",
       "  \tID             =\t5\n",
       "  \tName           =\t\n",
       "  \tGeom           =\tCSG\n",
       "  \tCells          =\t[12, 13, 14, 15, 16],\n",
       "  Universe\n",
       "  \tID             =\t5\n",
       "  \tName           =\t\n",
       "  \tGeom           =\tCSG\n",
       "  \tCells          =\t[12, 13, 14, 15, 16],\n",
       "  Universe\n",
       "  \tID             =\t5\n",
       "  \tName           =\t\n",
       "  \tGeom           =\tCSG\n",
       "  \tCells          =\t[12, 13, 14, 15, 16],\n",
       "  Universe\n",
       "  \tID             =\t5\n",
       "  \tName           =\t\n",
       "  \tGeom           =\tCSG\n",
       "  \tCells          =\t[12, 13, 14, 15, 16],\n",
       "  Universe\n",
       "  \tID             =\t5\n",
       "  \tName           =\t\n",
       "  \tGeom           =\tCSG\n",
       "  \tCells          =\t[12, 13, 14, 15, 16],\n",
       "  Universe\n",
       "  \tID             =\t5\n",
       "  \tName           =\t\n",
       "  \tGeom           =\tCSG\n",
       "  \tCells          =\t[12, 13, 14, 15, 16],\n",
       "  Universe\n",
       "  \tID             =\t5\n",
       "  \tName           =\t\n",
       "  \tGeom           =\tCSG\n",
       "  \tCells          =\t[12, 13, 14, 15, 16],\n",
       "  Universe\n",
       "  \tID             =\t5\n",
       "  \tName           =\t\n",
       "  \tGeom           =\tCSG\n",
       "  \tCells          =\t[12, 13, 14, 15, 16],\n",
       "  Universe\n",
       "  \tID             =\t5\n",
       "  \tName           =\t\n",
       "  \tGeom           =\tCSG\n",
       "  \tCells          =\t[12, 13, 14, 15, 16]],\n",
       " [Universe\n",
       "  \tID             =\t5\n",
       "  \tName           =\t\n",
       "  \tGeom           =\tCSG\n",
       "  \tCells          =\t[12, 13, 14, 15, 16],\n",
       "  Universe\n",
       "  \tID             =\t5\n",
       "  \tName           =\t\n",
       "  \tGeom           =\tCSG\n",
       "  \tCells          =\t[12, 13, 14, 15, 16],\n",
       "  Universe\n",
       "  \tID             =\t5\n",
       "  \tName           =\t\n",
       "  \tGeom           =\tCSG\n",
       "  \tCells          =\t[12, 13, 14, 15, 16],\n",
       "  Universe\n",
       "  \tID             =\t5\n",
       "  \tName           =\t\n",
       "  \tGeom           =\tCSG\n",
       "  \tCells          =\t[12, 13, 14, 15, 16],\n",
       "  Universe\n",
       "  \tID             =\t5\n",
       "  \tName           =\t\n",
       "  \tGeom           =\tCSG\n",
       "  \tCells          =\t[12, 13, 14, 15, 16],\n",
       "  Universe\n",
       "  \tID             =\t5\n",
       "  \tName           =\t\n",
       "  \tGeom           =\tCSG\n",
       "  \tCells          =\t[12, 13, 14, 15, 16],\n",
       "  Universe\n",
       "  \tID             =\t5\n",
       "  \tName           =\t\n",
       "  \tGeom           =\tCSG\n",
       "  \tCells          =\t[12, 13, 14, 15, 16],\n",
       "  Universe\n",
       "  \tID             =\t5\n",
       "  \tName           =\t\n",
       "  \tGeom           =\tCSG\n",
       "  \tCells          =\t[12, 13, 14, 15, 16],\n",
       "  Universe\n",
       "  \tID             =\t5\n",
       "  \tName           =\t\n",
       "  \tGeom           =\tCSG\n",
       "  \tCells          =\t[12, 13, 14, 15, 16],\n",
       "  Universe\n",
       "  \tID             =\t5\n",
       "  \tName           =\t\n",
       "  \tGeom           =\tCSG\n",
       "  \tCells          =\t[12, 13, 14, 15, 16],\n",
       "  Universe\n",
       "  \tID             =\t5\n",
       "  \tName           =\t\n",
       "  \tGeom           =\tCSG\n",
       "  \tCells          =\t[12, 13, 14, 15, 16],\n",
       "  Universe\n",
       "  \tID             =\t5\n",
       "  \tName           =\t\n",
       "  \tGeom           =\tCSG\n",
       "  \tCells          =\t[12, 13, 14, 15, 16],\n",
       "  Universe\n",
       "  \tID             =\t5\n",
       "  \tName           =\t\n",
       "  \tGeom           =\tCSG\n",
       "  \tCells          =\t[12, 13, 14, 15, 16],\n",
       "  Universe\n",
       "  \tID             =\t5\n",
       "  \tName           =\t\n",
       "  \tGeom           =\tCSG\n",
       "  \tCells          =\t[12, 13, 14, 15, 16],\n",
       "  Universe\n",
       "  \tID             =\t5\n",
       "  \tName           =\t\n",
       "  \tGeom           =\tCSG\n",
       "  \tCells          =\t[12, 13, 14, 15, 16],\n",
       "  Universe\n",
       "  \tID             =\t5\n",
       "  \tName           =\t\n",
       "  \tGeom           =\tCSG\n",
       "  \tCells          =\t[12, 13, 14, 15, 16],\n",
       "  Universe\n",
       "  \tID             =\t5\n",
       "  \tName           =\t\n",
       "  \tGeom           =\tCSG\n",
       "  \tCells          =\t[12, 13, 14, 15, 16],\n",
       "  Universe\n",
       "  \tID             =\t5\n",
       "  \tName           =\t\n",
       "  \tGeom           =\tCSG\n",
       "  \tCells          =\t[12, 13, 14, 15, 16]],\n",
       " [Universe\n",
       "  \tID             =\t5\n",
       "  \tName           =\t\n",
       "  \tGeom           =\tCSG\n",
       "  \tCells          =\t[12, 13, 14, 15, 16],\n",
       "  Universe\n",
       "  \tID             =\t5\n",
       "  \tName           =\t\n",
       "  \tGeom           =\tCSG\n",
       "  \tCells          =\t[12, 13, 14, 15, 16],\n",
       "  Universe\n",
       "  \tID             =\t5\n",
       "  \tName           =\t\n",
       "  \tGeom           =\tCSG\n",
       "  \tCells          =\t[12, 13, 14, 15, 16],\n",
       "  Universe\n",
       "  \tID             =\t5\n",
       "  \tName           =\t\n",
       "  \tGeom           =\tCSG\n",
       "  \tCells          =\t[12, 13, 14, 15, 16],\n",
       "  Universe\n",
       "  \tID             =\t5\n",
       "  \tName           =\t\n",
       "  \tGeom           =\tCSG\n",
       "  \tCells          =\t[12, 13, 14, 15, 16],\n",
       "  Universe\n",
       "  \tID             =\t5\n",
       "  \tName           =\t\n",
       "  \tGeom           =\tCSG\n",
       "  \tCells          =\t[12, 13, 14, 15, 16],\n",
       "  Universe\n",
       "  \tID             =\t5\n",
       "  \tName           =\t\n",
       "  \tGeom           =\tCSG\n",
       "  \tCells          =\t[12, 13, 14, 15, 16],\n",
       "  Universe\n",
       "  \tID             =\t5\n",
       "  \tName           =\t\n",
       "  \tGeom           =\tCSG\n",
       "  \tCells          =\t[12, 13, 14, 15, 16],\n",
       "  Universe\n",
       "  \tID             =\t5\n",
       "  \tName           =\t\n",
       "  \tGeom           =\tCSG\n",
       "  \tCells          =\t[12, 13, 14, 15, 16],\n",
       "  Universe\n",
       "  \tID             =\t5\n",
       "  \tName           =\t\n",
       "  \tGeom           =\tCSG\n",
       "  \tCells          =\t[12, 13, 14, 15, 16],\n",
       "  Universe\n",
       "  \tID             =\t5\n",
       "  \tName           =\t\n",
       "  \tGeom           =\tCSG\n",
       "  \tCells          =\t[12, 13, 14, 15, 16],\n",
       "  Universe\n",
       "  \tID             =\t5\n",
       "  \tName           =\t\n",
       "  \tGeom           =\tCSG\n",
       "  \tCells          =\t[12, 13, 14, 15, 16],\n",
       "  Universe\n",
       "  \tID             =\t5\n",
       "  \tName           =\t\n",
       "  \tGeom           =\tCSG\n",
       "  \tCells          =\t[12, 13, 14, 15, 16],\n",
       "  Universe\n",
       "  \tID             =\t5\n",
       "  \tName           =\t\n",
       "  \tGeom           =\tCSG\n",
       "  \tCells          =\t[12, 13, 14, 15, 16],\n",
       "  Universe\n",
       "  \tID             =\t5\n",
       "  \tName           =\t\n",
       "  \tGeom           =\tCSG\n",
       "  \tCells          =\t[12, 13, 14, 15, 16],\n",
       "  Universe\n",
       "  \tID             =\t5\n",
       "  \tName           =\t\n",
       "  \tGeom           =\tCSG\n",
       "  \tCells          =\t[12, 13, 14, 15, 16],\n",
       "  Universe\n",
       "  \tID             =\t5\n",
       "  \tName           =\t\n",
       "  \tGeom           =\tCSG\n",
       "  \tCells          =\t[12, 13, 14, 15, 16],\n",
       "  Universe\n",
       "  \tID             =\t5\n",
       "  \tName           =\t\n",
       "  \tGeom           =\tCSG\n",
       "  \tCells          =\t[12, 13, 14, 15, 16],\n",
       "  Universe\n",
       "  \tID             =\t5\n",
       "  \tName           =\t\n",
       "  \tGeom           =\tCSG\n",
       "  \tCells          =\t[12, 13, 14, 15, 16],\n",
       "  Universe\n",
       "  \tID             =\t5\n",
       "  \tName           =\t\n",
       "  \tGeom           =\tCSG\n",
       "  \tCells          =\t[12, 13, 14, 15, 16],\n",
       "  Universe\n",
       "  \tID             =\t5\n",
       "  \tName           =\t\n",
       "  \tGeom           =\tCSG\n",
       "  \tCells          =\t[12, 13, 14, 15, 16],\n",
       "  Universe\n",
       "  \tID             =\t5\n",
       "  \tName           =\t\n",
       "  \tGeom           =\tCSG\n",
       "  \tCells          =\t[12, 13, 14, 15, 16],\n",
       "  Universe\n",
       "  \tID             =\t5\n",
       "  \tName           =\t\n",
       "  \tGeom           =\tCSG\n",
       "  \tCells          =\t[12, 13, 14, 15, 16],\n",
       "  Universe\n",
       "  \tID             =\t5\n",
       "  \tName           =\t\n",
       "  \tGeom           =\tCSG\n",
       "  \tCells          =\t[12, 13, 14, 15, 16]]]"
      ]
     },
     "execution_count": 208,
     "metadata": {},
     "output_type": "execute_result"
    }
   ],
   "source": [
    "lat_universes"
   ]
  },
  {
   "cell_type": "code",
   "execution_count": 209,
   "id": "e16daeef",
   "metadata": {},
   "outputs": [],
   "source": [
    "hexlattice.universes = lat_universes[::-1]"
   ]
  },
  {
   "cell_type": "markdown",
   "id": "64d965f0-0052-4aef-b8fb-0346acaf6213",
   "metadata": {},
   "source": [
    "Now let's put our lattice inside a circular cell."
   ]
  },
  {
   "cell_type": "code",
   "execution_count": 210,
   "id": "f4604c72-59f7-45bb-bf70-4d568cabfa16",
   "metadata": {},
   "outputs": [],
   "source": [
    "outer_surface = openmc.ZCylinder(r=4.0, boundary_type='vacuum')\n",
    "outer_cell = openmc.Cell(region=-outer_surface, fill=hexlattice)\n",
    "root = openmc.Universe(cells=[outer_cell])"
   ]
  },
  {
   "cell_type": "code",
   "execution_count": 225,
   "id": "bfda625a",
   "metadata": {},
   "outputs": [],
   "source": [
    "hexlattice.pitch = [0.695]"
   ]
  },
  {
   "cell_type": "code",
   "execution_count": 234,
   "id": "6820073a",
   "metadata": {},
   "outputs": [
    {
     "data": {
      "text/plain": [
       "<Axes: xlabel='x [cm]', ylabel='y [cm]'>"
      ]
     },
     "execution_count": 234,
     "metadata": {},
     "output_type": "execute_result"
    },
    {
     "data": {
      "image/png": "[encoded data removed]",
      "text/plain": [
       "<Figure size 774.194x779.221 with 1 Axes>"
      ]
     },
     "metadata": {},
     "output_type": "display_data"
    }
   ],
   "source": [
    "root.plot(width=(8.0, 8.0), pixels=(600, 600), color_by='material', colors=mat_colors, legend=True)"
   ]
  },
  {
   "cell_type": "markdown",
   "id": "a570938c-a9bb-44e1-af8d-7b7a36063641",
   "metadata": {},
   "source": [
    "### Rotating the lattice\n",
    "\n",
    "Now let's say we want our hexagonal lattice orientated such that flat sides are parallel to the y-axis instead of the x-axis. This can be achieved by changing the orientation of the lattice from `'y'` to `'x'`:"
   ]
  },
  {
   "cell_type": "code",
   "execution_count": 237,
   "id": "2923482f-4c05-4d45-8957-fb3721ebc558",
   "metadata": {},
   "outputs": [],
   "source": [
    "hexlattice.rotation = 'y'"
   ]
  },
  {
   "cell_type": "code",
   "execution_count": 238,
   "id": "fe077bba",
   "metadata": {},
   "outputs": [
    {
     "data": {
      "text/plain": [
       "'y'"
      ]
     },
     "execution_count": 238,
     "metadata": {},
     "output_type": "execute_result"
    }
   ],
   "source": [
    "hexlattice.rotation"
   ]
  },
  {
   "cell_type": "markdown",
   "id": "91327cd5-9fa9-4e4a-bd13-909dd334fe94",
   "metadata": {},
   "source": [
    "Again, we can use the `show_indices` method to see the ordering of universes within each ring:"
   ]
  },
  {
   "cell_type": "code",
   "execution_count": null,
   "id": "30988d54-5a09-4879-b4f3-909257a9b849",
   "metadata": {},
   "outputs": [],
   "source": []
  },
  {
   "cell_type": "markdown",
   "id": "47ff72bc-7844-4b7f-a8d6-2ed52cf37309",
   "metadata": {},
   "source": [
    "# Final CEFR Assembly Modeling Steps\n",
    "\n",
    "The circular boundary is nice for some initial visualization, but in reality the CEFR assemblies are bounded by stainless steel ducts. Let's add those to the model now."
   ]
  },
  {
   "cell_type": "markdown",
   "id": "3abb56b2-6474-4b4b-95a7-0101f54345a7",
   "metadata": {},
   "source": [
    "In the image of the CEFR assembly above, the steel duct is a hexagonal shape matching that of the hex lattice boundary. OpenMC has the ability to represent arbitrarily oriented planes to model this duct."
   ]
  },
  {
   "cell_type": "code",
   "execution_count": 213,
   "id": "9b01fccb-7e79-4035-b2c3-f8732201d839",
   "metadata": {},
   "outputs": [
    {
     "name": "stdout",
     "output_type": "stream",
     "text": [
      "Help on class Plane in module openmc.surface:\n",
      "\n",
      "class Plane(PlaneMixin, Surface)\n",
      " |  Plane(a=1.0, b=0.0, c=0.0, d=0.0, *args, **kwargs)\n",
      " |\n",
      " |  An arbitrary plane of the form :math:`Ax + By + Cz = D`.\n",
      " |\n",
      " |  Parameters\n",
      " |  ----------\n",
      " |  a : float, optional\n",
      " |      The 'A' parameter for the plane. Defaults to 1.\n",
      " |  b : float, optional\n",
      " |      The 'B' parameter for the plane. Defaults to 0.\n",
      " |  c : float, optional\n",
      " |      The 'C' parameter for the plane. Defaults to 0.\n",
      " |  d : float, optional\n",
      " |      The 'D' parameter for the plane. Defaults to 0.\n",
      " |  boundary_type : {'transmission, 'vacuum', 'reflective', 'periodic', 'white'}, optional\n",
      " |      Boundary condition that defines the behavior for particles hitting the\n",
      " |      surface. Defaults to transmissive boundary condition where particles\n",
      " |      freely pass through the surface.\n",
      " |  albedo : float, optional\n",
      " |      Albedo of the surfaces as a ratio of particle weight after interaction\n",
      " |      with the surface to the initial weight. Values must be positive. Only\n",
      " |      applicable if the boundary type is 'reflective', 'periodic', or 'white'.\n",
      " |  name : str, optional\n",
      " |      Name of the plane. If not specified, the name will be the empty string.\n",
      " |  surface_id : int, optional\n",
      " |      Unique identifier for the surface. If not specified, an identifier will\n",
      " |      automatically be assigned.\n",
      " |\n",
      " |  Attributes\n",
      " |  ----------\n",
      " |  a : float\n",
      " |      The 'A' parameter for the plane\n",
      " |  b : float\n",
      " |      The 'B' parameter for the plane\n",
      " |  c : float\n",
      " |      The 'C' parameter for the plane\n",
      " |  d : float\n",
      " |      The 'D' parameter for the plane\n",
      " |  boundary_type : {'transmission, 'vacuum', 'reflective', 'periodic', 'white'}\n",
      " |      Boundary condition that defines the behavior for particles hitting the\n",
      " |      surface.\n",
      " |  albedo : float\n",
      " |      Boundary albedo as a positive multiplier of particle weight\n",
      " |  periodic_surface : openmc.Surface\n",
      " |      If a periodic boundary condition is used, the surface with which this\n",
      " |      one is periodic with\n",
      " |  coefficients : dict\n",
      " |      Dictionary of surface coefficients\n",
      " |  id : int\n",
      " |      Unique identifier for the surface\n",
      " |  name : str\n",
      " |      Name of the surface\n",
      " |  type : str\n",
      " |      Type of the surface\n",
      " |\n",
      " |  Method resolution order:\n",
      " |      Plane\n",
      " |      PlaneMixin\n",
      " |      Surface\n",
      " |      openmc.mixin.IDManagerMixin\n",
      " |      abc.ABC\n",
      " |      builtins.object\n",
      " |\n",
      " |  Methods defined here:\n",
      " |\n",
      " |  __init__(self, a=1.0, b=0.0, c=0.0, d=0.0, *args, **kwargs)\n",
      " |      Initialize self.  See help(type(self)) for accurate signature.\n",
      " |\n",
      " |  ----------------------------------------------------------------------\n",
      " |  Class methods defined here:\n",
      " |\n",
      " |  __subclasshook__(c) from abc.ABCMeta\n",
      " |      Abstract classes can override this to customize issubclass().\n",
      " |\n",
      " |      This is invoked early on by abc.ABCMeta.__subclasscheck__().\n",
      " |      It should return True, False or NotImplemented.  If it returns\n",
      " |      NotImplemented, the normal algorithm is used.  Otherwise, it\n",
      " |      overrides the normal algorithm (and the outcome is cached).\n",
      " |\n",
      " |  from_points(p1, p2, p3, **kwargs) from abc.ABCMeta\n",
      " |      Return a plane given three points that pass through it.\n",
      " |\n",
      " |      Parameters\n",
      " |      ----------\n",
      " |      p1, p2, p3 : 3-tuples\n",
      " |          Points that pass through the plane\n",
      " |      kwargs : dict\n",
      " |          Keyword arguments passed to the :class:`Plane` constructor\n",
      " |\n",
      " |      Returns\n",
      " |      -------\n",
      " |      Plane\n",
      " |          Plane that passes through the three points\n",
      " |\n",
      " |      Raises\n",
      " |      ------\n",
      " |      ValueError\n",
      " |          If all three points lie along a line\n",
      " |\n",
      " |  ----------------------------------------------------------------------\n",
      " |  Data descriptors defined here:\n",
      " |\n",
      " |  a\n",
      " |\n",
      " |  b\n",
      " |\n",
      " |  c\n",
      " |\n",
      " |  d\n",
      " |\n",
      " |  ----------------------------------------------------------------------\n",
      " |  Data and other attributes defined here:\n",
      " |\n",
      " |  __abstractmethods__ = frozenset()\n",
      " |\n",
      " |  ----------------------------------------------------------------------\n",
      " |  Methods inherited from PlaneMixin:\n",
      " |\n",
      " |  bounding_box(self, side)\n",
      " |      Determine an axis-aligned bounding box.\n",
      " |\n",
      " |      An axis-aligned bounding box for Plane half-spaces is represented by\n",
      " |      its lower-left and upper-right coordinates. If the half-space is\n",
      " |      unbounded in a particular direction, numpy.inf is used to represent\n",
      " |      infinity.\n",
      " |\n",
      " |      Parameters\n",
      " |      ----------\n",
      " |      side : {'+', '-'}\n",
      " |          Indicates the negative or positive half-space\n",
      " |\n",
      " |      Returns\n",
      " |      -------\n",
      " |      numpy.ndarray\n",
      " |          Lower-left coordinates of the axis-aligned bounding box for the\n",
      " |          desired half-space\n",
      " |      numpy.ndarray\n",
      " |          Upper-right coordinates of the axis-aligned bounding box for the\n",
      " |          desired half-space\n",
      " |\n",
      " |  evaluate(self, point)\n",
      " |      Evaluate the surface equation at a given point.\n",
      " |\n",
      " |      Parameters\n",
      " |      ----------\n",
      " |      point : 3-tuple of float\n",
      " |          The Cartesian coordinates, :math:`(x',y',z')`, at which the surface\n",
      " |          equation should be evaluated.\n",
      " |\n",
      " |      Returns\n",
      " |      -------\n",
      " |      float\n",
      " |          :math:`Ax' + By' + Cz' - D`\n",
      " |\n",
      " |  rotate(self, rotation, pivot=(0.0, 0.0, 0.0), order='xyz', inplace=False)\n",
      " |\n",
      " |  to_xml_element(self)\n",
      " |      Return XML representation of the surface\n",
      " |\n",
      " |      Returns\n",
      " |      -------\n",
      " |      element : lxml.etree._Element\n",
      " |          XML element containing source data\n",
      " |\n",
      " |  translate(self, vector, inplace=False)\n",
      " |      Translate surface in given direction\n",
      " |\n",
      " |      Parameters\n",
      " |      ----------\n",
      " |      vector : iterable of float\n",
      " |          Direction in which surface should be translated\n",
      " |      inplace : bool\n",
      " |          Whether or not to return a new instance of a Plane or to modify the\n",
      " |          coefficients of this plane.\n",
      " |\n",
      " |      Returns\n",
      " |      -------\n",
      " |      openmc.Plane\n",
      " |          Translated surface\n",
      " |\n",
      " |  ----------------------------------------------------------------------\n",
      " |  Data descriptors inherited from PlaneMixin:\n",
      " |\n",
      " |  __dict__\n",
      " |      dictionary for instance variables\n",
      " |\n",
      " |  __weakref__\n",
      " |      list of weak references to the object\n",
      " |\n",
      " |  periodic_surface\n",
      " |\n",
      " |  ----------------------------------------------------------------------\n",
      " |  Methods inherited from Surface:\n",
      " |\n",
      " |  __neg__(self)\n",
      " |\n",
      " |  __pos__(self)\n",
      " |\n",
      " |  __repr__(self)\n",
      " |      Return repr(self).\n",
      " |\n",
      " |  clone(self, memo=None)\n",
      " |      Create a copy of this surface with a new unique ID.\n",
      " |\n",
      " |      Parameters\n",
      " |      ----------\n",
      " |      memo : dict or None\n",
      " |          A nested dictionary of previously cloned objects. This parameter\n",
      " |          is used internally and should not be specified by the user.\n",
      " |\n",
      " |      Returns\n",
      " |      -------\n",
      " |      clone : openmc.Surface\n",
      " |          The clone of this surface\n",
      " |\n",
      " |  is_equal(self, other)\n",
      " |      Determine if this Surface is equivalent to another\n",
      " |\n",
      " |      Parameters\n",
      " |      ----------\n",
      " |      other : instance of openmc.Surface\n",
      " |          Instance of openmc.Surface that should be compared to the current\n",
      " |          surface\n",
      " |\n",
      " |  normalize(self, coeffs=None)\n",
      " |      Normalize coefficients by first nonzero value\n",
      " |\n",
      " |      .. versionadded:: 0.12\n",
      " |\n",
      " |      Parameters\n",
      " |      ----------\n",
      " |      coeffs : tuple, optional\n",
      " |          Tuple of surface coefficients to normalize. Defaults to None. If no\n",
      " |          coefficients are supplied then the coefficients will be taken from\n",
      " |          the current Surface.\n",
      " |\n",
      " |      Returns\n",
      " |      -------\n",
      " |      tuple of normalized coefficients\n",
      " |\n",
      " |  ----------------------------------------------------------------------\n",
      " |  Static methods inherited from Surface:\n",
      " |\n",
      " |  from_hdf5(group)\n",
      " |      Create surface from HDF5 group\n",
      " |\n",
      " |      Parameters\n",
      " |      ----------\n",
      " |      group : h5py.Group\n",
      " |          Group in HDF5 file\n",
      " |\n",
      " |      Returns\n",
      " |      -------\n",
      " |      openmc.Surface\n",
      " |          Instance of surface subclass\n",
      " |\n",
      " |  from_xml_element(elem)\n",
      " |      Generate surface from an XML element\n",
      " |\n",
      " |      Parameters\n",
      " |      ----------\n",
      " |      elem : lxml.etree._Element\n",
      " |          XML element\n",
      " |\n",
      " |      Returns\n",
      " |      -------\n",
      " |      openmc.Surface\n",
      " |          Instance of a surface subclass\n",
      " |\n",
      " |  ----------------------------------------------------------------------\n",
      " |  Readonly properties inherited from Surface:\n",
      " |\n",
      " |  coefficients\n",
      " |\n",
      " |  type\n",
      " |\n",
      " |  ----------------------------------------------------------------------\n",
      " |  Data descriptors inherited from Surface:\n",
      " |\n",
      " |  albedo\n",
      " |\n",
      " |  boundary_type\n",
      " |\n",
      " |  name\n",
      " |\n",
      " |  ----------------------------------------------------------------------\n",
      " |  Data and other attributes inherited from Surface:\n",
      " |\n",
      " |  next_id = 17\n",
      " |\n",
      " |  used_ids = {1, 2, 3, 4, 5, 6, ...}\n",
      " |\n",
      " |  ----------------------------------------------------------------------\n",
      " |  Data descriptors inherited from openmc.mixin.IDManagerMixin:\n",
      " |\n",
      " |  id\n",
      "\n"
     ]
    }
   ],
   "source": [
    "help(openmc.Plane)"
   ]
  },
  {
   "cell_type": "markdown",
   "id": "3125b0c3-3833-49e1-a924-e6b96ccc903f",
   "metadata": {},
   "source": [
    "However, a hexagonal shape is a common feature in reactor design and as such there is a convenience function in OpenMC for generating a hexagonal prism region."
   ]
  },
  {
   "cell_type": "code",
   "execution_count": 219,
   "id": "89268373",
   "metadata": {},
   "outputs": [
    {
     "name": "stdout",
     "output_type": "stream",
     "text": [
      "Help on function hexagonal_prism in module openmc.model.funcs:\n",
      "\n",
      "hexagonal_prism(edge_length=1.0, orientation='y', origin=(0.0, 0.0), boundary_type='transmission', corner_radius=0.0)\n",
      "\n"
     ]
    }
   ],
   "source": [
    "help(openmc.model.hexagonal_prism)"
   ]
  },
  {
   "cell_type": "code",
   "execution_count": 240,
   "id": "882e47d1",
   "metadata": {},
   "outputs": [
    {
     "name": "stderr",
     "output_type": "stream",
     "text": [
      "/home/efra/anaconda3/envs/openmc-env/lib/python3.12/site-packages/openmc/model/funcs.py:124: FutureWarning: The hexagonal_prism(...) function has been replaced by the HexagonalPrism(...) class. Future versions of OpenMC will not accept hexagonal_prism.\n",
      "  warn(\"The hexagonal_prism(...) function has been replaced by the \"\n"
     ]
    }
   ],
   "source": [
    "inner_duct = openmc.model.hexagonal_prism(edge_length=3.281335614, orientation='y')\n",
    "outer_duct = openmc.model.hexagonal_prism(edge_length=3.420465482, orientation='y')\n",
    "assembly_boundary = openmc.model.hexagonal_prism(edge_length=3.536385869, orientation='y', boundary_type='reflective')"
   ]
  },
  {
   "cell_type": "code",
   "execution_count": 241,
   "id": "2e61ae17",
   "metadata": {},
   "outputs": [
    {
     "name": "stdout",
     "output_type": "stream",
     "text": [
      "(-36 37 -38 -39 40 41)\n"
     ]
    }
   ],
   "source": [
    "print(inner_duct)"
   ]
  },
  {
   "cell_type": "markdown",
   "id": "19783b9b-2474-44be-8a01-f521c0210f2f",
   "metadata": {},
   "source": [
    "Now we can create the external duct and outer cells"
   ]
  },
  {
   "cell_type": "code",
   "execution_count": 242,
   "id": "b81916a1-e32a-41c3-97de-a105ec58a63a",
   "metadata": {},
   "outputs": [],
   "source": [
    "lattice_cell = openmc.Cell(region=inner_duct, fill=hexlattice)"
   ]
  },
  {
   "cell_type": "code",
   "execution_count": 243,
   "id": "e946d82f",
   "metadata": {},
   "outputs": [],
   "source": [
    "assembly_universe = openmc.Universe(cells=[lattice_cell]) "
   ]
  },
  {
   "cell_type": "code",
   "execution_count": 247,
   "id": "7e47adeb",
   "metadata": {},
   "outputs": [],
   "source": [
    "duct_cell = openmc.Cell(region= ~inner_duct & outer_duct, fill=steel)\n",
    "assembly_universe.add_cell(duct_cell)"
   ]
  },
  {
   "cell_type": "code",
   "execution_count": 249,
   "id": "fa117f1f",
   "metadata": {},
   "outputs": [],
   "source": [
    "outer_cell = openmc.Cell(region= ~outer_duct & assembly_boundary, fill=sodium)\n",
    "assembly_universe.add_cell(outer_cell)"
   ]
  },
  {
   "cell_type": "code",
   "execution_count": 250,
   "id": "2b9204a2",
   "metadata": {},
   "outputs": [
    {
     "data": {
      "text/plain": [
       "<Axes: xlabel='x [cm]', ylabel='y [cm]'>"
      ]
     },
     "execution_count": 250,
     "metadata": {},
     "output_type": "execute_result"
    },
    {
     "data": {
      "image/png": "[encoded data removed]",
      "text/plain": [
       "<Figure size 774.194x779.221 with 1 Axes>"
      ]
     },
     "metadata": {},
     "output_type": "display_data"
    }
   ],
   "source": [
    "assembly_universe.plot(width=(8.0, 8.0), pixels=(600, 600), color_by='material', colors=mat_colors, legend=True)"
   ]
  },
  {
   "cell_type": "code",
   "execution_count": 251,
   "id": "177e4b71",
   "metadata": {},
   "outputs": [
    {
     "data": {
      "text/plain": [
       "{23: Cell\n",
       " \tID             =\t23\n",
       " \tName           =\t\n",
       " \tFill           =\t9\n",
       " \tRegion         =\t(-36 37 -38 -39 40 41)\n",
       " \tRotation       =\tNone\n",
       " \tTranslation    =\tNone\n",
       " \tVolume         =\tNone,\n",
       " 24: Cell\n",
       " \tID             =\t24\n",
       " \tName           =\t\n",
       " \tFill           =\tMaterial 3\n",
       " \tRegion         =\t(~(-36 37 -38 -39 40 41) (-42 43 -44 -45 46 47))\n",
       " \tRotation       =\tNone\n",
       " \tTemperature    =\tNone\n",
       " \tTranslation    =\tNone\n",
       " \tVolume         =\tNone,\n",
       " 25: Cell\n",
       " \tID             =\t25\n",
       " \tName           =\t\n",
       " \tFill           =\tMaterial 5\n",
       " \tRegion         =\t(~(-42 43 -44 -45 46 47) (-48 49 -50 -51 52 53))\n",
       " \tRotation       =\tNone\n",
       " \tTemperature    =\tNone\n",
       " \tTranslation    =\tNone\n",
       " \tVolume         =\tNone}"
      ]
     },
     "execution_count": 251,
     "metadata": {},
     "output_type": "execute_result"
    }
   ],
   "source": [
    "assembly_universe.cells"
   ]
  },
  {
   "cell_type": "markdown",
   "id": "c4bdaeef-691a-4242-8a17-895b92a66fad",
   "metadata": {},
   "source": [
    "Finally, we need an outer cell representing the space between assembly ducts."
   ]
  },
  {
   "cell_type": "code",
   "execution_count": null,
   "id": "fefcf7dd-2aa9-430f-b785-9acf7002143c",
   "metadata": {},
   "outputs": [],
   "source": []
  },
  {
   "cell_type": "markdown",
   "id": "b43719a3-ff35-4c53-abe0-fbb7cd3bd585",
   "metadata": {},
   "source": [
    "Finally, let's make this a 3D model by adding upper and lower bounding planes."
   ]
  },
  {
   "cell_type": "code",
   "execution_count": 253,
   "id": "c67c7ed9-8507-46e2-9785-b113852fa091",
   "metadata": {},
   "outputs": [],
   "source": [
    "upper_plane = openmc.ZPlane(z0=20.0, boundary_type='vacuum')\n",
    "lower_plane = openmc.ZPlane(z0=-20.0, boundary_type='vacuum')\n",
    "root_cell = openmc.Cell(region= +lower_plane & -upper_plane & assembly_boundary)\n",
    "root_universe = openmc.Universe(cells=[root_cell])"
   ]
  },
  {
   "cell_type": "code",
   "execution_count": 254,
   "id": "27cdf4da",
   "metadata": {},
   "outputs": [],
   "source": [
    "model.geometry = openmc.Geometry(root=root_universe)"
   ]
  },
  {
   "cell_type": "markdown",
   "id": "c9a6f8e7-aa8f-40fd-be2f-fbd4b89b65ae",
   "metadata": {},
   "source": [
    "We should now be able to use this as our geometry in the model and run it successfully."
   ]
  },
  {
   "cell_type": "code",
   "execution_count": 256,
   "id": "0568ab84",
   "metadata": {},
   "outputs": [],
   "source": [
    "root_cell.fill = assembly_universe"
   ]
  },
  {
   "cell_type": "code",
   "execution_count": 257,
   "id": "b53a8a8e-81cf-4973-943a-0f340fc22009",
   "metadata": {},
   "outputs": [
    {
     "name": "stdout",
     "output_type": "stream",
     "text": [
      "                                %%%%%%%%%%%%%%%\n",
      "                           %%%%%%%%%%%%%%%%%%%%%%%%\n",
      "                        %%%%%%%%%%%%%%%%%%%%%%%%%%%%%%\n",
      "                      %%%%%%%%%%%%%%%%%%%%%%%%%%%%%%%%%%\n",
      "                    %%%%%%%%%%%%%%%%%%%%%%%%%%%%%%%%%%%%%%\n",
      "                   %%%%%%%%%%%%%%%%%%%%%%%%%%%%%%%%%%%%%%%%\n",
      "                                    %%%%%%%%%%%%%%%%%%%%%%%%\n",
      "                                     %%%%%%%%%%%%%%%%%%%%%%%%\n",
      "                 ###############      %%%%%%%%%%%%%%%%%%%%%%%%\n",
      "                ##################     %%%%%%%%%%%%%%%%%%%%%%%\n",
      "                ###################     %%%%%%%%%%%%%%%%%%%%%%%\n",
      "                ####################     %%%%%%%%%%%%%%%%%%%%%%\n",
      "                #####################     %%%%%%%%%%%%%%%%%%%%%\n",
      "                ######################     %%%%%%%%%%%%%%%%%%%%\n",
      "                #######################     %%%%%%%%%%%%%%%%%%\n",
      "                 #######################     %%%%%%%%%%%%%%%%%\n",
      "                 ######################     %%%%%%%%%%%%%%%%%\n",
      "                  ####################     %%%%%%%%%%%%%%%%%\n",
      "                    #################     %%%%%%%%%%%%%%%%%\n",
      "                     ###############     %%%%%%%%%%%%%%%%\n",
      "                       ############     %%%%%%%%%%%%%%%\n",
      "                          ########     %%%%%%%%%%%%%%\n",
      "                                      %%%%%%%%%%%\n",
      "\n",
      "                 | The OpenMC Monte Carlo Code\n",
      "       Copyright | 2011-2023 MIT, UChicago Argonne LLC, and contributors\n",
      "         License | https://docs.openmc.org/en/latest/license.html\n",
      "         Version | 0.14.0\n",
      "        Git SHA1 | e1a8ee7794b441c992426f17fafe216391cbba83\n",
      "       Date/Time | 2024-01-21 01:12:34\n",
      "   MPI Processes | 1\n",
      "  OpenMP Threads | 4\n",
      "\n",
      " Reading model XML file './model.xml' ...\n",
      " WARNING: Other XML file input(s) are present. These files may be ignored in\n",
      "          favor of the ./model.xml file.\n",
      " Reading cross sections XML file...\n",
      " Reading U235 from\n",
      " /home/efra/simulations/openmc/data/endfb-viii.0-hdf5/neutron/U235.h5\n",
      " Reading U238 from\n",
      " /home/efra/simulations/openmc/data/endfb-viii.0-hdf5/neutron/U238.h5\n",
      " Reading O16 from\n",
      " /home/efra/simulations/openmc/data/endfb-viii.0-hdf5/neutron/O16.h5\n",
      " Reading Fe54 from\n",
      " /home/efra/simulations/openmc/data/endfb-viii.0-hdf5/neutron/Fe54.h5\n",
      " Reading Fe56 from\n",
      " /home/efra/simulations/openmc/data/endfb-viii.0-hdf5/neutron/Fe56.h5\n",
      " Reading Fe57 from\n",
      " /home/efra/simulations/openmc/data/endfb-viii.0-hdf5/neutron/Fe57.h5\n",
      " Reading Fe58 from\n",
      " /home/efra/simulations/openmc/data/endfb-viii.0-hdf5/neutron/Fe58.h5\n",
      " Reading C12 from\n",
      " /home/efra/simulations/openmc/data/endfb-viii.0-hdf5/neutron/C12.h5\n",
      " Reading C13 from\n",
      " /home/efra/simulations/openmc/data/endfb-viii.0-hdf5/neutron/C13.h5\n",
      " Reading He3 from\n",
      " /home/efra/simulations/openmc/data/endfb-viii.0-hdf5/neutron/He3.h5\n",
      " Reading He4 from\n",
      " /home/efra/simulations/openmc/data/endfb-viii.0-hdf5/neutron/He4.h5\n",
      " Reading Na23 from\n",
      " /home/efra/simulations/openmc/data/endfb-viii.0-hdf5/neutron/Na23.h5\n",
      " Minimum neutron data temperature: 600 K\n",
      " Maximum neutron data temperature: 600 K\n",
      " Preparing distributed cell instances...\n",
      " Writing summary.h5 file...\n",
      " Maximum neutron transport energy: 20000000 eV for C13\n",
      " Initializing source particles...\n",
      "\n",
      " ====================>     K EIGENVALUE SIMULATION     <====================\n",
      "\n",
      "  Bat./Gen.      k            Average k\n",
      "  =========   ========   ====================\n",
      "        1/1    1.03811\n",
      "        2/1    0.94328\n",
      "        3/1    0.95501\n",
      "        4/1    0.86484\n",
      "        5/1    0.93913\n",
      "        6/1    0.86621\n",
      "        7/1    0.88291\n",
      "        8/1    0.90478\n",
      "        9/1    0.89161\n",
      "       10/1    0.88785\n",
      "       11/1    0.97180\n",
      "       12/1    0.93039    0.95109 +/- 0.02071\n",
      "       13/1    0.88389    0.92869 +/- 0.02539\n",
      "       14/1    0.90063    0.92168 +/- 0.01928\n",
      "       15/1    0.95631    0.92861 +/- 0.01646\n",
      "       16/1    0.88794    0.92183 +/- 0.01505\n",
      "       17/1    0.95683    0.92683 +/- 0.01367\n",
      "       18/1    0.88186    0.92121 +/- 0.01310\n",
      "       19/1    0.88752    0.91746 +/- 0.01215\n",
      "       20/1    0.91716    0.91743 +/- 0.01087\n",
      "       21/1    0.95008    0.92040 +/- 0.01027\n",
      "       22/1    0.92893    0.92111 +/- 0.00940\n",
      "       23/1    0.87703    0.91772 +/- 0.00929\n",
      "       24/1    0.93901    0.91924 +/- 0.00873\n",
      "       25/1    0.90673    0.91841 +/- 0.00817\n",
      "       26/1    0.97336    0.92184 +/- 0.00838\n",
      "       27/1    0.93874    0.92284 +/- 0.00793\n",
      "       28/1    0.96217    0.92502 +/- 0.00779\n",
      "       29/1    0.96618    0.92719 +/- 0.00768\n",
      "       30/1    0.89900    0.92578 +/- 0.00742\n",
      "       31/1    0.88726    0.92394 +/- 0.00730\n",
      "       32/1    0.91593    0.92358 +/- 0.00697\n",
      "       33/1    0.85481    0.92059 +/- 0.00730\n",
      "       34/1    0.90381    0.91989 +/- 0.00702\n",
      "       35/1    0.90207    0.91918 +/- 0.00677\n",
      "       36/1    0.92401    0.91936 +/- 0.00651\n",
      "       37/1    0.89790    0.91857 +/- 0.00631\n",
      "       38/1    0.90324    0.91802 +/- 0.00611\n",
      "       39/1    0.87383    0.91650 +/- 0.00609\n",
      "       40/1    0.87250    0.91503 +/- 0.00606\n",
      "       41/1    0.93372    0.91563 +/- 0.00589\n",
      "       42/1    0.87893    0.91449 +/- 0.00582\n",
      "       43/1    0.87945    0.91343 +/- 0.00574\n",
      "       44/1    0.93316    0.91401 +/- 0.00560\n",
      "       45/1    0.89428    0.91344 +/- 0.00547\n",
      "       46/1    0.92978    0.91390 +/- 0.00533\n",
      "       47/1    0.85546    0.91232 +/- 0.00542\n",
      "       48/1    0.91058    0.91227 +/- 0.00528\n",
      "       49/1    0.95798    0.91344 +/- 0.00527\n",
      "       50/1    0.91069    0.91337 +/- 0.00514\n",
      " Creating state point statepoint.50.h5...\n",
      "\n",
      " =======================>     TIMING STATISTICS     <=======================\n",
      "\n",
      " Total time for initialization     = 6.8325e+00 seconds\n",
      "   Reading cross sections          = 6.7242e+00 seconds\n",
      " Total time in simulation          = 1.9000e+01 seconds\n",
      "   Time in transport only          = 1.8873e+01 seconds\n",
      "   Time in inactive batches        = 3.3061e+00 seconds\n",
      "   Time in active batches          = 1.5693e+01 seconds\n",
      "   Time synchronizing fission bank = 1.4473e-02 seconds\n",
      "     Sampling source sites         = 9.0287e-03 seconds\n",
      "     SEND/RECV source sites        = 4.5522e-03 seconds\n",
      "   Time accumulating tallies       = 7.6383e-02 seconds\n",
      "   Time writing statepoints        = 1.8447e-02 seconds\n",
      " Total time for finalization       = 4.5890e-04 seconds\n",
      " Total time elapsed                = 2.5853e+01 seconds\n",
      " Calculation Rate (inactive)       = 3024.67 particles/second\n",
      " Calculation Rate (active)         = 2548.84 particles/second\n",
      "\n",
      " ============================>     RESULTS     <============================\n",
      "\n",
      " k-effective (Collision)     = 0.91417 +/- 0.00515\n",
      " k-effective (Track-length)  = 0.91337 +/- 0.00514\n",
      " k-effective (Absorption)    = 0.90527 +/- 0.00542\n",
      " Combined k-effective        = 0.90996 +/- 0.00428\n",
      " Leakage Fraction            = 0.43707 +/- 0.00276\n",
      "\n"
     ]
    },
    {
     "data": {
      "text/plain": [
       "PosixPath('/home/efra/Documents/openmc/openmc_first_tutorial/statepoint.50.h5')"
      ]
     },
     "execution_count": 257,
     "metadata": {},
     "output_type": "execute_result"
    }
   ],
   "source": [
    "model.run()"
   ]
  },
  {
   "cell_type": "markdown",
   "id": "11981ac4-d73d-437a-8edc-9ff80ba314e4",
   "metadata": {},
   "source": [
    "---"
   ]
  },
  {
   "cell_type": "markdown",
   "id": "33113872-36ed-4867-a173-0883510ddda4",
   "metadata": {},
   "source": [
    "# Advanced Tallies in OpenMC: Pincell Power Distributions\n",
    "\n"
   ]
  },
  {
   "cell_type": "markdown",
   "id": "2c8a723f-1253-4a55-be18-c6bd16b05f49",
   "metadata": {},
   "source": [
    "For this part of the exercise we're going to setup tallies that will provide us the pincell powers in the assembly we've created."
   ]
  },
  {
   "cell_type": "code",
   "execution_count": null,
   "id": "70f98db4-f1d0-4fdf-804f-ed29ff797da6",
   "metadata": {},
   "outputs": [],
   "source": [
    "# define ANL 33 group structure\n",
    "ANL_33 = \\\n",
    "[1.000000E-05, \n",
    "4.174600E-01,\n",
    "5.315800E-01,\n",
    "3.927900E+00,\n",
    "8.315300E+00,\n",
    "1.371000E+01,\n",
    "2.260300E+01,\n",
    "3.726700E+01,\n",
    "6.144200E+01,\n",
    "1.013000E+02,\n",
    "1.670200E+02,\n",
    "2.753600E+02,\n",
    "4.540000E+02,\n",
    "7.485200E+02,\n",
    "1.234100E+03,\n",
    "2.034700E+03,\n",
    "3.354600E+03,\n",
    "5.530800E+03,\n",
    "9.118800E+03,\n",
    "1.503400E+04,\n",
    "2.478700E+04,\n",
    "4.086800E+04,\n",
    "6.737900E+04,\n",
    "1.110900E+05,\n",
    "1.831600E+05,\n",
    "3.019700E+05,\n",
    "4.978700E+05,\n",
    "8.208500E+05,\n",
    "1.353400E+06,\n",
    "2.231300E+06,\n",
    "3.678800E+06,\n",
    "6.065300E+06,\n",
    "1.000000E+07,\n",
    "1.419100E+07]"
   ]
  },
  {
   "cell_type": "code",
   "execution_count": null,
   "id": "20e8ca52-8c9c-4feb-8642-b2ee9b51d098",
   "metadata": {},
   "outputs": [],
   "source": [
    "import openmc.lib\n",
    "def display_pin_powers(statepoint_file, pincell_tally, global_tally, origin):\n",
    "\n",
    "    assembly_power = 65 / 79 * 1e6 # [W] (zero power test)\n",
    "\n",
    "    with openmc.StatePoint(statepoint_file, autolink=False) as sp:\n",
    "        pincell_tally = sp.get_tally(name=pincell_tally.name)\n",
    "        tally_global_out = sp.get_tally(name=global_tally.name)\n",
    "    \n",
    "    total_kappa_fission = tally_global_out.get_values(scores=['kappa-fission']).flatten()[0]\n",
    "\n",
    "    pincell_powers = pincell_tally.get_values(scores=['kappa-fission']).flatten()\n",
    "    pincell_powers *= assembly_power / total_kappa_fission\n",
    "    dcell_filter = pincell_tally.find_filter(openmc.DistribcellFilter)\n",
    "    dcell = dcell_filter.bins[0]\n",
    "    \n",
    "    try:\n",
    "        print('Initializing OpenMC...')\n",
    "        openmc.lib.init(['-c'])\n",
    "        print('Done')\n",
    "        p = openmc.lib.plot._PlotBase()\n",
    "        p.origin = origin\n",
    "        p.width = 7\n",
    "        p.height = 7\n",
    "        p.h_res = 400\n",
    "        p.v_res = 400\n",
    "        p.colorby = 'cell'\n",
    "        p.basis = 'xy'\n",
    "        print('Generating id map...')\n",
    "        id_mapping = openmc.lib.id_map(p)\n",
    "        print('Done')\n",
    "    finally:\n",
    "        print('Shutting down OpenMC...')\n",
    "        openmc.lib.finalize()\n",
    "        print('Done')\n",
    "\n",
    "    cell_map = id_mapping[:, :, 0]\n",
    "    instance_map = id_mapping[:, :, 1]\n",
    "    fuel_mask = cell_map == dcell\n",
    "    power_mapping = np.zeros_like(cell_map, dtype=float)\n",
    "    \n",
    "    for i, h in enumerate(pincell_powers.flatten()):\n",
    "        instance_mask = instance_map == i\n",
    "        power_mapping[np.logical_and(fuel_mask, instance_mask)] = h\n",
    "\n",
    "    power_mapping[power_mapping == 0.0] = np.nan\n",
    "    \n",
    "    plt.figure(figsize=(10,10))\n",
    "    img = plt.imshow(power_mapping, extent=[-3.5, 3.5, -3.5, 3.5])\n",
    "    plt.ylabel('Y')\n",
    "    plt.xlabel('X')\n",
    "    plt.colorbar(img, label='Power (W)')\n",
    "    plt.show()"
   ]
  },
  {
   "cell_type": "code",
   "execution_count": null,
   "id": "6a034eea-9564-4a59-a4b3-f4da88a75537",
   "metadata": {
    "scrolled": true
   },
   "outputs": [],
   "source": [
    "display_pin_powers(statepoint, tally_pin_power, tally_global, (0.0, 0.0, 0.0))"
   ]
  },
  {
   "cell_type": "code",
   "execution_count": null,
   "id": "ca8b9502-b837-426f-a2ba-53dac4da516d",
   "metadata": {},
   "outputs": [],
   "source": [
    "import random\n",
    "random.choice(list(root_cell.region.get_surfaces().values())).boundary_type = 'vacuum'"
   ]
  },
  {
   "cell_type": "code",
   "execution_count": null,
   "id": "b48a929b-956a-4010-844d-cf8b420b9cd8",
   "metadata": {},
   "outputs": [],
   "source": []
  }
 ],
 "metadata": {
  "kernelspec": {
   "display_name": "Python 3 (ipykernel)",
   "language": "python",
   "name": "python3"
  },
  "language_info": {
   "codemirror_mode": {
    "name": "ipython",
    "version": 3
   },
   "file_extension": ".py",
   "mimetype": "text/x-python",
   "name": "python",
   "nbconvert_exporter": "python",
   "pygments_lexer": "ipython3",
   "version": "3.12.1"
  }
 },
 "nbformat": 4,
 "nbformat_minor": 5
}
